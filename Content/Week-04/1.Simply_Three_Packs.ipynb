{
 "cells": [
  {
   "cell_type": "markdown",
   "metadata": {
    "slideshow": {
     "slide_type": "slide"
    }
   },
   "source": [
    "## **<font color=orange>Lecture Notes/Tutorials by Dr. Bilgic @RIT</font>**\n",
    "# **Intro to Python and JupyterLab**\n",
    "### <font color=blue>Topics: Simply What Numpy, Pandas, and Matplotlib Packs are! </font>\n",
    "\n",
    "Your Task: \n",
    "\n",
    "1) Review the code, comments\n",
    "\n",
    "2) Practice in a new notebook"
   ]
  },
  {
   "cell_type": "markdown",
   "metadata": {},
   "source": [
    "***"
   ]
  },
  {
   "cell_type": "markdown",
   "metadata": {},
   "source": [
    "### **Table of Contents** <a class=\"anchor\" id=\"0.1\"></a>\n",
    "\n",
    "- [What is Jupyter-Lab?](#jup)\n",
    "- [What is Numpy?](#num)\n",
    "- [What is Pandas?](#pan)\n",
    "    - [Six codes that we should use whenever data set is imported](#six)\n",
    "    - [Data Reorganization, Missingness and Manipulation with Pandas](#manip1)\n",
    "    - [Manipulating More with Pandas](#manip2)\n",
    "- [What is Matplotlib?](#mat)\n",
    "- [References](#ref)\n",
    "- [Kitchen](#ref)\n"
   ]
  },
  {
   "cell_type": "markdown",
   "metadata": {},
   "source": [
    "***"
   ]
  },
  {
   "cell_type": "markdown",
   "metadata": {},
   "source": [
    "## What is Jupyter-Lab? <a class=\"anchor\" id=\"jup\"></a>\n",
    "\n",
    "- Visit [main resource](https://jupyterlab.readthedocs.io/en/stable/getting_started/overview.html) about Jupyter-Lab\n",
    "\n",
    "- Browse the lab features: buttons, left area, contextual help, pip, create new\n",
    "\n",
    "- Click on Help >> JupyterLab Reference >> Starting\n",
    "\n",
    "- [Shortcuts](https://towardsdatascience.com/jypyter-notebook-shortcuts-bf0101a98330)"
   ]
  },
  {
   "cell_type": "markdown",
   "metadata": {},
   "source": [
    "## **What is Numpy?** <a class=\"anchor\" id=\"num\"></a>\n"
   ]
  },
  {
   "cell_type": "markdown",
   "metadata": {},
   "source": [
    "### What is:\n",
    "\n",
    "- NumPy is a Python library used for working with arrays, but they are slow to process.\n",
    "\n",
    "- It also has functions for working in domain of linear algebra, fourier transform, and matrices.\n",
    "\n",
    "- NumPy was created in 2005 by Travis Oliphant. It is an open source project and you can use it freely.\n",
    "\n",
    "- NumPy stands for Numerical Python.\n",
    "\n",
    "- NumPy is a Python library and is written partially in Python, but most of the parts that require fast computation are written in C or C++.\n",
    "\n",
    "- The source code for NumPy is located at this github repository https://github.com/numpy/numpy.\n"
   ]
  },
  {
   "cell_type": "markdown",
   "metadata": {},
   "source": [
    "### Import the numpy with notebook and terminal:\n",
    "\n",
    "Notebook:\n",
    "\n",
    "> import numpy as np\n",
    "\n",
    "Terminal:\n",
    "\n",
    "> conda install numpy\n",
    "\n",
    "> !pip install numpy\n"
   ]
  },
  {
   "cell_type": "markdown",
   "metadata": {},
   "source": [
    "### Practices"
   ]
  },
  {
   "cell_type": "code",
   "execution_count": null,
   "metadata": {},
   "outputs": [],
   "source": [
    "# Python evaluates the code\n",
    "print(\"Hello Universe\")\n",
    "\n",
    "i=0\n",
    "while i<5:\n",
    "    print(i)\n",
    "    i+=1\n",
    "    "
   ]
  },
  {
   "cell_type": "code",
   "execution_count": null,
   "metadata": {},
   "outputs": [],
   "source": [
    "# Create an alias (np) with the as keyword while importing\n",
    "import numpy as np\n",
    "\n",
    "# Which version\n",
    "print(np.__version__)\n"
   ]
  },
  {
   "cell_type": "code",
   "execution_count": null,
   "metadata": {},
   "outputs": [],
   "source": [
    "# Create an array\n",
    "import numpy as np #redandant to run every time. one time is enough (see the above code)\n",
    "\n",
    "# Assign the array to arr 1-D array (vector)\n",
    "arr = np.array( [1, 2, 3, 4, 5] )\n",
    "\n",
    "# Print the object\n",
    "print(arr)\n",
    "\n",
    "# Type of the object\n",
    "print(type(arr))\n"
   ]
  },
  {
   "cell_type": "code",
   "execution_count": null,
   "metadata": {},
   "outputs": [],
   "source": [
    "# Create a 0-D array with value 42\n",
    "\n",
    "arr = np.array(42)\n",
    "\n",
    "print(arr)"
   ]
  },
  {
   "cell_type": "code",
   "execution_count": null,
   "metadata": {},
   "outputs": [],
   "source": [
    "# Create a 2-D array containing two arrays with the values 1,2,3 and 4,5,6 (matrix)\n",
    "\n",
    "arr = np.array( [ [1, 2, 3], [4, 5, 6] ] )\n",
    "\n",
    "print(arr)"
   ]
  },
  {
   "cell_type": "code",
   "execution_count": null,
   "metadata": {},
   "outputs": [],
   "source": [
    "# Create a 3-D array with two 2-D arrays, both containing two arrays with the values 1,2,3 and 4,5,6:\n",
    "\n",
    "arr = np.array( [ [[1, 2, 3], [4, 5, 6]], [[7, 8, 9], [10, 11, 12]] ] )\n",
    "\n",
    "print(arr)"
   ]
  },
  {
   "cell_type": "code",
   "execution_count": null,
   "metadata": {},
   "outputs": [],
   "source": [
    "# Check how many dimensions the arrays have:\n",
    "\n",
    "a = np.array(42)\n",
    "b = np.array([1, 2, 3, 4, 5]) #1-D,vector\n",
    "c = np.array([[1, 2, 3], [4, 5, 6]]) #2-D,matrix\n",
    "d = np.array([[[1, 2, 3], [4, 5, 6]], [[1, 2, 3], [4, 5, 6]]]) #3-D\n",
    "\n",
    "print(a.ndim)\n",
    "print(b.ndim)\n",
    "print(c.ndim)\n",
    "print(d.ndim)"
   ]
  },
  {
   "cell_type": "code",
   "execution_count": null,
   "metadata": {},
   "outputs": [],
   "source": [
    "# Get the first element from the following array:\n",
    "\n",
    "arr = np.array([1, 2, 3, 4])\n",
    "\n",
    "print(arr[0]) #try: 0, 2, -1"
   ]
  },
  {
   "cell_type": "code",
   "execution_count": null,
   "metadata": {},
   "outputs": [],
   "source": [
    "# Access the 2nd element on 1st dim:\n",
    "\n",
    "arr = np.array([[1,2,3,4,5], [6,7,8,9,10]])\n",
    "\n",
    "print('2nd element on 1st dim: ', arr[0, 1])"
   ]
  },
  {
   "cell_type": "code",
   "execution_count": null,
   "metadata": {},
   "outputs": [],
   "source": [
    "print(arr)"
   ]
  },
  {
   "cell_type": "code",
   "execution_count": null,
   "metadata": {},
   "outputs": [],
   "source": [
    "# Question\n",
    "\n",
    "#print('4nd element on 2st dim: ', arr[?, ??]) #4th column, 2nd row\n",
    "#print('4nd element on 2st dim: ', arr[1, 3]) #4th column, 2nd row\n",
    "#print('4nd element on 2st dim: ', arr[1, -2]) #4th column, 2nd row\n",
    "print('4th element on 2nd dim: ', arr[-1, -2]) #4th column, 2nd row\n"
   ]
  },
  {
   "cell_type": "code",
   "execution_count": null,
   "metadata": {},
   "outputs": [],
   "source": [
    "# Slice elements from index 1 to index 5 from the following array:\n",
    "\n",
    "import numpy as np\n",
    "\n",
    "arr = np.array([1, 2, 3, 4, 5, 6, 7]) #1 is index 0.\n",
    "\n",
    "print(arr[1:5]) #see 6 is not included\n"
   ]
  },
  {
   "cell_type": "code",
   "execution_count": null,
   "metadata": {},
   "outputs": [],
   "source": [
    "# Slice elements from index 4 to the end of the array:\n",
    "\n",
    "arr = np.array([1, 2, 3, 4, 5, 6, 7])\n",
    "\n",
    "print(arr[4:])"
   ]
  },
  {
   "cell_type": "code",
   "execution_count": null,
   "metadata": {},
   "outputs": [],
   "source": [
    "# Slice elements from the beginning to index 4 (not included):\n",
    "\n",
    "import numpy as np\n",
    "\n",
    "arr = np.array([1, 2, 3, 4, 5, 6, 7])\n",
    "\n",
    "print(arr[:4])"
   ]
  },
  {
   "cell_type": "markdown",
   "metadata": {},
   "source": [
    "***"
   ]
  },
  {
   "cell_type": "markdown",
   "metadata": {},
   "source": [
    "> ### Keep practicing on it from [W3Schools](https://www.w3schools.com/python/numpy_array_slicing.asp). We will revisit Numpy.\n",
    "> A Task: Visit [Source](https://www.w3schools.com/python/numpy_intro.asp) for more info and practice. "
   ]
  },
  {
   "cell_type": "markdown",
   "metadata": {},
   "source": [
    "***"
   ]
  },
  {
   "cell_type": "markdown",
   "metadata": {},
   "source": [
    "## **What is Pandas?** <a class=\"anchor\" id=\"pan\"></a>"
   ]
  },
  {
   "cell_type": "markdown",
   "metadata": {},
   "source": [
    "### What is:\n",
    "\n",
    "- Pandas is a Python library used for working with data sets.\n",
    "\n",
    "- It has functions for analyzing, cleaning, exploring, and manipulating data.\n",
    "\n",
    "- Pandas allows us to analyze big data and make conclusions based on statistical theories.\n",
    "\n",
    "- Pandas can clean messy data sets, and make them readable and relevant.\n",
    "\n",
    "- The name \"Pandas\" has a reference to both \"Panel Data\", and \"Python Data Analysis\" and was created by Wes McKinney in 2008.\n",
    "\n",
    "- The source code for Pandas is located at this github repository https://github.com/pandas-dev/pandas.\n",
    "\n",
    "- Pandas are fast, also able to delete rows that are not relevant, or contains wrong values, like empty or NULL values. This is called cleaning the data.\n"
   ]
  },
  {
   "cell_type": "markdown",
   "metadata": {},
   "source": [
    "### Import the pandas with notebook and terminal:\n",
    "\n",
    "Notebook:\n",
    "> import pandas as pd\n",
    "\n",
    "Terminal:\n",
    "> conda install pandas\n",
    "\n",
    "> pip install pandas"
   ]
  },
  {
   "cell_type": "markdown",
   "metadata": {},
   "source": [
    "### Practices"
   ]
  },
  {
   "cell_type": "code",
   "execution_count": null,
   "metadata": {},
   "outputs": [],
   "source": [
    "# Create an alias (np) with the as keyword while importing\n",
    "import pandas as pd\n",
    "\n",
    "# Which version\n",
    "print(pd.__version__)\n"
   ]
  },
  {
   "cell_type": "code",
   "execution_count": null,
   "metadata": {},
   "outputs": [],
   "source": [
    "# Make dictionary data a Data Frame\n",
    "# The keys of the dictionary become the labels\n",
    "import pandas as pd\n",
    "\n",
    "mydataset = {\n",
    "  'cars': [\"BMW\", \"Volvo\", \"Ford\"],\n",
    "  'passings': [3, 7, 2]\n",
    "}\n",
    "\n",
    "myvar = pd.DataFrame(mydataset)\n",
    "\n",
    "print(myvar)\n",
    "\n",
    "\n"
   ]
  },
  {
   "cell_type": "code",
   "execution_count": null,
   "metadata": {},
   "outputs": [],
   "source": [
    "# Create a simple Pandas Series from a list:\n",
    "\n",
    "a = [1, 7, 2]\n",
    "\n",
    "myvar = pd.Series(a)\n",
    "\n",
    "print(myvar)\n"
   ]
  },
  {
   "cell_type": "code",
   "execution_count": null,
   "metadata": {},
   "outputs": [],
   "source": [
    "# Create labels\n",
    "\n",
    "a = [1, 7, 2]\n",
    "\n",
    "myvar = pd.Series(a, index = [\"x\", \"y\", \"z\"])\n",
    "\n",
    "print(myvar)\n",
    "\n",
    "#Return the value of \"y\":\n",
    "print(myvar[\"y\"])"
   ]
  },
  {
   "cell_type": "code",
   "execution_count": null,
   "metadata": {},
   "outputs": [],
   "source": [
    "print(myvar[2]) #index starts from 0"
   ]
  },
  {
   "cell_type": "code",
   "execution_count": null,
   "metadata": {},
   "outputs": [],
   "source": [
    "# Create a simple Pandas DataFrame:\n",
    "\n",
    "data = {\n",
    "  \"calories\": [420, 380, 390],\n",
    "  \"duration\": [50, 40, 45]\n",
    "}\n",
    "\n",
    "#load data into a DataFrame object:\n",
    "df = pd.DataFrame(data)\n",
    "\n",
    "print(df) "
   ]
  },
  {
   "cell_type": "code",
   "execution_count": null,
   "metadata": {},
   "outputs": [],
   "source": [
    "# Pandas use the loc attribute to return one or more specified row(s)\n",
    "#refer to the row index:\n",
    "print(df.loc[0]) #what is .iloc?\n"
   ]
  },
  {
   "cell_type": "code",
   "execution_count": null,
   "metadata": {},
   "outputs": [],
   "source": [
    "# Return row 0 and 1:\n",
    "#use a list of indexes:\n",
    "print(df.loc[[0, 1]])"
   ]
  },
  {
   "cell_type": "code",
   "execution_count": null,
   "metadata": {},
   "outputs": [],
   "source": [
    "# A useful command\n",
    "# Check the current directory\n",
    "!pwd\n"
   ]
  },
  {
   "cell_type": "code",
   "execution_count": null,
   "metadata": {},
   "outputs": [],
   "source": [
    "# Load a comma separated file (CSV file) into a DataFrame:\n",
    "# Post train-titanic.csv under this notebook's folder.\n",
    "# Check the path of the data set: Mine data set is \n",
    "\n",
    "import pandas as pd\n",
    "\n",
    "#df_csv = pd.read_csv('./1.DataAnalytics/2. Data Analysis and Visualization with Python/train-titanic.csv') #Kaggle\n",
    "df_csv = pd.read_csv('train-titanic.csv', \n",
    "                     index_col=\"PassengerId\") #from Kaggle. index is PassengerId\n",
    "\n",
    "print(df_csv.tail()) #try: head(), tail()"
   ]
  },
  {
   "cell_type": "markdown",
   "metadata": {},
   "source": [
    "$\\alpha$"
   ]
  },
  {
   "cell_type": "markdown",
   "metadata": {},
   "source": [
    "### Six codes that we should use after data set is imported <a class=\"anchor\" id=\"six\"></a>"
   ]
  },
  {
   "cell_type": "code",
   "execution_count": null,
   "metadata": {},
   "outputs": [],
   "source": [
    "#df_csv.shape #dim\n",
    "#df_csv.info() #types and all missing,\n",
    "#df_csv.head(10) #first 10 observation, \n",
    "#df_csv.tail(10) #last 10 observation, \n",
    "#df_csv.describe() #show only numerical summaries,\n",
    "df_csv.describe(include='all') #include all variables including numerical and categorical.\n"
   ]
  },
  {
   "cell_type": "code",
   "execution_count": null,
   "metadata": {},
   "outputs": [],
   "source": [
    "# Info about Data Set\n",
    "print(df_csv.info()) #try: head(), tail()\n"
   ]
  },
  {
   "cell_type": "code",
   "execution_count": null,
   "metadata": {},
   "outputs": [],
   "source": [
    "# Load the CSV into a DataFrame:\n",
    "import pandas as pd\n",
    "\n",
    "#df_csv.to_string()\n"
   ]
  },
  {
   "cell_type": "code",
   "execution_count": null,
   "metadata": {},
   "outputs": [],
   "source": [
    "# Return a new Data Frame with no empty cells:\n",
    "# This is not a good practice. Run, but don't do!\n",
    "# Remove all rows with NULL values: If you want to change the original DataFrame, use the inplace = True argument\n",
    "\n",
    "df_csv.dropna(inplace = True)\n",
    "\n",
    "#print(df_csv.to_string())"
   ]
  },
  {
   "cell_type": "code",
   "execution_count": null,
   "metadata": {},
   "outputs": [],
   "source": [
    "# We lost the rows that have at least one NA\n",
    "# This is not a good practice. Don't do!\n",
    "print(df_csv.info()) #try: head(), tail()"
   ]
  },
  {
   "cell_type": "code",
   "execution_count": null,
   "metadata": {},
   "outputs": [],
   "source": [
    "# Print the replaced data set. lost rows. not good practice\n",
    "print(df_csv.info()) #try: head(), tail()"
   ]
  },
  {
   "cell_type": "code",
   "execution_count": null,
   "metadata": {},
   "outputs": [],
   "source": [
    "# Recover the data set\n",
    "df_csv = pd.read_csv('train-titanic.csv')\n",
    "\n",
    "print(df_csv.info()) #try: head(), tail()\n",
    "\n"
   ]
  },
  {
   "cell_type": "markdown",
   "metadata": {},
   "source": [
    "### Let's check the dim and first ten observations"
   ]
  },
  {
   "cell_type": "code",
   "execution_count": null,
   "metadata": {},
   "outputs": [],
   "source": [
    "print(df_csv.head(10))\n"
   ]
  },
  {
   "cell_type": "code",
   "execution_count": null,
   "metadata": {},
   "outputs": [],
   "source": [
    "# Dim of the data\n",
    "df_csv.shape"
   ]
  },
  {
   "cell_type": "code",
   "execution_count": null,
   "metadata": {},
   "outputs": [],
   "source": [
    "df_csv.head(10)"
   ]
  },
  {
   "cell_type": "code",
   "execution_count": null,
   "metadata": {},
   "outputs": [],
   "source": [
    "# Copy the data set, and play with missing imputation\n",
    "# Replace NULL values with the number 130: just demo, not useful\n",
    "\n",
    "df_play = df_csv.copy()\n",
    "\n",
    "df_play.fillna(130, inplace = True)\n",
    "\n",
    "print(df_play.info())\n",
    "\n",
    "# Print first 10\n",
    "print(df_play.head(10))"
   ]
  },
  {
   "cell_type": "code",
   "execution_count": null,
   "metadata": {},
   "outputs": [],
   "source": [
    "# Again copy\n",
    "# Replace NULL values in the \"Age\" columns with the number 30:\n",
    "df_play = df_csv.copy()\n",
    "\n",
    "df_play[\"Age\"].fillna(30, inplace = True)\n",
    "\n",
    "# Print first 10\n",
    "print(df_play.head(10))"
   ]
  },
  {
   "cell_type": "code",
   "execution_count": null,
   "metadata": {},
   "outputs": [],
   "source": [
    "# Again copy\n",
    "# Calculate the MEAN, and replace any empty values with it:\n",
    "df_play = df_csv.copy()\n",
    "\n",
    "x = df_play[\"Age\"].mean() \n",
    "\n",
    "df_play[\"Age\"].fillna(x, inplace = True)\n",
    "\n",
    "print(df_play.head(10))\n",
    "\n",
    "#try .mean() .median() for Quantitative data; .mode() for Qualitative data"
   ]
  },
  {
   "cell_type": "code",
   "execution_count": null,
   "metadata": {},
   "outputs": [],
   "source": [
    "# Calculate the MODE, and replace any empty values with it:\n",
    "df_play = df_csv.copy()\n",
    "\n",
    "y = df_play[\"Cabin\"].mode()[0] \n",
    "\n",
    "df_play[\"Cabin\"].fillna(y, inplace = True)\n",
    "\n",
    "print(df_play.head(10))"
   ]
  },
  {
   "cell_type": "markdown",
   "metadata": {},
   "source": [
    "### Data Reorganization, Missingness and Manipulation with Pandas <a class=\"anchor\" id=\"manip1\"></a>"
   ]
  },
  {
   "cell_type": "code",
   "execution_count": null,
   "metadata": {},
   "outputs": [],
   "source": [
    "# How to rename column names\n",
    "# Visit https://towardsdatascience.com/21-pandas-operations-for-absolute-beginners-5653e54f4cda\n",
    "\n",
    "df = pd.DataFrame(data={'a':[1,1,3,4,5],\n",
    "                        'b':[0,0,5,10,15]})\n",
    "\n",
    "new_df = df.rename({'a':'new_a','b':'new_b'})\n"
   ]
  },
  {
   "cell_type": "code",
   "execution_count": null,
   "metadata": {},
   "outputs": [],
   "source": [
    "print(new_df)\n"
   ]
  },
  {
   "cell_type": "code",
   "execution_count": null,
   "metadata": {},
   "outputs": [],
   "source": [
    "# How to get column names in a list?\n",
    "\n",
    "col = df.columns.tolist()\n",
    "\n",
    "print(col)\n"
   ]
  },
  {
   "cell_type": "code",
   "execution_count": null,
   "metadata": {},
   "outputs": [],
   "source": [
    "# How to get the frequency of values in a series?\n",
    "# Just syntax is below\n",
    "# Need to adjust the code for the data\n",
    "\n",
    "df[col].value_counts() #returns a mapper of key,frequency pair\n",
    "\n",
    "#df[col].value_counts()[key] #to get frequency of a key value"
   ]
  },
  {
   "cell_type": "code",
   "execution_count": null,
   "metadata": {},
   "outputs": [],
   "source": [
    "# How to reset an index to an existing column or another list or array?\n",
    "\n",
    "new_df = df.reset_index(drop=True,inplace=False)"
   ]
  },
  {
   "cell_type": "code",
   "execution_count": null,
   "metadata": {},
   "outputs": [],
   "source": [
    "# Your turn\n",
    "# Define list_of_cols, col_name, list_of_cols_to_drop\n",
    "\n",
    "list_of_cols = ['a','b', 'c']\n",
    "\n",
    "col_name = 'a'\n",
    "\n",
    "list_of_cols_to_drop =['b','c']\n",
    "\n",
    "# then run the following codes"
   ]
  },
  {
   "cell_type": "code",
   "execution_count": null,
   "metadata": {},
   "outputs": [],
   "source": [
    "# How to remove a column?\n",
    "# define list_of_cols_to_drop\n",
    "list_of_cols_to_drop = 'a'\n",
    "\n",
    "df.drop(columns = list_of_cols_to_drop)"
   ]
  },
  {
   "cell_type": "code",
   "execution_count": null,
   "metadata": {},
   "outputs": [],
   "source": [
    "# How to change the index in a data frame?\n",
    "\n",
    "df.set_index('b',inplace=True)\n",
    "\n",
    "print(df)"
   ]
  },
  {
   "cell_type": "code",
   "execution_count": null,
   "metadata": {},
   "outputs": [],
   "source": [
    "# How to remove rows or columns if they have nan values?\n",
    "\n",
    "df.dropna(axis=0, inplace=True)"
   ]
  },
  {
   "cell_type": "markdown",
   "metadata": {},
   "source": [
    "***"
   ]
  },
  {
   "cell_type": "markdown",
   "metadata": {},
   "source": [
    "Let's go back to the titanic data set."
   ]
  },
  {
   "cell_type": "code",
   "execution_count": null,
   "metadata": {},
   "outputs": [],
   "source": [
    "# How to slice a data frame given a condition?\n",
    "# Just illustration, don't run\n",
    "\n",
    "df = pd.read_csv('train-titanic.csv')\n",
    "\n",
    "mask = df['age'] == age_value \n",
    "\n",
    "#or\n",
    "mask = df['age'].isin(list_of_age_values)\n",
    "          \n",
    "result = df[mask]"
   ]
  },
  {
   "cell_type": "code",
   "execution_count": null,
   "metadata": {},
   "outputs": [],
   "source": [
    "# With multiple conditions, choose rows\n",
    "\n",
    "mask = (df['age']==age_value) & (df['height'] == height_value)\n",
    "\n",
    "result = df[mask]"
   ]
  },
  {
   "cell_type": "markdown",
   "metadata": {},
   "source": [
    "- How to slice a data frame given names of columns or index values of rows? Four ways:\n",
    "\n",
    "a) df.iat[1,2] provides the element at 1th row and 2nd column. Here it's important to note that number 1 doesn't correspond to 1 in index column of dataframe. It's totally possible that index in df does not have 1 at all. It's like python array indexing.\n",
    "\n",
    "b) df.at[first,col_name] provides the value in the row where index value is first and column name is col_name\n",
    "\n",
    "c) df.loc[list_of_indices,list_of_cols] \n",
    "eg df.loc[[4,5],['age','height']] slices dataframe for matching indices and column names\n",
    "\n",
    "d) df.iloc[[0,1],[5,6]] used for interger based indexing will return 0 and 1st row for 5th and 6th column.\n"
   ]
  },
  {
   "cell_type": "code",
   "execution_count": null,
   "metadata": {},
   "outputs": [],
   "source": [
    "# How to sort by a column?\n",
    "\n",
    "df.sort_values(by = list_of_cols, ascending=True)"
   ]
  },
  {
   "cell_type": "markdown",
   "metadata": {},
   "source": [
    "- How to apply a function to each element to a series?\n",
    "\n",
    "df['series_name'].apply(f) \n",
    "\n",
    "where f is the function you want to apply to each element of the series. If you also want to pass arguments to the custom function, you could modify it like this.\n",
    "\n",
    "def f(x,**kwargs):\n",
    "    #do_somthing\n",
    "    return value_to_store\n",
    "\n",
    "df['series_name'].apply(f, a= 1, b=2,c =3)\n",
    "\n",
    "If you want to apply a function to more than a series, then:\n",
    "\n",
    "def f(row):\n",
    "    age = row['age']\n",
    "    height = row['height']\n",
    "\n",
    "df[['age','height']].apply(f,axis=1)\n",
    "\n",
    "If you don't use axis=1, f will be applied to each element of both the series. axis=1 helps to pass age and height of each row for any manipulation you want."
   ]
  },
  {
   "cell_type": "code",
   "execution_count": null,
   "metadata": {},
   "outputs": [],
   "source": [
    "# How to apply a function to all elements in a data frame?\n",
    "\n",
    "new_df = df.applymap(f)"
   ]
  },
  {
   "cell_type": "code",
   "execution_count": null,
   "metadata": {},
   "outputs": [],
   "source": [
    "# How to slice a data frame if values of a series lie in a list?\n",
    "\n",
    "df[df['age'].isin(age_list)]\n",
    "\n",
    "# the opposite: data samples where age does not lie in the list use\n",
    "\n",
    "df[~df['age'].isin(age_list)]\n"
   ]
  },
  {
   "cell_type": "code",
   "execution_count": null,
   "metadata": {},
   "outputs": [],
   "source": [
    "# How to group-by column values and aggregate over another column or apply a function to it?\n",
    "\n",
    "df.groupby(['age']).agg({'height':'mean'})\n",
    "\n",
    "# want to group-by a certain column and convert all the corresponding grouped elements for other columns into a list\n",
    "df.groupby(['age']).agg(list)"
   ]
  },
  {
   "cell_type": "code",
   "execution_count": null,
   "metadata": {},
   "outputs": [],
   "source": [
    "# How to concatenate two data frames?\n",
    "#df1 --> name,age,height\n",
    "#df2---> name,age,height\n",
    "\n",
    "#the result data-frame will have the columns appended from the data-frames\n",
    "result = pd.concat([df1,df2],axis=0)\n",
    "\n",
    "#For horizontal concatenation\n",
    "#df1--> name,age\n",
    "#df2--->height,salary\n",
    "result = pd.concat([df1,df2], axis=1)"
   ]
  },
  {
   "cell_type": "markdown",
   "metadata": {},
   "source": [
    "- How to merge two data frames?\n",
    "\n",
    "For the previous example, assume you have an employee database forming two dataframes like\n",
    "\n",
    "df1--> name, age, height\n",
    "df2---> name, salary, pincode, sick_leaves_taken\n",
    "\n",
    "You may want to combine these two dataframe such that each row has all details of an employee. In order to acheive this, you would have to perform a merge operation.\n",
    "\n",
    "df1.merge(df2, on=['name'], how='inner')\n",
    "\n",
    "This operation will provide a dataframe where each row will comprise of name, age, height, salary, pincode, sick_leaves_taken. \n",
    "how = 'inner' means include the row in result if there is a matching name in both the data frames. \n",
    "\n",
    "- For more info on merge, [read.](https://pandas.pydata.org/pandas-docs/stable/reference/api/pandas.DataFrame.merge.html?highlight=merge#pandas.DataFrame.merge)"
   ]
  },
  {
   "cell_type": "markdown",
   "metadata": {},
   "source": [
    "### More Data Manipulation with Pandas <a class=\"anchor\" id=\"manip2\"></a>"
   ]
  },
  {
   "cell_type": "markdown",
   "metadata": {},
   "source": [
    "### Change data types"
   ]
  },
  {
   "cell_type": "code",
   "execution_count": null,
   "metadata": {},
   "outputs": [],
   "source": [
    "# creating a DataFrame \n",
    "df = pd.DataFrame({'srNo': [1, 2, 3], \n",
    "                   'Name': ['Geeks', 'for',  \n",
    "                            'Geeks'],  \n",
    "                   'id': [111, 222,  \n",
    "                          333]}) \n",
    "# show the dataframe \n",
    "print(df) \n",
    "  \n",
    "# show the datatypes \n",
    "print(df.dtypes)"
   ]
  },
  {
   "cell_type": "code",
   "execution_count": null,
   "metadata": {},
   "outputs": [],
   "source": [
    "# changing the dataframe  \n",
    "# data types to string \n",
    "df = df.astype(str) \n",
    "  \n",
    "# show the data types  \n",
    "# of dataframe \n",
    "df.dtypes"
   ]
  },
  {
   "cell_type": "code",
   "execution_count": null,
   "metadata": {},
   "outputs": [],
   "source": [
    "# Convert the data type of “grade” column from “float” to “int”.\n",
    "# dictionary \n",
    "result_data = {'name': ['Alia', 'Rima', 'Kate', \n",
    "                        'John', 'Emma', 'Misa', \n",
    "                        'Matt'], \n",
    "        'grade': [13.5, 7.1, 11.5,  \n",
    "                  3.77, 8.21, 21.22, \n",
    "                  17.5], \n",
    "        'qualify': ['yes', 'no', 'yes', \n",
    "                    'no', 'no', 'yes',  \n",
    "                    'yes']} \n",
    "  \n",
    "# create a dataframe \n",
    "df = pd.DataFrame(result_data)\n",
    "\n",
    "# show the datatypes \n",
    "print(df.dtypes)\n",
    "\n",
    "# convert data type of grade column  \n",
    "# into integer \n",
    "df.grade = df.grade.astype(int) \n",
    "  \n",
    "# show the dataframe \n",
    "print(df) \n",
    "  \n",
    "# show the datatypes \n",
    "print(df.dtypes)"
   ]
  },
  {
   "cell_type": "code",
   "execution_count": null,
   "metadata": {},
   "outputs": [],
   "source": [
    "# We can pass pandas.to_numeric, pandas.to_datetime and pandas.to_timedelta \n",
    "# as argument to apply() function to change the datatype of one or more columns \n",
    "# to numeric, datetime and timedelta respectively.\n",
    "\n",
    "# sample dataframe  \n",
    "df = pd.DataFrame({  \n",
    "    'A': ['a', 'b', 'c',  \n",
    "          'd', 'e'],  \n",
    "    'B': [12, 22, 35, \n",
    "          '47', '55'],  \n",
    "    'C': [1.1, '2.1', 3.0, \n",
    "          '4.1', '5.1'] })  \n",
    "\n",
    "# show the datatypes \n",
    "print(df.dtypes)\n",
    "\n",
    "# show the dataframe \n",
    "print(df)\n",
    "\n",
    "# using apply method  \n",
    "df[['B', 'C']] = df[['B', 'C']].apply(pd.to_numeric)  \n",
    "  \n",
    "# show the data types \n",
    "# of all columns \n",
    "df.dtypes\n"
   ]
  },
  {
   "cell_type": "code",
   "execution_count": null,
   "metadata": {},
   "outputs": [],
   "source": [
    "# using numpy\n",
    "x = np.array([1, 2, 2.5])\n",
    "\n",
    "x.dtype"
   ]
  },
  {
   "cell_type": "code",
   "execution_count": null,
   "metadata": {},
   "outputs": [],
   "source": [
    "x.astype(int) #int, object, float64"
   ]
  },
  {
   "cell_type": "code",
   "execution_count": null,
   "metadata": {},
   "outputs": [],
   "source": [
    "# from num to booleen\n",
    "#run ? to read manual\n",
    "#?"
   ]
  },
  {
   "cell_type": "code",
   "execution_count": null,
   "metadata": {},
   "outputs": [],
   "source": [
    "# replace\n",
    "df = pd.DataFrame({'A': [0, 1, 2, 3, 4],\n",
    "                    'B': [5, 6, 7, 8, 9],\n",
    "                   'C': ['a', 'b', 'c', 'd', 'e']})\n",
    "print(df)\n",
    "\n",
    "df.replace(0, 5)\n",
    "\n",
    "print(df)"
   ]
  },
  {
   "cell_type": "code",
   "execution_count": null,
   "metadata": {},
   "outputs": [],
   "source": [
    "# from num to string\n",
    "d = {'col1': [1, 2, 3], 'col2': [4, 5, 6]}\n",
    "\n",
    "print(d)\n",
    "\n",
    "df = pd.DataFrame(d)\n",
    "\n",
    "print(df.dtypes)\n",
    "\n",
    "print(df)\n",
    "\n",
    "df2 = df.to_string()\n",
    "\n",
    "print(df2)"
   ]
  },
  {
   "cell_type": "markdown",
   "metadata": {},
   "source": [
    "### Obtain only Categorical columns"
   ]
  },
  {
   "cell_type": "code",
   "execution_count": null,
   "metadata": {},
   "outputs": [],
   "source": [
    "df.head()"
   ]
  },
  {
   "cell_type": "code",
   "execution_count": null,
   "metadata": {},
   "outputs": [],
   "source": [
    "# Need adjustment\n",
    "categorical = df.dtypes[df.dtypes == 'object'].index\n",
    "print(categorical)\n",
    "df[categorical].describe()"
   ]
  },
  {
   "cell_type": "markdown",
   "metadata": {},
   "source": [
    "### Change labels"
   ]
  },
  {
   "cell_type": "markdown",
   "metadata": {},
   "source": [
    "***"
   ]
  },
  {
   "cell_type": "markdown",
   "metadata": {},
   "source": [
    "> ### Keep practicing on it from [W3Schools](https://www.w3schools.com/python/pandas_tutorial.asp).\n",
    "> A Task: Visit [Source](https://www.w3schools.com/python/pandas_cleaning_wrong_format.asp) for more info and practice. Complete. \n",
    "\n",
    "> For more applications, visit [21 Pandas Operations](https://towardsdatascience.com/21-pandas-operations-for-absolute-beginners-5653e54f4cdahttps://towardsdatascience.com/21-pandas-operations-for-absolute-beginners-5653e54f4cda)"
   ]
  },
  {
   "cell_type": "markdown",
   "metadata": {},
   "source": [
    "***"
   ]
  },
  {
   "cell_type": "markdown",
   "metadata": {},
   "source": [
    "## **What is Matplotlib?** <a class=\"anchor\" id=\"mat\"></a>"
   ]
  },
  {
   "cell_type": "markdown",
   "metadata": {},
   "source": [
    "### What is:\n",
    "\n",
    "- Matplotlib is a low level graph plotting library in python that serves as a visualization utility.\n",
    "\n",
    "- [Visit the main resource](https://matplotlib.org/stable/tutorials/introductory/pyplot.html)\n",
    "\n",
    "- Matplotlib is open source and we can use it freely.\n",
    "\n",
    "- Matplotlib is mostly written in python, a few segments are written in C, Objective-C and Javascript for Platform compatibility.Matplotlib is a low level graph plotting library in python that serves as a visualization utility.\n",
    "\n",
    "- Matplotlib was created by John D. Hunter. Matplotlib is open source and we can use it freely.\n",
    "\n",
    "- Matplotlib is mostly written in python, a few segments are written in C, Objective-C and Javascript for Platform compatibility.\n",
    "\n",
    "- The source code for Matplotlib is located at this github repository https://github.com/matplotlib/matplotlib.\n"
   ]
  },
  {
   "cell_type": "markdown",
   "metadata": {},
   "source": [
    "### pyplot\n",
    "\n",
    "- Most of the Matplotlib utilities lies under the pyplot submodule, and are usually imported under the plt alias:\n",
    "\n",
    "- Now the Pyplot package can be referred to as plt.\n",
    "\n",
    "[The link for the practices below](https://matplotlib.org/3.1.1/tutorials/introductory/pyplot.html#sphx-glr-tutorials-introductory-pyplot-py)- Most of the Matplotlib utilities lies under the pyplot submodule, and are usually imported under the plt alias:\n",
    "\n",
    "- Now the Pyplot package can be referred to as plt.\n",
    "\n",
    "[The link for the practices below](https://matplotlib.org/3.1.1/tutorials/introductory/pyplot.html#sphx-glr-tutorials-introductory-pyplot-py)"
   ]
  },
  {
   "cell_type": "markdown",
   "metadata": {},
   "source": [
    "### Import the matlibplot with notebook and terminal:\n",
    "\n",
    "Notebook:\n",
    "> import matplotlib\n",
    "\n",
    "Terminal:\n",
    "> conda install matplotlib\n",
    "\n",
    "> !pip install matplotlib\n",
    "\n"
   ]
  },
  {
   "cell_type": "markdown",
   "metadata": {},
   "source": [
    "### Practices"
   ]
  },
  {
   "cell_type": "code",
   "execution_count": null,
   "metadata": {},
   "outputs": [],
   "source": [
    "import matplotlib\n",
    "\n",
    "print(matplotlib.__version__)\n"
   ]
  },
  {
   "cell_type": "markdown",
   "metadata": {},
   "source": [
    "\n"
   ]
  },
  {
   "cell_type": "code",
   "execution_count": null,
   "metadata": {},
   "outputs": [],
   "source": [
    "# An idea how a plot can be obtained\n",
    "\n",
    "import matplotlib.pyplot as plt\n",
    "\n",
    "plt.plot([10, 20, 30, 40], 'b*') #try: bs, b*, b-, b--, ..\n",
    "\n",
    "plt.ylabel('Some Numbers')\n",
    "\n",
    "plt.show()\n"
   ]
  },
  {
   "cell_type": "code",
   "execution_count": null,
   "metadata": {},
   "outputs": [],
   "source": [
    "plt.plot([1, 2, 3, 4], [1, 4, 9, 16], 'bo')"
   ]
  },
  {
   "cell_type": "code",
   "execution_count": null,
   "metadata": {},
   "outputs": [],
   "source": [
    "plt.plot([1, 2, 3, 4], [1, 4, 9, 16], 'b*')\n",
    "plt.axis([0, 6, 0, 20])\n",
    "plt.show()"
   ]
  },
  {
   "cell_type": "code",
   "execution_count": null,
   "metadata": {},
   "outputs": [],
   "source": [
    "t = np.arange(0., 5., 0.2)\n",
    "plt.plot(t, t**3, 'r--') #add , t, t*2, 'b^' inside"
   ]
  },
  {
   "cell_type": "code",
   "execution_count": null,
   "metadata": {},
   "outputs": [],
   "source": [
    "# np.arange command\n",
    "print(np.arange(0., 5., 0.2)) # from 0 to 5 (not included 5), by .2"
   ]
  },
  {
   "cell_type": "code",
   "execution_count": null,
   "metadata": {},
   "outputs": [],
   "source": [
    "import numpy as np\n",
    "\n",
    "# evenly sampled time at 200ms intervals\n",
    "t = np.arange(0., 5., 0.2)\n",
    "\n",
    "# red dashes, blue squares and green triangles\n",
    "# plot(x,y)\n",
    "plt.plot(t, 10-t, 'r--', t, t**2, 'bs', t, t**3, 'g^')\n",
    "plt.show()\n"
   ]
  },
  {
   "cell_type": "code",
   "execution_count": null,
   "metadata": {},
   "outputs": [],
   "source": [
    "# Plotting categorical variables\n",
    "names = ['group_a', 'group_b', 'group_c'] #x\n",
    "values = [10, 20, 50] #y\n",
    "\n",
    "plt.figure(figsize=(9, 3))\n",
    "\n",
    "plt.subplot(131)\n",
    "plt.bar(names, values)\n",
    "\n",
    "plt.subplot(132)\n",
    "plt.scatter(names, values)\n",
    "\n",
    "plt.subplot(133)\n",
    "plt.plot(names, values)\n",
    "\n",
    "plt.suptitle('Categorical Plotting')\n",
    "plt.show()"
   ]
  },
  {
   "cell_type": "code",
   "execution_count": null,
   "metadata": {},
   "outputs": [],
   "source": [
    "# Skip\n",
    "# Plot a function\n",
    "\n",
    "def f(t):\n",
    "    return np.exp(-t) * np.cos(2*np.pi*t)\n",
    "\n",
    "t1 = np.arange(0.0, 5.0, 0.1)\n",
    "t2 = np.arange(0.0, 5.0, 0.02)\n",
    "\n",
    "plt.figure()\n",
    "plt.subplot(211)\n",
    "plt.plot(t1, f(t1), 'bo', t2, f(t2), 'k')\n",
    "\n",
    "plt.subplot(212)\n",
    "plt.plot(t2, np.cos(2*np.pi*t2), 'r--')\n",
    "plt.show()\n"
   ]
  },
  {
   "cell_type": "code",
   "execution_count": null,
   "metadata": {},
   "outputs": [],
   "source": [
    "# Skip\n",
    "# Working with text\n",
    "mu, sigma = 100, 15\n",
    "x = mu + sigma * np.random.randn(10000)\n",
    "\n",
    "# the histogram of the data\n",
    "n, bins, patches = plt.hist(x, 50, density=1, facecolor='g', alpha=0.75)\n",
    "\n",
    "plt.xlabel('Smarts')\n",
    "plt.ylabel('Probability')\n",
    "plt.title('Histogram of IQ')\n",
    "\n",
    "plt.text(50, .01, r'$\\mu=100,\\ \\sigma=15$') #math expresssion\n",
    "\n",
    "plt.axis([40, 160, 0, 0.03])\n",
    "\n",
    "plt.grid(True)\n",
    "plt.show()"
   ]
  },
  {
   "cell_type": "code",
   "execution_count": null,
   "metadata": {},
   "outputs": [],
   "source": [
    "# Annotating the text\n",
    "\n",
    "import matplotlib.pyplot as plt\n",
    "\n",
    "ax = plt.subplot(111)\n",
    "\n",
    "t = np.arange(0.0, 5.0, 0.01)\n",
    "s = np.cos(2*np.pi*t)\n",
    "line, = plt.plot(t, s, lw=2)\n",
    "\n",
    "plt.annotate('local max', xy=(2, 1), xytext=(3, 1.5),\n",
    "             arrowprops=dict(facecolor='black', shrink=0.1) )\n",
    "\n",
    "plt.ylim(-2, 2) #plt.xlim(-0,5)\n",
    "plt.suptitle('More prof look')\n",
    "\n",
    "plt.show()"
   ]
  },
  {
   "cell_type": "markdown",
   "metadata": {},
   "source": [
    "### %matplotlib inline\n",
    "- When using the 'inline' backend, your matplotlib graphs will be included in your notebook, next to the code.\n",
    "- %matplotlib inline will lead to interactive plots embedded within the notebook AND lead to static images of your plot embedded in the notebook.\n",
    "- After running this command (it needs to be done only once per kernel/session), any cell within the notebook that creates a plot will embed a PNG image of the resulting graphic:\n",
    "\n",
    "**Details**:\n",
    "- %matplotlib inline sets the backend of matplotlib to the 'inline' backend: With this backend, the output of plotting commands is displayed inline within frontends like the Jupyter notebook, directly below the code cell that produced it. The resulting plots will then also be stored in the notebook document.\n"
   ]
  },
  {
   "cell_type": "markdown",
   "metadata": {},
   "source": [
    "***"
   ]
  },
  {
   "cell_type": "markdown",
   "metadata": {},
   "source": [
    "> ### Keep practicing on it from [W3Schools](https://www.w3schools.com/python/matplotlib_intro.asp). We will revisit Matplotlib.\n",
    "> A Task: Visit [Source](https://www.w3schools.com/python/matplotlib_pyplot.asp) for more info and practice. Complete "
   ]
  },
  {
   "cell_type": "markdown",
   "metadata": {},
   "source": [
    "***"
   ]
  },
  {
   "cell_type": "markdown",
   "metadata": {},
   "source": [
    "## **References** <a class=\"anchor\" id=\"ref\"></a>\n",
    "\n",
    "- [Shortcuts Cheatsheet for Jupyter-lab](https://blog.ja-ke.tech/assets/jupyterlab-shortcuts/Shortcuts.png)\n",
    "- [Simple Shortcuts for Jupyter-lab](https://towardsdatascience.com/jypyter-notebook-shortcuts-bf0101a98330)\n",
    "- [W3Schools](https://www.w3schools.com/python/matplotlib_intro.asp)"
   ]
  },
  {
   "cell_type": "markdown",
   "metadata": {},
   "source": [
    "***"
   ]
  },
  {
   "cell_type": "markdown",
   "metadata": {},
   "source": [
    "## Your Notes:\n",
    "\n",
    "..."
   ]
  },
  {
   "cell_type": "code",
   "execution_count": null,
   "metadata": {},
   "outputs": [],
   "source": []
  }
 ],
 "metadata": {
  "kernelspec": {
   "display_name": "Python 3 (ipykernel)",
   "language": "python",
   "name": "python3"
  },
  "language_info": {
   "codemirror_mode": {
    "name": "ipython",
    "version": 3
   },
   "file_extension": ".py",
   "mimetype": "text/x-python",
   "name": "python",
   "nbconvert_exporter": "python",
   "pygments_lexer": "ipython3",
   "version": "3.7.6"
  },
  "vscode": {
   "interpreter": {
    "hash": "aee8b7b246df8f9039afb4144a1f6fd8d2ca17a180786b69acc140d282b71a49"
   }
  }
 },
 "nbformat": 4,
 "nbformat_minor": 4
}
