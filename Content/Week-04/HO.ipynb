{
 "cells": [
  {
   "cell_type": "markdown",
   "id": "60902400-993e-4f31-a0b0-d808b4f2828a",
   "metadata": {},
   "source": [
    "## **<font color=orange>Hands on by Muhammad Raees</font>**\n",
    "# **Intro to Python and JupyterLab**\n",
    "### <font color=blue>Topics: Simply What Numpy, Pandas, and Matplotlib Packs are! </font>\n",
    "\n",
    "Task: \n",
    "\n",
    "1) Review the code, comments\n",
    "\n",
    "2) Practice in a new notebook"
   ]
  },
  {
   "cell_type": "markdown",
   "id": "33ab3d62-201f-4b50-b6d5-530fc31a3df5",
   "metadata": {},
   "source": [
    "***"
   ]
  },
  {
   "cell_type": "markdown",
   "id": "669bd902-871b-4ac3-8e2b-8c2cb04cd703",
   "metadata": {},
   "source": [
    "### **Table of Contents** <a class=\"anchor\" id=\"0.1\"></a>\n",
    "\n",
    "- [What is Jupyter-Lab?](#jup)\n",
    "- [What is Numpy?](#num)\n",
    "- [What is Pandas?](#pan)\n",
    "    - [Six codes that we should use whenever data set is imported](#six)\n",
    "    - [Data Reorganization, Missingness and Manipulation with Pandas](#manip1)\n",
    "    - [Manipulating More with Pandas](#manip2)\n",
    "- [What is Matplotlib?](#mat)\n",
    "- [References](#ref)\n",
    "- [Kitchen](#ref)\n"
   ]
  },
  {
   "cell_type": "code",
   "execution_count": 5,
   "id": "f3419717-c20f-4574-8898-bfe44e3a5e2b",
   "metadata": {},
   "outputs": [
    {
     "name": "stdout",
     "output_type": "stream",
     "text": [
      "Hello Universe\n",
      "0\n",
      "1\n",
      "2\n",
      "3\n",
      "4\n"
     ]
    }
   ],
   "source": [
    "# Python evaluates the code\n",
    "print(\"Hello Universe\")\n",
    "\n",
    "i=0\n",
    "while i<5:\n",
    "    print(i)\n",
    "    i+=1\n",
    "    "
   ]
  },
  {
   "cell_type": "code",
   "execution_count": 6,
   "id": "9a0507ce-b2a9-42ca-b5b4-4fadfcd38a75",
   "metadata": {},
   "outputs": [
    {
     "name": "stdout",
     "output_type": "stream",
     "text": [
      "1.21.5\n"
     ]
    }
   ],
   "source": [
    "# Create an alias (np) with the as keyword while importing\n",
    "import numpy as np\n",
    "\n",
    "# Which version\n",
    "print(np.__version__)\n"
   ]
  },
  {
   "cell_type": "code",
   "execution_count": 7,
   "id": "f64e3a13-9136-44c8-b391-849a77e18597",
   "metadata": {},
   "outputs": [
    {
     "name": "stdout",
     "output_type": "stream",
     "text": [
      "[1 2 3 4 5]\n",
      "<class 'numpy.ndarray'>\n"
     ]
    }
   ],
   "source": [
    "# Create an array\n",
    "import numpy as np #redandant to run every time. one time is enough (see the above code)\n",
    "\n",
    "# Assign the array to arr 1-D array (vector)\n",
    "arr = np.array( [1, 2, 3, 4, 5] )\n",
    "\n",
    "# Print the object\n",
    "print(arr)\n",
    "\n",
    "# Type of the object\n",
    "print(type(arr))\n"
   ]
  },
  {
   "cell_type": "code",
   "execution_count": 8,
   "id": "fc07375a-79ed-4bb8-9290-8d17899f11b0",
   "metadata": {},
   "outputs": [
    {
     "name": "stdout",
     "output_type": "stream",
     "text": [
      "42\n"
     ]
    }
   ],
   "source": [
    "# Create a 0-D array with value 42\n",
    "\n",
    "arr = np.array(42)\n",
    "\n",
    "print(arr)"
   ]
  },
  {
   "cell_type": "code",
   "execution_count": 9,
   "id": "28ab2b97-09f5-433b-b26a-9f3bf2759cf5",
   "metadata": {},
   "outputs": [
    {
     "name": "stdout",
     "output_type": "stream",
     "text": [
      "[[1 2 3]\n",
      " [4 5 6]]\n"
     ]
    }
   ],
   "source": [
    "# Create a 2-D array containing two arrays with the values 1,2,3 and 4,5,6 (matrix)\n",
    "\n",
    "arr = np.array( [ [1, 2, 3], [4, 5, 6] ] )\n",
    "\n",
    "print(arr)"
   ]
  },
  {
   "cell_type": "code",
   "execution_count": 10,
   "id": "34049678-0169-4b4e-8d38-4f52b42679a2",
   "metadata": {},
   "outputs": [
    {
     "name": "stdout",
     "output_type": "stream",
     "text": [
      "[[[ 1  2  3]\n",
      "  [ 4  5  6]]\n",
      "\n",
      " [[ 7  8  9]\n",
      "  [10 11 12]]]\n"
     ]
    }
   ],
   "source": [
    "# Create a 3-D array with two 2-D arrays, both containing two arrays with the values 1,2,3 and 4,5,6:\n",
    "\n",
    "arr = np.array( [ [[1, 2, 3], [4, 5, 6]], [[7, 8, 9], [10, 11, 12]] ] )\n",
    "\n",
    "print(arr)"
   ]
  },
  {
   "cell_type": "code",
   "execution_count": 11,
   "id": "a6c27dea-ac15-4037-8107-89185b57fb7e",
   "metadata": {},
   "outputs": [
    {
     "name": "stdout",
     "output_type": "stream",
     "text": [
      "0\n",
      "1\n",
      "2\n",
      "3\n"
     ]
    }
   ],
   "source": [
    "# Check how many dimensions the arrays have:\n",
    "\n",
    "a = np.array(42)\n",
    "b = np.array([1, 2, 3, 4, 5]) #1-D,vector\n",
    "c = np.array([[1, 2, 3], [4, 5, 6]]) #2-D,matrix\n",
    "d = np.array([[[1, 2, 3], [4, 5, 6]], [[1, 2, 3], [4, 5, 6]]]) #3-D\n",
    "\n",
    "print(a.ndim)\n",
    "print(b.ndim)\n",
    "print(c.ndim)\n",
    "print(d.ndim)"
   ]
  },
  {
   "cell_type": "code",
   "execution_count": 15,
   "id": "99af7e6a-ccdd-4262-b2e0-f987009db26f",
   "metadata": {},
   "outputs": [
    {
     "name": "stdout",
     "output_type": "stream",
     "text": [
      "1\n"
     ]
    }
   ],
   "source": [
    "# Get the first element from the following array:\n",
    "\n",
    "arr = np.array([1, 2, 3, 4])\n",
    "\n",
    "print(arr[0]) #try: 0, 2, -1"
   ]
  },
  {
   "cell_type": "code",
   "execution_count": 16,
   "id": "723eff2a-c954-4e35-bcb7-08bf8ef1b98e",
   "metadata": {},
   "outputs": [
    {
     "name": "stdout",
     "output_type": "stream",
     "text": [
      "2nd element on 1st dim:  2\n"
     ]
    }
   ],
   "source": [
    "# Access the 2nd element on 1st dim:\n",
    "\n",
    "arr = np.array([[1,2,3,4,5], [6,7,8,9,10]])\n",
    "\n",
    "print('2nd element on 1st dim: ', arr[0, 1])"
   ]
  },
  {
   "cell_type": "code",
   "execution_count": 17,
   "id": "3c9060e8-34bd-47d7-98a8-5ee1e41fcc34",
   "metadata": {},
   "outputs": [
    {
     "name": "stdout",
     "output_type": "stream",
     "text": [
      "[[ 1  2  3  4  5]\n",
      " [ 6  7  8  9 10]]\n"
     ]
    }
   ],
   "source": [
    "print(arr)"
   ]
  },
  {
   "cell_type": "code",
   "execution_count": 18,
   "id": "56ec7ef6-572f-48c1-bbc8-a21b3260003f",
   "metadata": {},
   "outputs": [
    {
     "name": "stdout",
     "output_type": "stream",
     "text": [
      "4th element on 2nd dim:  9\n",
      "4th element on 2nd dim:  9\n"
     ]
    }
   ],
   "source": [
    "# Question\n",
    "\n",
    "#print('4nd element on 2st dim: ', arr[?, ??]) #4th column, 2nd row\n",
    "#print('4nd element on 2st dim: ', arr[1, 3]) #4th column, 2nd row\n",
    "#print('4nd element on 2st dim: ', arr[1, -2]) #4th column, 2nd row\n",
    "print('4th element on 2nd dim: ', arr[1, 3]) #4th column, 2nd row\n",
    "\n",
    "print('4th element on 2nd dim: ', arr[-1, -2]) #4th column, 2nd row"
   ]
  },
  {
   "cell_type": "code",
   "execution_count": 19,
   "id": "339edcb1-6b5d-4fe0-af75-87e686ce3cd9",
   "metadata": {},
   "outputs": [
    {
     "name": "stdout",
     "output_type": "stream",
     "text": [
      "[2 3 4 5]\n"
     ]
    }
   ],
   "source": [
    "# Slice elements from index 1 to index 5 from the following array:\n",
    "\n",
    "import numpy as np\n",
    "\n",
    "arr = np.array([1, 2, 3, 4, 5, 6, 7]) #1 is index 0.\n",
    "\n",
    "print(arr[1:5]) #see 6 is not included\n"
   ]
  },
  {
   "cell_type": "code",
   "execution_count": 20,
   "id": "73600ce0-3728-4c36-8298-055f604b0a46",
   "metadata": {},
   "outputs": [
    {
     "name": "stdout",
     "output_type": "stream",
     "text": [
      "[5 6 7]\n"
     ]
    }
   ],
   "source": [
    "# Slice elements from index 4 to the end of the array:\n",
    "\n",
    "arr = np.array([1, 2, 3, 4, 5, 6, 7])\n",
    "\n",
    "print(arr[4:])"
   ]
  },
  {
   "cell_type": "code",
   "execution_count": 21,
   "id": "38a0d31c-955f-46cf-880e-bad4442caefe",
   "metadata": {},
   "outputs": [
    {
     "name": "stdout",
     "output_type": "stream",
     "text": [
      "[1 2 3 4]\n"
     ]
    }
   ],
   "source": [
    "# Slice elements from the beginning to index 4 (not included):\n",
    "\n",
    "import numpy as np\n",
    "\n",
    "arr = np.array([1, 2, 3, 4, 5, 6, 7])\n",
    "\n",
    "print(arr[:4])"
   ]
  },
  {
   "cell_type": "code",
   "execution_count": 22,
   "id": "2dce1b0c-4a1a-4e2a-ad25-a4f5d722adf6",
   "metadata": {},
   "outputs": [
    {
     "name": "stdout",
     "output_type": "stream",
     "text": [
      "1.4.2\n"
     ]
    }
   ],
   "source": [
    "# Create an alias (np) with the as keyword while importing\n",
    "import pandas as pd\n",
    "\n",
    "# Which version\n",
    "print(pd.__version__)\n"
   ]
  },
  {
   "cell_type": "code",
   "execution_count": 23,
   "id": "73018f72-b828-442e-bf8a-9e2940758cf1",
   "metadata": {},
   "outputs": [
    {
     "name": "stdout",
     "output_type": "stream",
     "text": [
      "    cars  passings\n",
      "0    BMW         3\n",
      "1  Volvo         7\n",
      "2   Ford         2\n"
     ]
    }
   ],
   "source": [
    "# Make dictionary data a Data Frame\n",
    "# The keys of the dictionary become the labels\n",
    "import pandas as pd\n",
    "\n",
    "mydataset = {\n",
    "  'cars': [\"BMW\", \"Volvo\", \"Ford\"],\n",
    "  'passings': [3, 7, 2]\n",
    "}\n",
    "\n",
    "myvar = pd.DataFrame(mydataset)\n",
    "\n",
    "print(myvar)\n",
    "\n",
    "\n"
   ]
  },
  {
   "cell_type": "code",
   "execution_count": 24,
   "id": "96e3c884-6954-498c-8847-8f93c56a48fe",
   "metadata": {},
   "outputs": [
    {
     "name": "stdout",
     "output_type": "stream",
     "text": [
      "0    1\n",
      "1    7\n",
      "2    2\n",
      "dtype: int64\n"
     ]
    }
   ],
   "source": [
    "# Create a simple Pandas Series from a list:\n",
    "\n",
    "a = [1, 7, 2]\n",
    "\n",
    "myvar = pd.Series(a)\n",
    "\n",
    "print(myvar)\n"
   ]
  },
  {
   "cell_type": "code",
   "execution_count": 25,
   "id": "86947098-67b3-48be-ab7c-4c3f52fd2380",
   "metadata": {},
   "outputs": [
    {
     "name": "stdout",
     "output_type": "stream",
     "text": [
      "x    1\n",
      "y    7\n",
      "z    2\n",
      "dtype: int64\n",
      "7\n"
     ]
    }
   ],
   "source": [
    "# Create labels\n",
    "\n",
    "a = [1, 7, 2]\n",
    "\n",
    "myvar = pd.Series(a, index = [\"x\", \"y\", \"z\"])\n",
    "\n",
    "print(myvar)\n",
    "\n",
    "#Return the value of \"y\":\n",
    "print(myvar[\"y\"])"
   ]
  },
  {
   "cell_type": "code",
   "execution_count": 26,
   "id": "1ceeaf25-2aeb-4158-9508-e1774cde3aa2",
   "metadata": {},
   "outputs": [
    {
     "name": "stdout",
     "output_type": "stream",
     "text": [
      "2\n"
     ]
    }
   ],
   "source": [
    "print(myvar[2]) #index starts from 0"
   ]
  },
  {
   "cell_type": "code",
   "execution_count": 27,
   "id": "3ada279e-8004-4102-8810-3ae56083c6bb",
   "metadata": {},
   "outputs": [
    {
     "name": "stdout",
     "output_type": "stream",
     "text": [
      "   calories  duration\n",
      "0       420        50\n",
      "1       380        40\n",
      "2       390        45\n"
     ]
    }
   ],
   "source": [
    "# Create a simple Pandas DataFrame:\n",
    "\n",
    "data = {\n",
    "  \"calories\": [420, 380, 390],\n",
    "  \"duration\": [50, 40, 45]\n",
    "}\n",
    "\n",
    "#load data into a DataFrame object:\n",
    "df = pd.DataFrame(data)\n",
    "\n",
    "print(df) "
   ]
  },
  {
   "cell_type": "code",
   "execution_count": 31,
   "id": "b2331175-a055-4459-931f-e3cbf93fbd1e",
   "metadata": {},
   "outputs": [
    {
     "name": "stdout",
     "output_type": "stream",
     "text": [
      "calories    390\n",
      "duration     45\n",
      "Name: 2, dtype: int64\n"
     ]
    }
   ],
   "source": [
    "# Pandas use the loc attribute to return one or more specified row(s)\n",
    "#refer to the row index:\n",
    "print(df.loc[2]) #what is .iloc?\n"
   ]
  },
  {
   "cell_type": "code",
   "execution_count": 32,
   "id": "2ed96fde-52ba-4d0f-a651-1c89efeb43ec",
   "metadata": {},
   "outputs": [
    {
     "name": "stdout",
     "output_type": "stream",
     "text": [
      "   calories  duration\n",
      "0       420        50\n",
      "1       380        40\n"
     ]
    }
   ],
   "source": [
    "# Return row 0 and 1:\n",
    "#use a list of indexes:\n",
    "print(df.loc[[0, 1]])"
   ]
  },
  {
   "cell_type": "code",
   "execution_count": 35,
   "id": "57f0b84d-56ab-467e-a6ac-74a74091f937",
   "metadata": {},
   "outputs": [
    {
     "name": "stderr",
     "output_type": "stream",
     "text": [
      "'pwd' is not recognized as an internal or external command,\n",
      "operable program or batch file.\n"
     ]
    }
   ],
   "source": [
    "# A useful command\n",
    "# Check the current directory\n",
    "!pwd\n"
   ]
  },
  {
   "cell_type": "code",
   "execution_count": 38,
   "id": "fd06d7cf-e103-4b47-97c4-adcbfcd443f3",
   "metadata": {},
   "outputs": [
    {
     "name": "stdout",
     "output_type": "stream",
     "text": [
      "             Survived  Pclass                                      Name  \\\n",
      "PassengerId                                                               \n",
      "887                 0       2                     Montvila, Rev. Juozas   \n",
      "888                 1       1              Graham, Miss. Margaret Edith   \n",
      "889                 0       3  Johnston, Miss. Catherine Helen \"Carrie\"   \n",
      "890                 1       1                     Behr, Mr. Karl Howell   \n",
      "891                 0       3                       Dooley, Mr. Patrick   \n",
      "\n",
      "             Gender   Age  SibSp  Parch      Ticket   Fare Cabin  \n",
      "PassengerId                                                       \n",
      "887            male  27.0      0      0      211536  13.00   NaN  \n",
      "888          female  19.0      0      0      112053  30.00   B42  \n",
      "889          female   NaN      1      2  W./C. 6607  23.45   NaN  \n",
      "890            male  26.0      0      0      111369  30.00  C148  \n",
      "891            male  32.0      0      0      370376   7.75   NaN  \n"
     ]
    }
   ],
   "source": [
    "# Load a comma separated file (CSV file) into a DataFrame:\n",
    "# Post train-titanic.csv under this notebook's folder.\n",
    "# Check the path of the data set: Mine data set is \n",
    "\n",
    "import pandas as pd\n",
    "\n",
    "#df_csv = pd.read_csv('./1.DataAnalytics/2. Data Analysis and Visualization with Python/train-titanic.csv') #Kaggle\n",
    "df_csv = pd.read_csv('Train_Titanic.csv', \n",
    "                     index_col=\"PassengerId\") #from Kaggle. index is PassengerId\n",
    "\n",
    "print(df_csv.tail()) #try: head(), tail()"
   ]
  },
  {
   "cell_type": "code",
   "execution_count": 39,
   "id": "e0c5c1f3-d974-47f3-84ea-e10562bcd3d2",
   "metadata": {},
   "outputs": [
    {
     "data": {
      "text/plain": [
       "(891, 10)"
      ]
     },
     "execution_count": 39,
     "metadata": {},
     "output_type": "execute_result"
    }
   ],
   "source": [
    "df_csv.shape #dim\n"
   ]
  },
  {
   "cell_type": "code",
   "execution_count": 40,
   "id": "ccba4cb3-d626-465c-b975-9664416e409d",
   "metadata": {},
   "outputs": [
    {
     "name": "stdout",
     "output_type": "stream",
     "text": [
      "<class 'pandas.core.frame.DataFrame'>\n",
      "Int64Index: 891 entries, 1 to 891\n",
      "Data columns (total 10 columns):\n",
      " #   Column    Non-Null Count  Dtype  \n",
      "---  ------    --------------  -----  \n",
      " 0   Survived  891 non-null    int64  \n",
      " 1   Pclass    891 non-null    int64  \n",
      " 2   Name      891 non-null    object \n",
      " 3   Gender    891 non-null    object \n",
      " 4   Age       714 non-null    float64\n",
      " 5   SibSp     891 non-null    int64  \n",
      " 6   Parch     891 non-null    int64  \n",
      " 7   Ticket    891 non-null    object \n",
      " 8   Fare      891 non-null    float64\n",
      " 9   Cabin     204 non-null    object \n",
      "dtypes: float64(2), int64(4), object(4)\n",
      "memory usage: 76.6+ KB\n"
     ]
    }
   ],
   "source": [
    "df_csv.info() #types and all missing,"
   ]
  },
  {
   "cell_type": "code",
   "execution_count": 41,
   "id": "60867b6f-7d3b-4148-8348-bc87d64ad2ec",
   "metadata": {},
   "outputs": [
    {
     "data": {
      "text/html": [
       "<div>\n",
       "<style scoped>\n",
       "    .dataframe tbody tr th:only-of-type {\n",
       "        vertical-align: middle;\n",
       "    }\n",
       "\n",
       "    .dataframe tbody tr th {\n",
       "        vertical-align: top;\n",
       "    }\n",
       "\n",
       "    .dataframe thead th {\n",
       "        text-align: right;\n",
       "    }\n",
       "</style>\n",
       "<table border=\"1\" class=\"dataframe\">\n",
       "  <thead>\n",
       "    <tr style=\"text-align: right;\">\n",
       "      <th></th>\n",
       "      <th>Survived</th>\n",
       "      <th>Pclass</th>\n",
       "      <th>Name</th>\n",
       "      <th>Gender</th>\n",
       "      <th>Age</th>\n",
       "      <th>SibSp</th>\n",
       "      <th>Parch</th>\n",
       "      <th>Ticket</th>\n",
       "      <th>Fare</th>\n",
       "      <th>Cabin</th>\n",
       "    </tr>\n",
       "    <tr>\n",
       "      <th>PassengerId</th>\n",
       "      <th></th>\n",
       "      <th></th>\n",
       "      <th></th>\n",
       "      <th></th>\n",
       "      <th></th>\n",
       "      <th></th>\n",
       "      <th></th>\n",
       "      <th></th>\n",
       "      <th></th>\n",
       "      <th></th>\n",
       "    </tr>\n",
       "  </thead>\n",
       "  <tbody>\n",
       "    <tr>\n",
       "      <th>1</th>\n",
       "      <td>0</td>\n",
       "      <td>3</td>\n",
       "      <td>Braund, Mr. Owen Harris</td>\n",
       "      <td>male</td>\n",
       "      <td>22.0</td>\n",
       "      <td>1</td>\n",
       "      <td>0</td>\n",
       "      <td>A/5 21171</td>\n",
       "      <td>7.2500</td>\n",
       "      <td>NaN</td>\n",
       "    </tr>\n",
       "    <tr>\n",
       "      <th>2</th>\n",
       "      <td>1</td>\n",
       "      <td>1</td>\n",
       "      <td>Cumings, Mrs. John Bradley (Florence Briggs Th...</td>\n",
       "      <td>female</td>\n",
       "      <td>38.0</td>\n",
       "      <td>1</td>\n",
       "      <td>0</td>\n",
       "      <td>PC 17599</td>\n",
       "      <td>71.2833</td>\n",
       "      <td>C85</td>\n",
       "    </tr>\n",
       "    <tr>\n",
       "      <th>3</th>\n",
       "      <td>1</td>\n",
       "      <td>3</td>\n",
       "      <td>Heikkinen, Miss. Laina</td>\n",
       "      <td>female</td>\n",
       "      <td>26.0</td>\n",
       "      <td>0</td>\n",
       "      <td>0</td>\n",
       "      <td>STON/O2. 3101282</td>\n",
       "      <td>7.9250</td>\n",
       "      <td>NaN</td>\n",
       "    </tr>\n",
       "    <tr>\n",
       "      <th>4</th>\n",
       "      <td>1</td>\n",
       "      <td>1</td>\n",
       "      <td>Futrelle, Mrs. Jacques Heath (Lily May Peel)</td>\n",
       "      <td>female</td>\n",
       "      <td>35.0</td>\n",
       "      <td>1</td>\n",
       "      <td>0</td>\n",
       "      <td>113803</td>\n",
       "      <td>53.1000</td>\n",
       "      <td>C123</td>\n",
       "    </tr>\n",
       "    <tr>\n",
       "      <th>5</th>\n",
       "      <td>0</td>\n",
       "      <td>3</td>\n",
       "      <td>Allen, Mr. William Henry</td>\n",
       "      <td>male</td>\n",
       "      <td>35.0</td>\n",
       "      <td>0</td>\n",
       "      <td>0</td>\n",
       "      <td>373450</td>\n",
       "      <td>8.0500</td>\n",
       "      <td>NaN</td>\n",
       "    </tr>\n",
       "    <tr>\n",
       "      <th>6</th>\n",
       "      <td>0</td>\n",
       "      <td>3</td>\n",
       "      <td>Moran, Mr. James</td>\n",
       "      <td>male</td>\n",
       "      <td>NaN</td>\n",
       "      <td>0</td>\n",
       "      <td>0</td>\n",
       "      <td>330877</td>\n",
       "      <td>8.4583</td>\n",
       "      <td>NaN</td>\n",
       "    </tr>\n",
       "    <tr>\n",
       "      <th>7</th>\n",
       "      <td>0</td>\n",
       "      <td>1</td>\n",
       "      <td>McCarthy, Mr. Timothy J</td>\n",
       "      <td>male</td>\n",
       "      <td>54.0</td>\n",
       "      <td>0</td>\n",
       "      <td>0</td>\n",
       "      <td>17463</td>\n",
       "      <td>51.8625</td>\n",
       "      <td>E46</td>\n",
       "    </tr>\n",
       "    <tr>\n",
       "      <th>8</th>\n",
       "      <td>0</td>\n",
       "      <td>3</td>\n",
       "      <td>Palsson, Master. Gosta Leonard</td>\n",
       "      <td>male</td>\n",
       "      <td>2.0</td>\n",
       "      <td>3</td>\n",
       "      <td>1</td>\n",
       "      <td>349909</td>\n",
       "      <td>21.0750</td>\n",
       "      <td>NaN</td>\n",
       "    </tr>\n",
       "    <tr>\n",
       "      <th>9</th>\n",
       "      <td>1</td>\n",
       "      <td>3</td>\n",
       "      <td>Johnson, Mrs. Oscar W (Elisabeth Vilhelmina Berg)</td>\n",
       "      <td>female</td>\n",
       "      <td>27.0</td>\n",
       "      <td>0</td>\n",
       "      <td>2</td>\n",
       "      <td>347742</td>\n",
       "      <td>11.1333</td>\n",
       "      <td>NaN</td>\n",
       "    </tr>\n",
       "    <tr>\n",
       "      <th>10</th>\n",
       "      <td>1</td>\n",
       "      <td>2</td>\n",
       "      <td>Nasser, Mrs. Nicholas (Adele Achem)</td>\n",
       "      <td>female</td>\n",
       "      <td>14.0</td>\n",
       "      <td>1</td>\n",
       "      <td>0</td>\n",
       "      <td>237736</td>\n",
       "      <td>30.0708</td>\n",
       "      <td>NaN</td>\n",
       "    </tr>\n",
       "  </tbody>\n",
       "</table>\n",
       "</div>"
      ],
      "text/plain": [
       "             Survived  Pclass  \\\n",
       "PassengerId                     \n",
       "1                   0       3   \n",
       "2                   1       1   \n",
       "3                   1       3   \n",
       "4                   1       1   \n",
       "5                   0       3   \n",
       "6                   0       3   \n",
       "7                   0       1   \n",
       "8                   0       3   \n",
       "9                   1       3   \n",
       "10                  1       2   \n",
       "\n",
       "                                                          Name  Gender   Age  \\\n",
       "PassengerId                                                                    \n",
       "1                                      Braund, Mr. Owen Harris    male  22.0   \n",
       "2            Cumings, Mrs. John Bradley (Florence Briggs Th...  female  38.0   \n",
       "3                                       Heikkinen, Miss. Laina  female  26.0   \n",
       "4                 Futrelle, Mrs. Jacques Heath (Lily May Peel)  female  35.0   \n",
       "5                                     Allen, Mr. William Henry    male  35.0   \n",
       "6                                             Moran, Mr. James    male   NaN   \n",
       "7                                      McCarthy, Mr. Timothy J    male  54.0   \n",
       "8                               Palsson, Master. Gosta Leonard    male   2.0   \n",
       "9            Johnson, Mrs. Oscar W (Elisabeth Vilhelmina Berg)  female  27.0   \n",
       "10                         Nasser, Mrs. Nicholas (Adele Achem)  female  14.0   \n",
       "\n",
       "             SibSp  Parch            Ticket     Fare Cabin  \n",
       "PassengerId                                                 \n",
       "1                1      0         A/5 21171   7.2500   NaN  \n",
       "2                1      0          PC 17599  71.2833   C85  \n",
       "3                0      0  STON/O2. 3101282   7.9250   NaN  \n",
       "4                1      0            113803  53.1000  C123  \n",
       "5                0      0            373450   8.0500   NaN  \n",
       "6                0      0            330877   8.4583   NaN  \n",
       "7                0      0             17463  51.8625   E46  \n",
       "8                3      1            349909  21.0750   NaN  \n",
       "9                0      2            347742  11.1333   NaN  \n",
       "10               1      0            237736  30.0708   NaN  "
      ]
     },
     "execution_count": 41,
     "metadata": {},
     "output_type": "execute_result"
    }
   ],
   "source": [
    "df_csv.head(10) #first 10 observation, "
   ]
  },
  {
   "cell_type": "code",
   "execution_count": 42,
   "id": "7b294f9a-7dad-4304-869c-75443ee20f00",
   "metadata": {},
   "outputs": [
    {
     "data": {
      "text/html": [
       "<div>\n",
       "<style scoped>\n",
       "    .dataframe tbody tr th:only-of-type {\n",
       "        vertical-align: middle;\n",
       "    }\n",
       "\n",
       "    .dataframe tbody tr th {\n",
       "        vertical-align: top;\n",
       "    }\n",
       "\n",
       "    .dataframe thead th {\n",
       "        text-align: right;\n",
       "    }\n",
       "</style>\n",
       "<table border=\"1\" class=\"dataframe\">\n",
       "  <thead>\n",
       "    <tr style=\"text-align: right;\">\n",
       "      <th></th>\n",
       "      <th>Survived</th>\n",
       "      <th>Pclass</th>\n",
       "      <th>Name</th>\n",
       "      <th>Gender</th>\n",
       "      <th>Age</th>\n",
       "      <th>SibSp</th>\n",
       "      <th>Parch</th>\n",
       "      <th>Ticket</th>\n",
       "      <th>Fare</th>\n",
       "      <th>Cabin</th>\n",
       "    </tr>\n",
       "    <tr>\n",
       "      <th>PassengerId</th>\n",
       "      <th></th>\n",
       "      <th></th>\n",
       "      <th></th>\n",
       "      <th></th>\n",
       "      <th></th>\n",
       "      <th></th>\n",
       "      <th></th>\n",
       "      <th></th>\n",
       "      <th></th>\n",
       "      <th></th>\n",
       "    </tr>\n",
       "  </thead>\n",
       "  <tbody>\n",
       "    <tr>\n",
       "      <th>882</th>\n",
       "      <td>0</td>\n",
       "      <td>3</td>\n",
       "      <td>Markun, Mr. Johann</td>\n",
       "      <td>male</td>\n",
       "      <td>33.0</td>\n",
       "      <td>0</td>\n",
       "      <td>0</td>\n",
       "      <td>349257</td>\n",
       "      <td>7.8958</td>\n",
       "      <td>NaN</td>\n",
       "    </tr>\n",
       "    <tr>\n",
       "      <th>883</th>\n",
       "      <td>0</td>\n",
       "      <td>3</td>\n",
       "      <td>Dahlberg, Miss. Gerda Ulrika</td>\n",
       "      <td>female</td>\n",
       "      <td>22.0</td>\n",
       "      <td>0</td>\n",
       "      <td>0</td>\n",
       "      <td>7552</td>\n",
       "      <td>10.5167</td>\n",
       "      <td>NaN</td>\n",
       "    </tr>\n",
       "    <tr>\n",
       "      <th>884</th>\n",
       "      <td>0</td>\n",
       "      <td>2</td>\n",
       "      <td>Banfield, Mr. Frederick James</td>\n",
       "      <td>male</td>\n",
       "      <td>28.0</td>\n",
       "      <td>0</td>\n",
       "      <td>0</td>\n",
       "      <td>C.A./SOTON 34068</td>\n",
       "      <td>10.5000</td>\n",
       "      <td>NaN</td>\n",
       "    </tr>\n",
       "    <tr>\n",
       "      <th>885</th>\n",
       "      <td>0</td>\n",
       "      <td>3</td>\n",
       "      <td>Sutehall, Mr. Henry Jr</td>\n",
       "      <td>male</td>\n",
       "      <td>25.0</td>\n",
       "      <td>0</td>\n",
       "      <td>0</td>\n",
       "      <td>SOTON/OQ 392076</td>\n",
       "      <td>7.0500</td>\n",
       "      <td>NaN</td>\n",
       "    </tr>\n",
       "    <tr>\n",
       "      <th>886</th>\n",
       "      <td>0</td>\n",
       "      <td>3</td>\n",
       "      <td>Rice, Mrs. William (Margaret Norton)</td>\n",
       "      <td>female</td>\n",
       "      <td>39.0</td>\n",
       "      <td>0</td>\n",
       "      <td>5</td>\n",
       "      <td>382652</td>\n",
       "      <td>29.1250</td>\n",
       "      <td>NaN</td>\n",
       "    </tr>\n",
       "    <tr>\n",
       "      <th>887</th>\n",
       "      <td>0</td>\n",
       "      <td>2</td>\n",
       "      <td>Montvila, Rev. Juozas</td>\n",
       "      <td>male</td>\n",
       "      <td>27.0</td>\n",
       "      <td>0</td>\n",
       "      <td>0</td>\n",
       "      <td>211536</td>\n",
       "      <td>13.0000</td>\n",
       "      <td>NaN</td>\n",
       "    </tr>\n",
       "    <tr>\n",
       "      <th>888</th>\n",
       "      <td>1</td>\n",
       "      <td>1</td>\n",
       "      <td>Graham, Miss. Margaret Edith</td>\n",
       "      <td>female</td>\n",
       "      <td>19.0</td>\n",
       "      <td>0</td>\n",
       "      <td>0</td>\n",
       "      <td>112053</td>\n",
       "      <td>30.0000</td>\n",
       "      <td>B42</td>\n",
       "    </tr>\n",
       "    <tr>\n",
       "      <th>889</th>\n",
       "      <td>0</td>\n",
       "      <td>3</td>\n",
       "      <td>Johnston, Miss. Catherine Helen \"Carrie\"</td>\n",
       "      <td>female</td>\n",
       "      <td>NaN</td>\n",
       "      <td>1</td>\n",
       "      <td>2</td>\n",
       "      <td>W./C. 6607</td>\n",
       "      <td>23.4500</td>\n",
       "      <td>NaN</td>\n",
       "    </tr>\n",
       "    <tr>\n",
       "      <th>890</th>\n",
       "      <td>1</td>\n",
       "      <td>1</td>\n",
       "      <td>Behr, Mr. Karl Howell</td>\n",
       "      <td>male</td>\n",
       "      <td>26.0</td>\n",
       "      <td>0</td>\n",
       "      <td>0</td>\n",
       "      <td>111369</td>\n",
       "      <td>30.0000</td>\n",
       "      <td>C148</td>\n",
       "    </tr>\n",
       "    <tr>\n",
       "      <th>891</th>\n",
       "      <td>0</td>\n",
       "      <td>3</td>\n",
       "      <td>Dooley, Mr. Patrick</td>\n",
       "      <td>male</td>\n",
       "      <td>32.0</td>\n",
       "      <td>0</td>\n",
       "      <td>0</td>\n",
       "      <td>370376</td>\n",
       "      <td>7.7500</td>\n",
       "      <td>NaN</td>\n",
       "    </tr>\n",
       "  </tbody>\n",
       "</table>\n",
       "</div>"
      ],
      "text/plain": [
       "             Survived  Pclass                                      Name  \\\n",
       "PassengerId                                                               \n",
       "882                 0       3                        Markun, Mr. Johann   \n",
       "883                 0       3              Dahlberg, Miss. Gerda Ulrika   \n",
       "884                 0       2             Banfield, Mr. Frederick James   \n",
       "885                 0       3                    Sutehall, Mr. Henry Jr   \n",
       "886                 0       3      Rice, Mrs. William (Margaret Norton)   \n",
       "887                 0       2                     Montvila, Rev. Juozas   \n",
       "888                 1       1              Graham, Miss. Margaret Edith   \n",
       "889                 0       3  Johnston, Miss. Catherine Helen \"Carrie\"   \n",
       "890                 1       1                     Behr, Mr. Karl Howell   \n",
       "891                 0       3                       Dooley, Mr. Patrick   \n",
       "\n",
       "             Gender   Age  SibSp  Parch            Ticket     Fare Cabin  \n",
       "PassengerId                                                               \n",
       "882            male  33.0      0      0            349257   7.8958   NaN  \n",
       "883          female  22.0      0      0              7552  10.5167   NaN  \n",
       "884            male  28.0      0      0  C.A./SOTON 34068  10.5000   NaN  \n",
       "885            male  25.0      0      0   SOTON/OQ 392076   7.0500   NaN  \n",
       "886          female  39.0      0      5            382652  29.1250   NaN  \n",
       "887            male  27.0      0      0            211536  13.0000   NaN  \n",
       "888          female  19.0      0      0            112053  30.0000   B42  \n",
       "889          female   NaN      1      2        W./C. 6607  23.4500   NaN  \n",
       "890            male  26.0      0      0            111369  30.0000  C148  \n",
       "891            male  32.0      0      0            370376   7.7500   NaN  "
      ]
     },
     "execution_count": 42,
     "metadata": {},
     "output_type": "execute_result"
    }
   ],
   "source": [
    "df_csv.tail(10) #last 10 observation, "
   ]
  },
  {
   "cell_type": "code",
   "execution_count": 43,
   "id": "06ee1b42-f126-419f-9b1d-22fdcfa3b1c9",
   "metadata": {},
   "outputs": [
    {
     "data": {
      "text/html": [
       "<div>\n",
       "<style scoped>\n",
       "    .dataframe tbody tr th:only-of-type {\n",
       "        vertical-align: middle;\n",
       "    }\n",
       "\n",
       "    .dataframe tbody tr th {\n",
       "        vertical-align: top;\n",
       "    }\n",
       "\n",
       "    .dataframe thead th {\n",
       "        text-align: right;\n",
       "    }\n",
       "</style>\n",
       "<table border=\"1\" class=\"dataframe\">\n",
       "  <thead>\n",
       "    <tr style=\"text-align: right;\">\n",
       "      <th></th>\n",
       "      <th>Survived</th>\n",
       "      <th>Pclass</th>\n",
       "      <th>Age</th>\n",
       "      <th>SibSp</th>\n",
       "      <th>Parch</th>\n",
       "      <th>Fare</th>\n",
       "    </tr>\n",
       "  </thead>\n",
       "  <tbody>\n",
       "    <tr>\n",
       "      <th>count</th>\n",
       "      <td>891.000000</td>\n",
       "      <td>891.000000</td>\n",
       "      <td>714.000000</td>\n",
       "      <td>891.000000</td>\n",
       "      <td>891.000000</td>\n",
       "      <td>891.000000</td>\n",
       "    </tr>\n",
       "    <tr>\n",
       "      <th>mean</th>\n",
       "      <td>0.383838</td>\n",
       "      <td>2.308642</td>\n",
       "      <td>29.699118</td>\n",
       "      <td>0.523008</td>\n",
       "      <td>0.381594</td>\n",
       "      <td>32.204208</td>\n",
       "    </tr>\n",
       "    <tr>\n",
       "      <th>std</th>\n",
       "      <td>0.486592</td>\n",
       "      <td>0.836071</td>\n",
       "      <td>14.526497</td>\n",
       "      <td>1.102743</td>\n",
       "      <td>0.806057</td>\n",
       "      <td>49.693429</td>\n",
       "    </tr>\n",
       "    <tr>\n",
       "      <th>min</th>\n",
       "      <td>0.000000</td>\n",
       "      <td>1.000000</td>\n",
       "      <td>0.420000</td>\n",
       "      <td>0.000000</td>\n",
       "      <td>0.000000</td>\n",
       "      <td>0.000000</td>\n",
       "    </tr>\n",
       "    <tr>\n",
       "      <th>25%</th>\n",
       "      <td>0.000000</td>\n",
       "      <td>2.000000</td>\n",
       "      <td>20.125000</td>\n",
       "      <td>0.000000</td>\n",
       "      <td>0.000000</td>\n",
       "      <td>7.910400</td>\n",
       "    </tr>\n",
       "    <tr>\n",
       "      <th>50%</th>\n",
       "      <td>0.000000</td>\n",
       "      <td>3.000000</td>\n",
       "      <td>28.000000</td>\n",
       "      <td>0.000000</td>\n",
       "      <td>0.000000</td>\n",
       "      <td>14.454200</td>\n",
       "    </tr>\n",
       "    <tr>\n",
       "      <th>75%</th>\n",
       "      <td>1.000000</td>\n",
       "      <td>3.000000</td>\n",
       "      <td>38.000000</td>\n",
       "      <td>1.000000</td>\n",
       "      <td>0.000000</td>\n",
       "      <td>31.000000</td>\n",
       "    </tr>\n",
       "    <tr>\n",
       "      <th>max</th>\n",
       "      <td>1.000000</td>\n",
       "      <td>3.000000</td>\n",
       "      <td>80.000000</td>\n",
       "      <td>8.000000</td>\n",
       "      <td>6.000000</td>\n",
       "      <td>512.329200</td>\n",
       "    </tr>\n",
       "  </tbody>\n",
       "</table>\n",
       "</div>"
      ],
      "text/plain": [
       "         Survived      Pclass         Age       SibSp       Parch        Fare\n",
       "count  891.000000  891.000000  714.000000  891.000000  891.000000  891.000000\n",
       "mean     0.383838    2.308642   29.699118    0.523008    0.381594   32.204208\n",
       "std      0.486592    0.836071   14.526497    1.102743    0.806057   49.693429\n",
       "min      0.000000    1.000000    0.420000    0.000000    0.000000    0.000000\n",
       "25%      0.000000    2.000000   20.125000    0.000000    0.000000    7.910400\n",
       "50%      0.000000    3.000000   28.000000    0.000000    0.000000   14.454200\n",
       "75%      1.000000    3.000000   38.000000    1.000000    0.000000   31.000000\n",
       "max      1.000000    3.000000   80.000000    8.000000    6.000000  512.329200"
      ]
     },
     "execution_count": 43,
     "metadata": {},
     "output_type": "execute_result"
    }
   ],
   "source": [
    "df_csv.describe() #show only numerical summaries,"
   ]
  },
  {
   "cell_type": "code",
   "execution_count": 44,
   "id": "6e2e0a53-2166-486f-b979-42b6b832678f",
   "metadata": {},
   "outputs": [
    {
     "data": {
      "text/html": [
       "<div>\n",
       "<style scoped>\n",
       "    .dataframe tbody tr th:only-of-type {\n",
       "        vertical-align: middle;\n",
       "    }\n",
       "\n",
       "    .dataframe tbody tr th {\n",
       "        vertical-align: top;\n",
       "    }\n",
       "\n",
       "    .dataframe thead th {\n",
       "        text-align: right;\n",
       "    }\n",
       "</style>\n",
       "<table border=\"1\" class=\"dataframe\">\n",
       "  <thead>\n",
       "    <tr style=\"text-align: right;\">\n",
       "      <th></th>\n",
       "      <th>Survived</th>\n",
       "      <th>Pclass</th>\n",
       "      <th>Name</th>\n",
       "      <th>Gender</th>\n",
       "      <th>Age</th>\n",
       "      <th>SibSp</th>\n",
       "      <th>Parch</th>\n",
       "      <th>Ticket</th>\n",
       "      <th>Fare</th>\n",
       "      <th>Cabin</th>\n",
       "    </tr>\n",
       "  </thead>\n",
       "  <tbody>\n",
       "    <tr>\n",
       "      <th>count</th>\n",
       "      <td>891.000000</td>\n",
       "      <td>891.000000</td>\n",
       "      <td>891</td>\n",
       "      <td>891</td>\n",
       "      <td>714.000000</td>\n",
       "      <td>891.000000</td>\n",
       "      <td>891.000000</td>\n",
       "      <td>891</td>\n",
       "      <td>891.000000</td>\n",
       "      <td>204</td>\n",
       "    </tr>\n",
       "    <tr>\n",
       "      <th>unique</th>\n",
       "      <td>NaN</td>\n",
       "      <td>NaN</td>\n",
       "      <td>891</td>\n",
       "      <td>2</td>\n",
       "      <td>NaN</td>\n",
       "      <td>NaN</td>\n",
       "      <td>NaN</td>\n",
       "      <td>681</td>\n",
       "      <td>NaN</td>\n",
       "      <td>147</td>\n",
       "    </tr>\n",
       "    <tr>\n",
       "      <th>top</th>\n",
       "      <td>NaN</td>\n",
       "      <td>NaN</td>\n",
       "      <td>Braund, Mr. Owen Harris</td>\n",
       "      <td>male</td>\n",
       "      <td>NaN</td>\n",
       "      <td>NaN</td>\n",
       "      <td>NaN</td>\n",
       "      <td>347082</td>\n",
       "      <td>NaN</td>\n",
       "      <td>B96 B98</td>\n",
       "    </tr>\n",
       "    <tr>\n",
       "      <th>freq</th>\n",
       "      <td>NaN</td>\n",
       "      <td>NaN</td>\n",
       "      <td>1</td>\n",
       "      <td>577</td>\n",
       "      <td>NaN</td>\n",
       "      <td>NaN</td>\n",
       "      <td>NaN</td>\n",
       "      <td>7</td>\n",
       "      <td>NaN</td>\n",
       "      <td>4</td>\n",
       "    </tr>\n",
       "    <tr>\n",
       "      <th>mean</th>\n",
       "      <td>0.383838</td>\n",
       "      <td>2.308642</td>\n",
       "      <td>NaN</td>\n",
       "      <td>NaN</td>\n",
       "      <td>29.699118</td>\n",
       "      <td>0.523008</td>\n",
       "      <td>0.381594</td>\n",
       "      <td>NaN</td>\n",
       "      <td>32.204208</td>\n",
       "      <td>NaN</td>\n",
       "    </tr>\n",
       "    <tr>\n",
       "      <th>std</th>\n",
       "      <td>0.486592</td>\n",
       "      <td>0.836071</td>\n",
       "      <td>NaN</td>\n",
       "      <td>NaN</td>\n",
       "      <td>14.526497</td>\n",
       "      <td>1.102743</td>\n",
       "      <td>0.806057</td>\n",
       "      <td>NaN</td>\n",
       "      <td>49.693429</td>\n",
       "      <td>NaN</td>\n",
       "    </tr>\n",
       "    <tr>\n",
       "      <th>min</th>\n",
       "      <td>0.000000</td>\n",
       "      <td>1.000000</td>\n",
       "      <td>NaN</td>\n",
       "      <td>NaN</td>\n",
       "      <td>0.420000</td>\n",
       "      <td>0.000000</td>\n",
       "      <td>0.000000</td>\n",
       "      <td>NaN</td>\n",
       "      <td>0.000000</td>\n",
       "      <td>NaN</td>\n",
       "    </tr>\n",
       "    <tr>\n",
       "      <th>25%</th>\n",
       "      <td>0.000000</td>\n",
       "      <td>2.000000</td>\n",
       "      <td>NaN</td>\n",
       "      <td>NaN</td>\n",
       "      <td>20.125000</td>\n",
       "      <td>0.000000</td>\n",
       "      <td>0.000000</td>\n",
       "      <td>NaN</td>\n",
       "      <td>7.910400</td>\n",
       "      <td>NaN</td>\n",
       "    </tr>\n",
       "    <tr>\n",
       "      <th>50%</th>\n",
       "      <td>0.000000</td>\n",
       "      <td>3.000000</td>\n",
       "      <td>NaN</td>\n",
       "      <td>NaN</td>\n",
       "      <td>28.000000</td>\n",
       "      <td>0.000000</td>\n",
       "      <td>0.000000</td>\n",
       "      <td>NaN</td>\n",
       "      <td>14.454200</td>\n",
       "      <td>NaN</td>\n",
       "    </tr>\n",
       "    <tr>\n",
       "      <th>75%</th>\n",
       "      <td>1.000000</td>\n",
       "      <td>3.000000</td>\n",
       "      <td>NaN</td>\n",
       "      <td>NaN</td>\n",
       "      <td>38.000000</td>\n",
       "      <td>1.000000</td>\n",
       "      <td>0.000000</td>\n",
       "      <td>NaN</td>\n",
       "      <td>31.000000</td>\n",
       "      <td>NaN</td>\n",
       "    </tr>\n",
       "    <tr>\n",
       "      <th>max</th>\n",
       "      <td>1.000000</td>\n",
       "      <td>3.000000</td>\n",
       "      <td>NaN</td>\n",
       "      <td>NaN</td>\n",
       "      <td>80.000000</td>\n",
       "      <td>8.000000</td>\n",
       "      <td>6.000000</td>\n",
       "      <td>NaN</td>\n",
       "      <td>512.329200</td>\n",
       "      <td>NaN</td>\n",
       "    </tr>\n",
       "  </tbody>\n",
       "</table>\n",
       "</div>"
      ],
      "text/plain": [
       "          Survived      Pclass                     Name Gender         Age  \\\n",
       "count   891.000000  891.000000                      891    891  714.000000   \n",
       "unique         NaN         NaN                      891      2         NaN   \n",
       "top            NaN         NaN  Braund, Mr. Owen Harris   male         NaN   \n",
       "freq           NaN         NaN                        1    577         NaN   \n",
       "mean      0.383838    2.308642                      NaN    NaN   29.699118   \n",
       "std       0.486592    0.836071                      NaN    NaN   14.526497   \n",
       "min       0.000000    1.000000                      NaN    NaN    0.420000   \n",
       "25%       0.000000    2.000000                      NaN    NaN   20.125000   \n",
       "50%       0.000000    3.000000                      NaN    NaN   28.000000   \n",
       "75%       1.000000    3.000000                      NaN    NaN   38.000000   \n",
       "max       1.000000    3.000000                      NaN    NaN   80.000000   \n",
       "\n",
       "             SibSp       Parch  Ticket        Fare    Cabin  \n",
       "count   891.000000  891.000000     891  891.000000      204  \n",
       "unique         NaN         NaN     681         NaN      147  \n",
       "top            NaN         NaN  347082         NaN  B96 B98  \n",
       "freq           NaN         NaN       7         NaN        4  \n",
       "mean      0.523008    0.381594     NaN   32.204208      NaN  \n",
       "std       1.102743    0.806057     NaN   49.693429      NaN  \n",
       "min       0.000000    0.000000     NaN    0.000000      NaN  \n",
       "25%       0.000000    0.000000     NaN    7.910400      NaN  \n",
       "50%       0.000000    0.000000     NaN   14.454200      NaN  \n",
       "75%       1.000000    0.000000     NaN   31.000000      NaN  \n",
       "max       8.000000    6.000000     NaN  512.329200      NaN  "
      ]
     },
     "execution_count": 44,
     "metadata": {},
     "output_type": "execute_result"
    }
   ],
   "source": [
    "df_csv.describe(include='all') #include all variables including numerical and categorical."
   ]
  },
  {
   "cell_type": "code",
   "execution_count": 45,
   "id": "17de69ff-3777-42d4-a350-828aa19773ec",
   "metadata": {},
   "outputs": [
    {
     "name": "stdout",
     "output_type": "stream",
     "text": [
      "<class 'pandas.core.frame.DataFrame'>\n",
      "Int64Index: 891 entries, 1 to 891\n",
      "Data columns (total 10 columns):\n",
      " #   Column    Non-Null Count  Dtype  \n",
      "---  ------    --------------  -----  \n",
      " 0   Survived  891 non-null    int64  \n",
      " 1   Pclass    891 non-null    int64  \n",
      " 2   Name      891 non-null    object \n",
      " 3   Gender    891 non-null    object \n",
      " 4   Age       714 non-null    float64\n",
      " 5   SibSp     891 non-null    int64  \n",
      " 6   Parch     891 non-null    int64  \n",
      " 7   Ticket    891 non-null    object \n",
      " 8   Fare      891 non-null    float64\n",
      " 9   Cabin     204 non-null    object \n",
      "dtypes: float64(2), int64(4), object(4)\n",
      "memory usage: 76.6+ KB\n",
      "None\n"
     ]
    }
   ],
   "source": [
    "# Info about Data Set\n",
    "print(df_csv.info()) #try: head(), tail()\n"
   ]
  },
  {
   "cell_type": "code",
   "execution_count": 47,
   "id": "29b32a60-eb9e-4907-a738-9d8e5170e837",
   "metadata": {},
   "outputs": [],
   "source": [
    "# Load the CSV into a DataFrame:\n",
    "import pandas as pd\n",
    "\n",
    "#df_csv.to_string()\n"
   ]
  },
  {
   "cell_type": "code",
   "execution_count": 50,
   "id": "97d010ce-394e-4f1b-b984-645460b7f8ca",
   "metadata": {},
   "outputs": [],
   "source": [
    "# Return a new Data Frame with no empty cells:\n",
    "# This is not a good practice. Run, but don't do!\n",
    "# Remove all rows with NULL values: If you want to change the original DataFrame, use the inplace = True argument\n",
    "\n",
    "df_csv.dropna(inplace = True)\n",
    "\n",
    "#print(df_csv.to_string())"
   ]
  },
  {
   "cell_type": "code",
   "execution_count": 51,
   "id": "3394d465-7a49-4175-96d5-ba51d6e9de86",
   "metadata": {},
   "outputs": [
    {
     "name": "stdout",
     "output_type": "stream",
     "text": [
      "<class 'pandas.core.frame.DataFrame'>\n",
      "Int64Index: 185 entries, 2 to 890\n",
      "Data columns (total 10 columns):\n",
      " #   Column    Non-Null Count  Dtype  \n",
      "---  ------    --------------  -----  \n",
      " 0   Survived  185 non-null    int64  \n",
      " 1   Pclass    185 non-null    int64  \n",
      " 2   Name      185 non-null    object \n",
      " 3   Gender    185 non-null    object \n",
      " 4   Age       185 non-null    float64\n",
      " 5   SibSp     185 non-null    int64  \n",
      " 6   Parch     185 non-null    int64  \n",
      " 7   Ticket    185 non-null    object \n",
      " 8   Fare      185 non-null    float64\n",
      " 9   Cabin     185 non-null    object \n",
      "dtypes: float64(2), int64(4), object(4)\n",
      "memory usage: 15.9+ KB\n",
      "None\n"
     ]
    }
   ],
   "source": [
    "# We lost the rows that have at least one NA\n",
    "# This is not a good practice. Don't do!\n",
    "print(df_csv.info()) #try: head(), tail()"
   ]
  },
  {
   "cell_type": "code",
   "execution_count": 52,
   "id": "2315e219-ac7a-409c-8219-21f8235c1ab0",
   "metadata": {},
   "outputs": [
    {
     "name": "stdout",
     "output_type": "stream",
     "text": [
      "<class 'pandas.core.frame.DataFrame'>\n",
      "Int64Index: 185 entries, 2 to 890\n",
      "Data columns (total 10 columns):\n",
      " #   Column    Non-Null Count  Dtype  \n",
      "---  ------    --------------  -----  \n",
      " 0   Survived  185 non-null    int64  \n",
      " 1   Pclass    185 non-null    int64  \n",
      " 2   Name      185 non-null    object \n",
      " 3   Gender    185 non-null    object \n",
      " 4   Age       185 non-null    float64\n",
      " 5   SibSp     185 non-null    int64  \n",
      " 6   Parch     185 non-null    int64  \n",
      " 7   Ticket    185 non-null    object \n",
      " 8   Fare      185 non-null    float64\n",
      " 9   Cabin     185 non-null    object \n",
      "dtypes: float64(2), int64(4), object(4)\n",
      "memory usage: 15.9+ KB\n",
      "None\n"
     ]
    }
   ],
   "source": [
    "# Print the replaced data set. lost rows. not good practice\n",
    "print(df_csv.info()) #try: head(), tail()"
   ]
  },
  {
   "cell_type": "code",
   "execution_count": 53,
   "id": "8144e054-5a02-4848-bfa7-dbcb1cd79a7e",
   "metadata": {},
   "outputs": [
    {
     "name": "stdout",
     "output_type": "stream",
     "text": [
      "<class 'pandas.core.frame.DataFrame'>\n",
      "RangeIndex: 891 entries, 0 to 890\n",
      "Data columns (total 11 columns):\n",
      " #   Column       Non-Null Count  Dtype  \n",
      "---  ------       --------------  -----  \n",
      " 0   PassengerId  891 non-null    int64  \n",
      " 1   Survived     891 non-null    int64  \n",
      " 2   Pclass       891 non-null    int64  \n",
      " 3   Name         891 non-null    object \n",
      " 4   Gender       891 non-null    object \n",
      " 5   Age          714 non-null    float64\n",
      " 6   SibSp        891 non-null    int64  \n",
      " 7   Parch        891 non-null    int64  \n",
      " 8   Ticket       891 non-null    object \n",
      " 9   Fare         891 non-null    float64\n",
      " 10  Cabin        204 non-null    object \n",
      "dtypes: float64(2), int64(5), object(4)\n",
      "memory usage: 76.7+ KB\n",
      "None\n"
     ]
    }
   ],
   "source": [
    "# Recover the data set\n",
    "df_csv = pd.read_csv('Train_Titanic.csv')\n",
    "\n",
    "print(df_csv.info()) #try: head(), tail()\n",
    "\n"
   ]
  },
  {
   "cell_type": "code",
   "execution_count": 54,
   "id": "9c478053-b4b6-41d4-ae64-a850e5b365e9",
   "metadata": {},
   "outputs": [
    {
     "name": "stdout",
     "output_type": "stream",
     "text": [
      "   PassengerId  Survived  Pclass  \\\n",
      "0            1         0       3   \n",
      "1            2         1       1   \n",
      "2            3         1       3   \n",
      "3            4         1       1   \n",
      "4            5         0       3   \n",
      "5            6         0       3   \n",
      "6            7         0       1   \n",
      "7            8         0       3   \n",
      "8            9         1       3   \n",
      "9           10         1       2   \n",
      "\n",
      "                                                Name  Gender   Age  SibSp  \\\n",
      "0                            Braund, Mr. Owen Harris    male  22.0      1   \n",
      "1  Cumings, Mrs. John Bradley (Florence Briggs Th...  female  38.0      1   \n",
      "2                             Heikkinen, Miss. Laina  female  26.0      0   \n",
      "3       Futrelle, Mrs. Jacques Heath (Lily May Peel)  female  35.0      1   \n",
      "4                           Allen, Mr. William Henry    male  35.0      0   \n",
      "5                                   Moran, Mr. James    male   NaN      0   \n",
      "6                            McCarthy, Mr. Timothy J    male  54.0      0   \n",
      "7                     Palsson, Master. Gosta Leonard    male   2.0      3   \n",
      "8  Johnson, Mrs. Oscar W (Elisabeth Vilhelmina Berg)  female  27.0      0   \n",
      "9                Nasser, Mrs. Nicholas (Adele Achem)  female  14.0      1   \n",
      "\n",
      "   Parch            Ticket     Fare Cabin  \n",
      "0      0         A/5 21171   7.2500   NaN  \n",
      "1      0          PC 17599  71.2833   C85  \n",
      "2      0  STON/O2. 3101282   7.9250   NaN  \n",
      "3      0            113803  53.1000  C123  \n",
      "4      0            373450   8.0500   NaN  \n",
      "5      0            330877   8.4583   NaN  \n",
      "6      0             17463  51.8625   E46  \n",
      "7      1            349909  21.0750   NaN  \n",
      "8      2            347742  11.1333   NaN  \n",
      "9      0            237736  30.0708   NaN  \n"
     ]
    }
   ],
   "source": [
    "print(df_csv.head(10))\n"
   ]
  },
  {
   "cell_type": "code",
   "execution_count": 55,
   "id": "ecc709e2-3f8a-4420-afeb-e487dfefff90",
   "metadata": {},
   "outputs": [
    {
     "data": {
      "text/plain": [
       "(891, 11)"
      ]
     },
     "execution_count": 55,
     "metadata": {},
     "output_type": "execute_result"
    }
   ],
   "source": [
    "# Dim of the data\n",
    "df_csv.shape"
   ]
  },
  {
   "cell_type": "code",
   "execution_count": 56,
   "id": "ca215f22-5058-4cf9-bfe7-b16d15c88863",
   "metadata": {},
   "outputs": [
    {
     "data": {
      "text/html": [
       "<div>\n",
       "<style scoped>\n",
       "    .dataframe tbody tr th:only-of-type {\n",
       "        vertical-align: middle;\n",
       "    }\n",
       "\n",
       "    .dataframe tbody tr th {\n",
       "        vertical-align: top;\n",
       "    }\n",
       "\n",
       "    .dataframe thead th {\n",
       "        text-align: right;\n",
       "    }\n",
       "</style>\n",
       "<table border=\"1\" class=\"dataframe\">\n",
       "  <thead>\n",
       "    <tr style=\"text-align: right;\">\n",
       "      <th></th>\n",
       "      <th>PassengerId</th>\n",
       "      <th>Survived</th>\n",
       "      <th>Pclass</th>\n",
       "      <th>Name</th>\n",
       "      <th>Gender</th>\n",
       "      <th>Age</th>\n",
       "      <th>SibSp</th>\n",
       "      <th>Parch</th>\n",
       "      <th>Ticket</th>\n",
       "      <th>Fare</th>\n",
       "      <th>Cabin</th>\n",
       "    </tr>\n",
       "  </thead>\n",
       "  <tbody>\n",
       "    <tr>\n",
       "      <th>0</th>\n",
       "      <td>1</td>\n",
       "      <td>0</td>\n",
       "      <td>3</td>\n",
       "      <td>Braund, Mr. Owen Harris</td>\n",
       "      <td>male</td>\n",
       "      <td>22.0</td>\n",
       "      <td>1</td>\n",
       "      <td>0</td>\n",
       "      <td>A/5 21171</td>\n",
       "      <td>7.2500</td>\n",
       "      <td>NaN</td>\n",
       "    </tr>\n",
       "    <tr>\n",
       "      <th>1</th>\n",
       "      <td>2</td>\n",
       "      <td>1</td>\n",
       "      <td>1</td>\n",
       "      <td>Cumings, Mrs. John Bradley (Florence Briggs Th...</td>\n",
       "      <td>female</td>\n",
       "      <td>38.0</td>\n",
       "      <td>1</td>\n",
       "      <td>0</td>\n",
       "      <td>PC 17599</td>\n",
       "      <td>71.2833</td>\n",
       "      <td>C85</td>\n",
       "    </tr>\n",
       "    <tr>\n",
       "      <th>2</th>\n",
       "      <td>3</td>\n",
       "      <td>1</td>\n",
       "      <td>3</td>\n",
       "      <td>Heikkinen, Miss. Laina</td>\n",
       "      <td>female</td>\n",
       "      <td>26.0</td>\n",
       "      <td>0</td>\n",
       "      <td>0</td>\n",
       "      <td>STON/O2. 3101282</td>\n",
       "      <td>7.9250</td>\n",
       "      <td>NaN</td>\n",
       "    </tr>\n",
       "    <tr>\n",
       "      <th>3</th>\n",
       "      <td>4</td>\n",
       "      <td>1</td>\n",
       "      <td>1</td>\n",
       "      <td>Futrelle, Mrs. Jacques Heath (Lily May Peel)</td>\n",
       "      <td>female</td>\n",
       "      <td>35.0</td>\n",
       "      <td>1</td>\n",
       "      <td>0</td>\n",
       "      <td>113803</td>\n",
       "      <td>53.1000</td>\n",
       "      <td>C123</td>\n",
       "    </tr>\n",
       "    <tr>\n",
       "      <th>4</th>\n",
       "      <td>5</td>\n",
       "      <td>0</td>\n",
       "      <td>3</td>\n",
       "      <td>Allen, Mr. William Henry</td>\n",
       "      <td>male</td>\n",
       "      <td>35.0</td>\n",
       "      <td>0</td>\n",
       "      <td>0</td>\n",
       "      <td>373450</td>\n",
       "      <td>8.0500</td>\n",
       "      <td>NaN</td>\n",
       "    </tr>\n",
       "    <tr>\n",
       "      <th>5</th>\n",
       "      <td>6</td>\n",
       "      <td>0</td>\n",
       "      <td>3</td>\n",
       "      <td>Moran, Mr. James</td>\n",
       "      <td>male</td>\n",
       "      <td>NaN</td>\n",
       "      <td>0</td>\n",
       "      <td>0</td>\n",
       "      <td>330877</td>\n",
       "      <td>8.4583</td>\n",
       "      <td>NaN</td>\n",
       "    </tr>\n",
       "    <tr>\n",
       "      <th>6</th>\n",
       "      <td>7</td>\n",
       "      <td>0</td>\n",
       "      <td>1</td>\n",
       "      <td>McCarthy, Mr. Timothy J</td>\n",
       "      <td>male</td>\n",
       "      <td>54.0</td>\n",
       "      <td>0</td>\n",
       "      <td>0</td>\n",
       "      <td>17463</td>\n",
       "      <td>51.8625</td>\n",
       "      <td>E46</td>\n",
       "    </tr>\n",
       "    <tr>\n",
       "      <th>7</th>\n",
       "      <td>8</td>\n",
       "      <td>0</td>\n",
       "      <td>3</td>\n",
       "      <td>Palsson, Master. Gosta Leonard</td>\n",
       "      <td>male</td>\n",
       "      <td>2.0</td>\n",
       "      <td>3</td>\n",
       "      <td>1</td>\n",
       "      <td>349909</td>\n",
       "      <td>21.0750</td>\n",
       "      <td>NaN</td>\n",
       "    </tr>\n",
       "    <tr>\n",
       "      <th>8</th>\n",
       "      <td>9</td>\n",
       "      <td>1</td>\n",
       "      <td>3</td>\n",
       "      <td>Johnson, Mrs. Oscar W (Elisabeth Vilhelmina Berg)</td>\n",
       "      <td>female</td>\n",
       "      <td>27.0</td>\n",
       "      <td>0</td>\n",
       "      <td>2</td>\n",
       "      <td>347742</td>\n",
       "      <td>11.1333</td>\n",
       "      <td>NaN</td>\n",
       "    </tr>\n",
       "    <tr>\n",
       "      <th>9</th>\n",
       "      <td>10</td>\n",
       "      <td>1</td>\n",
       "      <td>2</td>\n",
       "      <td>Nasser, Mrs. Nicholas (Adele Achem)</td>\n",
       "      <td>female</td>\n",
       "      <td>14.0</td>\n",
       "      <td>1</td>\n",
       "      <td>0</td>\n",
       "      <td>237736</td>\n",
       "      <td>30.0708</td>\n",
       "      <td>NaN</td>\n",
       "    </tr>\n",
       "  </tbody>\n",
       "</table>\n",
       "</div>"
      ],
      "text/plain": [
       "   PassengerId  Survived  Pclass  \\\n",
       "0            1         0       3   \n",
       "1            2         1       1   \n",
       "2            3         1       3   \n",
       "3            4         1       1   \n",
       "4            5         0       3   \n",
       "5            6         0       3   \n",
       "6            7         0       1   \n",
       "7            8         0       3   \n",
       "8            9         1       3   \n",
       "9           10         1       2   \n",
       "\n",
       "                                                Name  Gender   Age  SibSp  \\\n",
       "0                            Braund, Mr. Owen Harris    male  22.0      1   \n",
       "1  Cumings, Mrs. John Bradley (Florence Briggs Th...  female  38.0      1   \n",
       "2                             Heikkinen, Miss. Laina  female  26.0      0   \n",
       "3       Futrelle, Mrs. Jacques Heath (Lily May Peel)  female  35.0      1   \n",
       "4                           Allen, Mr. William Henry    male  35.0      0   \n",
       "5                                   Moran, Mr. James    male   NaN      0   \n",
       "6                            McCarthy, Mr. Timothy J    male  54.0      0   \n",
       "7                     Palsson, Master. Gosta Leonard    male   2.0      3   \n",
       "8  Johnson, Mrs. Oscar W (Elisabeth Vilhelmina Berg)  female  27.0      0   \n",
       "9                Nasser, Mrs. Nicholas (Adele Achem)  female  14.0      1   \n",
       "\n",
       "   Parch            Ticket     Fare Cabin  \n",
       "0      0         A/5 21171   7.2500   NaN  \n",
       "1      0          PC 17599  71.2833   C85  \n",
       "2      0  STON/O2. 3101282   7.9250   NaN  \n",
       "3      0            113803  53.1000  C123  \n",
       "4      0            373450   8.0500   NaN  \n",
       "5      0            330877   8.4583   NaN  \n",
       "6      0             17463  51.8625   E46  \n",
       "7      1            349909  21.0750   NaN  \n",
       "8      2            347742  11.1333   NaN  \n",
       "9      0            237736  30.0708   NaN  "
      ]
     },
     "execution_count": 56,
     "metadata": {},
     "output_type": "execute_result"
    }
   ],
   "source": [
    "df_csv.head(10)"
   ]
  },
  {
   "cell_type": "code",
   "execution_count": 57,
   "id": "026512a5-7b86-409e-bf6d-fe92f7a18348",
   "metadata": {},
   "outputs": [
    {
     "name": "stdout",
     "output_type": "stream",
     "text": [
      "<class 'pandas.core.frame.DataFrame'>\n",
      "RangeIndex: 891 entries, 0 to 890\n",
      "Data columns (total 11 columns):\n",
      " #   Column       Non-Null Count  Dtype  \n",
      "---  ------       --------------  -----  \n",
      " 0   PassengerId  891 non-null    int64  \n",
      " 1   Survived     891 non-null    int64  \n",
      " 2   Pclass       891 non-null    int64  \n",
      " 3   Name         891 non-null    object \n",
      " 4   Gender       891 non-null    object \n",
      " 5   Age          891 non-null    float64\n",
      " 6   SibSp        891 non-null    int64  \n",
      " 7   Parch        891 non-null    int64  \n",
      " 8   Ticket       891 non-null    object \n",
      " 9   Fare         891 non-null    float64\n",
      " 10  Cabin        891 non-null    object \n",
      "dtypes: float64(2), int64(5), object(4)\n",
      "memory usage: 76.7+ KB\n",
      "None\n",
      "   PassengerId  Survived  Pclass  \\\n",
      "0            1         0       3   \n",
      "1            2         1       1   \n",
      "2            3         1       3   \n",
      "3            4         1       1   \n",
      "4            5         0       3   \n",
      "5            6         0       3   \n",
      "6            7         0       1   \n",
      "7            8         0       3   \n",
      "8            9         1       3   \n",
      "9           10         1       2   \n",
      "\n",
      "                                                Name  Gender    Age  SibSp  \\\n",
      "0                            Braund, Mr. Owen Harris    male   22.0      1   \n",
      "1  Cumings, Mrs. John Bradley (Florence Briggs Th...  female   38.0      1   \n",
      "2                             Heikkinen, Miss. Laina  female   26.0      0   \n",
      "3       Futrelle, Mrs. Jacques Heath (Lily May Peel)  female   35.0      1   \n",
      "4                           Allen, Mr. William Henry    male   35.0      0   \n",
      "5                                   Moran, Mr. James    male  130.0      0   \n",
      "6                            McCarthy, Mr. Timothy J    male   54.0      0   \n",
      "7                     Palsson, Master. Gosta Leonard    male    2.0      3   \n",
      "8  Johnson, Mrs. Oscar W (Elisabeth Vilhelmina Berg)  female   27.0      0   \n",
      "9                Nasser, Mrs. Nicholas (Adele Achem)  female   14.0      1   \n",
      "\n",
      "   Parch            Ticket     Fare Cabin  \n",
      "0      0         A/5 21171   7.2500   130  \n",
      "1      0          PC 17599  71.2833   C85  \n",
      "2      0  STON/O2. 3101282   7.9250   130  \n",
      "3      0            113803  53.1000  C123  \n",
      "4      0            373450   8.0500   130  \n",
      "5      0            330877   8.4583   130  \n",
      "6      0             17463  51.8625   E46  \n",
      "7      1            349909  21.0750   130  \n",
      "8      2            347742  11.1333   130  \n",
      "9      0            237736  30.0708   130  \n"
     ]
    }
   ],
   "source": [
    "# Copy the data set, and play with missing imputation\n",
    "# Replace NULL values with the number 130: just demo, not useful\n",
    "\n",
    "df_play = df_csv.copy()\n",
    "\n",
    "df_play.fillna(130, inplace = True)\n",
    "\n",
    "print(df_play.info())\n",
    "\n",
    "# Print first 10\n",
    "print(df_play.head(10))"
   ]
  },
  {
   "cell_type": "code",
   "execution_count": 58,
   "id": "6ba6f2f5-d668-464f-9499-99749c12c844",
   "metadata": {},
   "outputs": [
    {
     "name": "stdout",
     "output_type": "stream",
     "text": [
      "   PassengerId  Survived  Pclass  \\\n",
      "0            1         0       3   \n",
      "1            2         1       1   \n",
      "2            3         1       3   \n",
      "3            4         1       1   \n",
      "4            5         0       3   \n",
      "5            6         0       3   \n",
      "6            7         0       1   \n",
      "7            8         0       3   \n",
      "8            9         1       3   \n",
      "9           10         1       2   \n",
      "\n",
      "                                                Name  Gender   Age  SibSp  \\\n",
      "0                            Braund, Mr. Owen Harris    male  22.0      1   \n",
      "1  Cumings, Mrs. John Bradley (Florence Briggs Th...  female  38.0      1   \n",
      "2                             Heikkinen, Miss. Laina  female  26.0      0   \n",
      "3       Futrelle, Mrs. Jacques Heath (Lily May Peel)  female  35.0      1   \n",
      "4                           Allen, Mr. William Henry    male  35.0      0   \n",
      "5                                   Moran, Mr. James    male  30.0      0   \n",
      "6                            McCarthy, Mr. Timothy J    male  54.0      0   \n",
      "7                     Palsson, Master. Gosta Leonard    male   2.0      3   \n",
      "8  Johnson, Mrs. Oscar W (Elisabeth Vilhelmina Berg)  female  27.0      0   \n",
      "9                Nasser, Mrs. Nicholas (Adele Achem)  female  14.0      1   \n",
      "\n",
      "   Parch            Ticket     Fare Cabin  \n",
      "0      0         A/5 21171   7.2500   NaN  \n",
      "1      0          PC 17599  71.2833   C85  \n",
      "2      0  STON/O2. 3101282   7.9250   NaN  \n",
      "3      0            113803  53.1000  C123  \n",
      "4      0            373450   8.0500   NaN  \n",
      "5      0            330877   8.4583   NaN  \n",
      "6      0             17463  51.8625   E46  \n",
      "7      1            349909  21.0750   NaN  \n",
      "8      2            347742  11.1333   NaN  \n",
      "9      0            237736  30.0708   NaN  \n"
     ]
    }
   ],
   "source": [
    "# Again copy\n",
    "# Replace NULL values in the \"Age\" columns with the number 30:\n",
    "df_play = df_csv.copy()\n",
    "\n",
    "df_play[\"Age\"].fillna(30, inplace = True)\n",
    "\n",
    "# Print first 10\n",
    "print(df_play.head(10))"
   ]
  },
  {
   "cell_type": "code",
   "execution_count": 59,
   "id": "48e60e95-f48d-4e2f-bfd7-a3f436cf951a",
   "metadata": {},
   "outputs": [
    {
     "name": "stdout",
     "output_type": "stream",
     "text": [
      "   PassengerId  Survived  Pclass  \\\n",
      "0            1         0       3   \n",
      "1            2         1       1   \n",
      "2            3         1       3   \n",
      "3            4         1       1   \n",
      "4            5         0       3   \n",
      "5            6         0       3   \n",
      "6            7         0       1   \n",
      "7            8         0       3   \n",
      "8            9         1       3   \n",
      "9           10         1       2   \n",
      "\n",
      "                                                Name  Gender        Age  \\\n",
      "0                            Braund, Mr. Owen Harris    male  22.000000   \n",
      "1  Cumings, Mrs. John Bradley (Florence Briggs Th...  female  38.000000   \n",
      "2                             Heikkinen, Miss. Laina  female  26.000000   \n",
      "3       Futrelle, Mrs. Jacques Heath (Lily May Peel)  female  35.000000   \n",
      "4                           Allen, Mr. William Henry    male  35.000000   \n",
      "5                                   Moran, Mr. James    male  29.699118   \n",
      "6                            McCarthy, Mr. Timothy J    male  54.000000   \n",
      "7                     Palsson, Master. Gosta Leonard    male   2.000000   \n",
      "8  Johnson, Mrs. Oscar W (Elisabeth Vilhelmina Berg)  female  27.000000   \n",
      "9                Nasser, Mrs. Nicholas (Adele Achem)  female  14.000000   \n",
      "\n",
      "   SibSp  Parch            Ticket     Fare Cabin  \n",
      "0      1      0         A/5 21171   7.2500   NaN  \n",
      "1      1      0          PC 17599  71.2833   C85  \n",
      "2      0      0  STON/O2. 3101282   7.9250   NaN  \n",
      "3      1      0            113803  53.1000  C123  \n",
      "4      0      0            373450   8.0500   NaN  \n",
      "5      0      0            330877   8.4583   NaN  \n",
      "6      0      0             17463  51.8625   E46  \n",
      "7      3      1            349909  21.0750   NaN  \n",
      "8      0      2            347742  11.1333   NaN  \n",
      "9      1      0            237736  30.0708   NaN  \n"
     ]
    }
   ],
   "source": [
    "# Again copy\n",
    "# Calculate the MEAN, and replace any empty values with it:\n",
    "df_play = df_csv.copy()\n",
    "\n",
    "x = df_play[\"Age\"].mean() \n",
    "\n",
    "df_play[\"Age\"].fillna(x, inplace = True)\n",
    "\n",
    "print(df_play.head(10))\n",
    "\n",
    "#try .mean() .median() for Quantitative data; .mode() for Qualitative data"
   ]
  },
  {
   "cell_type": "code",
   "execution_count": 60,
   "id": "b12e862b-73d7-48ef-a1df-a7964a4aea0e",
   "metadata": {},
   "outputs": [
    {
     "name": "stdout",
     "output_type": "stream",
     "text": [
      "   PassengerId  Survived  Pclass  \\\n",
      "0            1         0       3   \n",
      "1            2         1       1   \n",
      "2            3         1       3   \n",
      "3            4         1       1   \n",
      "4            5         0       3   \n",
      "5            6         0       3   \n",
      "6            7         0       1   \n",
      "7            8         0       3   \n",
      "8            9         1       3   \n",
      "9           10         1       2   \n",
      "\n",
      "                                                Name  Gender   Age  SibSp  \\\n",
      "0                            Braund, Mr. Owen Harris    male  22.0      1   \n",
      "1  Cumings, Mrs. John Bradley (Florence Briggs Th...  female  38.0      1   \n",
      "2                             Heikkinen, Miss. Laina  female  26.0      0   \n",
      "3       Futrelle, Mrs. Jacques Heath (Lily May Peel)  female  35.0      1   \n",
      "4                           Allen, Mr. William Henry    male  35.0      0   \n",
      "5                                   Moran, Mr. James    male   NaN      0   \n",
      "6                            McCarthy, Mr. Timothy J    male  54.0      0   \n",
      "7                     Palsson, Master. Gosta Leonard    male   2.0      3   \n",
      "8  Johnson, Mrs. Oscar W (Elisabeth Vilhelmina Berg)  female  27.0      0   \n",
      "9                Nasser, Mrs. Nicholas (Adele Achem)  female  14.0      1   \n",
      "\n",
      "   Parch            Ticket     Fare    Cabin  \n",
      "0      0         A/5 21171   7.2500  B96 B98  \n",
      "1      0          PC 17599  71.2833      C85  \n",
      "2      0  STON/O2. 3101282   7.9250  B96 B98  \n",
      "3      0            113803  53.1000     C123  \n",
      "4      0            373450   8.0500  B96 B98  \n",
      "5      0            330877   8.4583  B96 B98  \n",
      "6      0             17463  51.8625      E46  \n",
      "7      1            349909  21.0750  B96 B98  \n",
      "8      2            347742  11.1333  B96 B98  \n",
      "9      0            237736  30.0708  B96 B98  \n"
     ]
    }
   ],
   "source": [
    "# Calculate the MODE, and replace any empty values with it:\n",
    "df_play = df_csv.copy()\n",
    "\n",
    "y = df_play[\"Cabin\"].mode()[0] \n",
    "\n",
    "df_play[\"Cabin\"].fillna(y, inplace = True)\n",
    "\n",
    "print(df_play.head(10))"
   ]
  },
  {
   "cell_type": "code",
   "execution_count": 61,
   "id": "04c18bda-16b8-4c56-a91c-08f20a4ddc48",
   "metadata": {},
   "outputs": [],
   "source": [
    "# How to rename column names\n",
    "# Visit https://towardsdatascience.com/21-pandas-operations-for-absolute-beginners-5653e54f4cda\n",
    "\n",
    "df = pd.DataFrame(data={'a':[1,1,3,4,5],\n",
    "                        'b':[0,0,5,10,15]})\n",
    "\n",
    "new_df = df.rename({'a':'new_a','b':'new_b'})\n"
   ]
  },
  {
   "cell_type": "code",
   "execution_count": 62,
   "id": "d3f5bf5e-dc24-4637-8f77-bbcab6a47767",
   "metadata": {},
   "outputs": [
    {
     "name": "stdout",
     "output_type": "stream",
     "text": [
      "   a   b\n",
      "0  1   0\n",
      "1  1   0\n",
      "2  3   5\n",
      "3  4  10\n",
      "4  5  15\n"
     ]
    }
   ],
   "source": [
    "print(new_df)\n"
   ]
  },
  {
   "cell_type": "code",
   "execution_count": 63,
   "id": "ba3ffa86-6889-4c02-8a5e-94d3be8bd402",
   "metadata": {},
   "outputs": [
    {
     "name": "stdout",
     "output_type": "stream",
     "text": [
      "['a', 'b']\n"
     ]
    }
   ],
   "source": [
    "# How to get column names in a list?\n",
    "\n",
    "col = df.columns.tolist()\n",
    "\n",
    "print(col)\n"
   ]
  },
  {
   "cell_type": "code",
   "execution_count": 64,
   "id": "e9a3ec8a-70bf-467f-9fbe-7b2e9199da05",
   "metadata": {},
   "outputs": [
    {
     "data": {
      "text/plain": [
       "a  b \n",
       "1  0     2\n",
       "3  5     1\n",
       "4  10    1\n",
       "5  15    1\n",
       "dtype: int64"
      ]
     },
     "execution_count": 64,
     "metadata": {},
     "output_type": "execute_result"
    }
   ],
   "source": [
    "# How to get the frequency of values in a series?\n",
    "# Just syntax is below\n",
    "# Need to adjust the code for the data\n",
    "\n",
    "df[col].value_counts() #returns a mapper of key,frequency pair\n",
    "\n",
    "#df[col].value_counts()[key] #to get frequency of a key value"
   ]
  },
  {
   "cell_type": "code",
   "execution_count": 65,
   "id": "dddc5c16-c738-4af0-a548-cf8dc9a3201f",
   "metadata": {},
   "outputs": [],
   "source": [
    "# How to reset an index to an existing column or another list or array?\n",
    "\n",
    "new_df = df.reset_index(drop=True,inplace=False)"
   ]
  },
  {
   "cell_type": "code",
   "execution_count": 66,
   "id": "a5565d31-dbd1-44f0-a7cc-2717c1a933bd",
   "metadata": {},
   "outputs": [],
   "source": [
    "# Your turn\n",
    "# Define list_of_cols, col_name, list_of_cols_to_drop\n",
    "\n",
    "list_of_cols = ['a','b', 'c']\n",
    "\n",
    "col_name = 'a'\n",
    "\n",
    "list_of_cols_to_drop =['b','c']\n",
    "\n",
    "# then run the following codes"
   ]
  },
  {
   "cell_type": "code",
   "execution_count": 67,
   "id": "59391306-e784-483b-bd2f-933b44fe73ba",
   "metadata": {},
   "outputs": [
    {
     "data": {
      "text/html": [
       "<div>\n",
       "<style scoped>\n",
       "    .dataframe tbody tr th:only-of-type {\n",
       "        vertical-align: middle;\n",
       "    }\n",
       "\n",
       "    .dataframe tbody tr th {\n",
       "        vertical-align: top;\n",
       "    }\n",
       "\n",
       "    .dataframe thead th {\n",
       "        text-align: right;\n",
       "    }\n",
       "</style>\n",
       "<table border=\"1\" class=\"dataframe\">\n",
       "  <thead>\n",
       "    <tr style=\"text-align: right;\">\n",
       "      <th></th>\n",
       "      <th>b</th>\n",
       "    </tr>\n",
       "  </thead>\n",
       "  <tbody>\n",
       "    <tr>\n",
       "      <th>0</th>\n",
       "      <td>0</td>\n",
       "    </tr>\n",
       "    <tr>\n",
       "      <th>1</th>\n",
       "      <td>0</td>\n",
       "    </tr>\n",
       "    <tr>\n",
       "      <th>2</th>\n",
       "      <td>5</td>\n",
       "    </tr>\n",
       "    <tr>\n",
       "      <th>3</th>\n",
       "      <td>10</td>\n",
       "    </tr>\n",
       "    <tr>\n",
       "      <th>4</th>\n",
       "      <td>15</td>\n",
       "    </tr>\n",
       "  </tbody>\n",
       "</table>\n",
       "</div>"
      ],
      "text/plain": [
       "    b\n",
       "0   0\n",
       "1   0\n",
       "2   5\n",
       "3  10\n",
       "4  15"
      ]
     },
     "execution_count": 67,
     "metadata": {},
     "output_type": "execute_result"
    }
   ],
   "source": [
    "# How to remove a column?\n",
    "# define list_of_cols_to_drop\n",
    "list_of_cols_to_drop = 'a'\n",
    "\n",
    "df.drop(columns = list_of_cols_to_drop)"
   ]
  },
  {
   "cell_type": "code",
   "execution_count": 68,
   "id": "0eabba0a-6c8f-4e85-961e-d423405700f3",
   "metadata": {},
   "outputs": [
    {
     "name": "stdout",
     "output_type": "stream",
     "text": [
      "    a\n",
      "b    \n",
      "0   1\n",
      "0   1\n",
      "5   3\n",
      "10  4\n",
      "15  5\n"
     ]
    }
   ],
   "source": [
    "# How to change the index in a data frame?\n",
    "\n",
    "df.set_index('b',inplace=True)\n",
    "\n",
    "print(df)"
   ]
  },
  {
   "cell_type": "code",
   "execution_count": 69,
   "id": "cd435830-e48d-4c37-8e97-874bed1ddbed",
   "metadata": {},
   "outputs": [],
   "source": [
    "# How to remove rows or columns if they have nan values?\n",
    "\n",
    "df.dropna(axis=0, inplace=True)"
   ]
  },
  {
   "cell_type": "code",
   "execution_count": 71,
   "id": "e71f5e3a-9342-4f71-8102-201e63393333",
   "metadata": {},
   "outputs": [
    {
     "ename": "NameError",
     "evalue": "name 'age_value' is not defined",
     "output_type": "error",
     "traceback": [
      "\u001b[1;31m---------------------------------------------------------------------------\u001b[0m",
      "\u001b[1;31mNameError\u001b[0m                                 Traceback (most recent call last)",
      "Input \u001b[1;32mIn [71]\u001b[0m, in \u001b[0;36m<cell line: 6>\u001b[1;34m()\u001b[0m\n\u001b[0;32m      1\u001b[0m \u001b[38;5;66;03m# How to slice a data frame given a condition?\u001b[39;00m\n\u001b[0;32m      2\u001b[0m \u001b[38;5;66;03m# Just illustration, don't run\u001b[39;00m\n\u001b[0;32m      4\u001b[0m df \u001b[38;5;241m=\u001b[39m pd\u001b[38;5;241m.\u001b[39mread_csv(\u001b[38;5;124m'\u001b[39m\u001b[38;5;124mTrain_Titanic.csv\u001b[39m\u001b[38;5;124m'\u001b[39m)\n\u001b[1;32m----> 6\u001b[0m mask \u001b[38;5;241m=\u001b[39m df[\u001b[38;5;124m'\u001b[39m\u001b[38;5;124mAge\u001b[39m\u001b[38;5;124m'\u001b[39m] \u001b[38;5;241m==\u001b[39m \u001b[43mage_value\u001b[49m \n\u001b[0;32m      8\u001b[0m \u001b[38;5;66;03m#or\u001b[39;00m\n\u001b[0;32m      9\u001b[0m mask \u001b[38;5;241m=\u001b[39m df[\u001b[38;5;124m'\u001b[39m\u001b[38;5;124mage\u001b[39m\u001b[38;5;124m'\u001b[39m]\u001b[38;5;241m.\u001b[39misin(list_of_age_values)\n",
      "\u001b[1;31mNameError\u001b[0m: name 'age_value' is not defined"
     ]
    }
   ],
   "source": [
    "# How to slice a data frame given a condition?\n",
    "# Just illustration, don't run\n",
    "\n",
    "df = pd.read_csv('Train_Titanic.csv')\n",
    "\n",
    "mask = df['Age'] == 5 \n",
    "\n",
    "#or\n",
    "mask = df['age'].isin(list_of_age_values)\n",
    "          \n",
    "result = df[mask]"
   ]
  },
  {
   "cell_type": "code",
   "execution_count": 74,
   "id": "95d2d093-5be1-4fe1-aecd-f0de70fab3ef",
   "metadata": {},
   "outputs": [],
   "source": [
    "# With multiple conditions, choose rows\n",
    "\n",
    "mask = (df['Age']== 20) & (df['Parch'] == 1)\n",
    "\n",
    "result = df[mask]"
   ]
  },
  {
   "cell_type": "code",
   "execution_count": 75,
   "id": "0abd70fd-4c5e-462c-9a9f-ec44e2188ce4",
   "metadata": {},
   "outputs": [
    {
     "ename": "KeyError",
     "evalue": "'a'",
     "output_type": "error",
     "traceback": [
      "\u001b[1;31m---------------------------------------------------------------------------\u001b[0m",
      "\u001b[1;31mKeyError\u001b[0m                                  Traceback (most recent call last)",
      "Input \u001b[1;32mIn [75]\u001b[0m, in \u001b[0;36m<cell line: 3>\u001b[1;34m()\u001b[0m\n\u001b[0;32m      1\u001b[0m \u001b[38;5;66;03m# How to sort by a column?\u001b[39;00m\n\u001b[1;32m----> 3\u001b[0m \u001b[43mdf\u001b[49m\u001b[38;5;241;43m.\u001b[39;49m\u001b[43msort_values\u001b[49m\u001b[43m(\u001b[49m\u001b[43mby\u001b[49m\u001b[43m \u001b[49m\u001b[38;5;241;43m=\u001b[39;49m\u001b[43m \u001b[49m\u001b[43mlist_of_cols\u001b[49m\u001b[43m,\u001b[49m\u001b[43m \u001b[49m\u001b[43mascending\u001b[49m\u001b[38;5;241;43m=\u001b[39;49m\u001b[38;5;28;43;01mTrue\u001b[39;49;00m\u001b[43m)\u001b[49m\n",
      "File \u001b[1;32m~\\anaconda3\\lib\\site-packages\\pandas\\util\\_decorators.py:311\u001b[0m, in \u001b[0;36mdeprecate_nonkeyword_arguments.<locals>.decorate.<locals>.wrapper\u001b[1;34m(*args, **kwargs)\u001b[0m\n\u001b[0;32m    305\u001b[0m \u001b[38;5;28;01mif\u001b[39;00m \u001b[38;5;28mlen\u001b[39m(args) \u001b[38;5;241m>\u001b[39m num_allow_args:\n\u001b[0;32m    306\u001b[0m     warnings\u001b[38;5;241m.\u001b[39mwarn(\n\u001b[0;32m    307\u001b[0m         msg\u001b[38;5;241m.\u001b[39mformat(arguments\u001b[38;5;241m=\u001b[39marguments),\n\u001b[0;32m    308\u001b[0m         \u001b[38;5;167;01mFutureWarning\u001b[39;00m,\n\u001b[0;32m    309\u001b[0m         stacklevel\u001b[38;5;241m=\u001b[39mstacklevel,\n\u001b[0;32m    310\u001b[0m     )\n\u001b[1;32m--> 311\u001b[0m \u001b[38;5;28;01mreturn\u001b[39;00m func(\u001b[38;5;241m*\u001b[39margs, \u001b[38;5;241m*\u001b[39m\u001b[38;5;241m*\u001b[39mkwargs)\n",
      "File \u001b[1;32m~\\anaconda3\\lib\\site-packages\\pandas\\core\\frame.py:6295\u001b[0m, in \u001b[0;36mDataFrame.sort_values\u001b[1;34m(self, by, axis, ascending, inplace, kind, na_position, ignore_index, key)\u001b[0m\n\u001b[0;32m   6290\u001b[0m     \u001b[38;5;28;01mraise\u001b[39;00m \u001b[38;5;167;01mValueError\u001b[39;00m(\n\u001b[0;32m   6291\u001b[0m         \u001b[38;5;124mf\u001b[39m\u001b[38;5;124m\"\u001b[39m\u001b[38;5;124mLength of ascending (\u001b[39m\u001b[38;5;132;01m{\u001b[39;00m\u001b[38;5;28mlen\u001b[39m(ascending)\u001b[38;5;132;01m}\u001b[39;00m\u001b[38;5;124m) != length of by (\u001b[39m\u001b[38;5;132;01m{\u001b[39;00m\u001b[38;5;28mlen\u001b[39m(by)\u001b[38;5;132;01m}\u001b[39;00m\u001b[38;5;124m)\u001b[39m\u001b[38;5;124m\"\u001b[39m\n\u001b[0;32m   6292\u001b[0m     )\n\u001b[0;32m   6293\u001b[0m \u001b[38;5;28;01mif\u001b[39;00m \u001b[38;5;28mlen\u001b[39m(by) \u001b[38;5;241m>\u001b[39m \u001b[38;5;241m1\u001b[39m:\n\u001b[1;32m-> 6295\u001b[0m     keys \u001b[38;5;241m=\u001b[39m [\u001b[38;5;28mself\u001b[39m\u001b[38;5;241m.\u001b[39m_get_label_or_level_values(x, axis\u001b[38;5;241m=\u001b[39maxis) \u001b[38;5;28;01mfor\u001b[39;00m x \u001b[38;5;129;01min\u001b[39;00m by]\n\u001b[0;32m   6297\u001b[0m     \u001b[38;5;66;03m# need to rewrap columns in Series to apply key function\u001b[39;00m\n\u001b[0;32m   6298\u001b[0m     \u001b[38;5;28;01mif\u001b[39;00m key \u001b[38;5;129;01mis\u001b[39;00m \u001b[38;5;129;01mnot\u001b[39;00m \u001b[38;5;28;01mNone\u001b[39;00m:\n\u001b[0;32m   6299\u001b[0m         \u001b[38;5;66;03m# error: List comprehension has incompatible type List[Series];\u001b[39;00m\n\u001b[0;32m   6300\u001b[0m         \u001b[38;5;66;03m# expected List[ndarray]\u001b[39;00m\n",
      "File \u001b[1;32m~\\anaconda3\\lib\\site-packages\\pandas\\core\\frame.py:6295\u001b[0m, in \u001b[0;36m<listcomp>\u001b[1;34m(.0)\u001b[0m\n\u001b[0;32m   6290\u001b[0m     \u001b[38;5;28;01mraise\u001b[39;00m \u001b[38;5;167;01mValueError\u001b[39;00m(\n\u001b[0;32m   6291\u001b[0m         \u001b[38;5;124mf\u001b[39m\u001b[38;5;124m\"\u001b[39m\u001b[38;5;124mLength of ascending (\u001b[39m\u001b[38;5;132;01m{\u001b[39;00m\u001b[38;5;28mlen\u001b[39m(ascending)\u001b[38;5;132;01m}\u001b[39;00m\u001b[38;5;124m) != length of by (\u001b[39m\u001b[38;5;132;01m{\u001b[39;00m\u001b[38;5;28mlen\u001b[39m(by)\u001b[38;5;132;01m}\u001b[39;00m\u001b[38;5;124m)\u001b[39m\u001b[38;5;124m\"\u001b[39m\n\u001b[0;32m   6292\u001b[0m     )\n\u001b[0;32m   6293\u001b[0m \u001b[38;5;28;01mif\u001b[39;00m \u001b[38;5;28mlen\u001b[39m(by) \u001b[38;5;241m>\u001b[39m \u001b[38;5;241m1\u001b[39m:\n\u001b[1;32m-> 6295\u001b[0m     keys \u001b[38;5;241m=\u001b[39m [\u001b[38;5;28;43mself\u001b[39;49m\u001b[38;5;241;43m.\u001b[39;49m\u001b[43m_get_label_or_level_values\u001b[49m\u001b[43m(\u001b[49m\u001b[43mx\u001b[49m\u001b[43m,\u001b[49m\u001b[43m \u001b[49m\u001b[43maxis\u001b[49m\u001b[38;5;241;43m=\u001b[39;49m\u001b[43maxis\u001b[49m\u001b[43m)\u001b[49m \u001b[38;5;28;01mfor\u001b[39;00m x \u001b[38;5;129;01min\u001b[39;00m by]\n\u001b[0;32m   6297\u001b[0m     \u001b[38;5;66;03m# need to rewrap columns in Series to apply key function\u001b[39;00m\n\u001b[0;32m   6298\u001b[0m     \u001b[38;5;28;01mif\u001b[39;00m key \u001b[38;5;129;01mis\u001b[39;00m \u001b[38;5;129;01mnot\u001b[39;00m \u001b[38;5;28;01mNone\u001b[39;00m:\n\u001b[0;32m   6299\u001b[0m         \u001b[38;5;66;03m# error: List comprehension has incompatible type List[Series];\u001b[39;00m\n\u001b[0;32m   6300\u001b[0m         \u001b[38;5;66;03m# expected List[ndarray]\u001b[39;00m\n",
      "File \u001b[1;32m~\\anaconda3\\lib\\site-packages\\pandas\\core\\generic.py:1840\u001b[0m, in \u001b[0;36mNDFrame._get_label_or_level_values\u001b[1;34m(self, key, axis)\u001b[0m\n\u001b[0;32m   1838\u001b[0m     values \u001b[38;5;241m=\u001b[39m \u001b[38;5;28mself\u001b[39m\u001b[38;5;241m.\u001b[39maxes[axis]\u001b[38;5;241m.\u001b[39mget_level_values(key)\u001b[38;5;241m.\u001b[39m_values\n\u001b[0;32m   1839\u001b[0m \u001b[38;5;28;01melse\u001b[39;00m:\n\u001b[1;32m-> 1840\u001b[0m     \u001b[38;5;28;01mraise\u001b[39;00m \u001b[38;5;167;01mKeyError\u001b[39;00m(key)\n\u001b[0;32m   1842\u001b[0m \u001b[38;5;66;03m# Check for duplicates\u001b[39;00m\n\u001b[0;32m   1843\u001b[0m \u001b[38;5;28;01mif\u001b[39;00m values\u001b[38;5;241m.\u001b[39mndim \u001b[38;5;241m>\u001b[39m \u001b[38;5;241m1\u001b[39m:\n",
      "\u001b[1;31mKeyError\u001b[0m: 'a'"
     ]
    }
   ],
   "source": [
    "# How to sort by a column?\n",
    "\n",
    "df.sort_values(by = list_of_cols, ascending=True)"
   ]
  },
  {
   "cell_type": "code",
   "execution_count": 76,
   "id": "669da1d4-dd4c-4445-8e6c-617779d751b8",
   "metadata": {},
   "outputs": [
    {
     "ename": "NameError",
     "evalue": "name 'f' is not defined",
     "output_type": "error",
     "traceback": [
      "\u001b[1;31m---------------------------------------------------------------------------\u001b[0m",
      "\u001b[1;31mNameError\u001b[0m                                 Traceback (most recent call last)",
      "Input \u001b[1;32mIn [76]\u001b[0m, in \u001b[0;36m<cell line: 3>\u001b[1;34m()\u001b[0m\n\u001b[0;32m      1\u001b[0m \u001b[38;5;66;03m# How to apply a function to all elements in a data frame?\u001b[39;00m\n\u001b[1;32m----> 3\u001b[0m new_df \u001b[38;5;241m=\u001b[39m df\u001b[38;5;241m.\u001b[39mapplymap(\u001b[43mf\u001b[49m)\n",
      "\u001b[1;31mNameError\u001b[0m: name 'f' is not defined"
     ]
    }
   ],
   "source": [
    "# How to apply a function to all elements in a data frame?\n",
    "\n",
    "new_df = df.applymap(f)"
   ]
  },
  {
   "cell_type": "code",
   "execution_count": null,
   "id": "0f9e4022-ee6c-49ca-85d8-0ff184cefcdf",
   "metadata": {},
   "outputs": [],
   "source": [
    "# How to slice a data frame if values of a series lie in a list?\n",
    "\n",
    "df[df['age'].isin(age_list)]\n",
    "\n",
    "# the opposite: data samples where age does not lie in the list use\n",
    "\n",
    "df[~df['age'].isin(age_list)]\n"
   ]
  },
  {
   "cell_type": "code",
   "execution_count": null,
   "id": "4b761b8c-fc1a-4acd-8360-866c7cb4137a",
   "metadata": {},
   "outputs": [],
   "source": [
    "# How to group-by column values and aggregate over another column or apply a function to it?\n",
    "\n",
    "df.groupby(['age']).agg({'height':'mean'})\n",
    "\n",
    "# want to group-by a certain column and convert all the corresponding grouped elements for other columns into a list\n",
    "df.groupby(['age']).agg(list)"
   ]
  },
  {
   "cell_type": "code",
   "execution_count": 77,
   "id": "b836f579-f2dc-403d-b178-fe3a9bbc0c16",
   "metadata": {},
   "outputs": [
    {
     "ename": "NameError",
     "evalue": "name 'df1' is not defined",
     "output_type": "error",
     "traceback": [
      "\u001b[1;31m---------------------------------------------------------------------------\u001b[0m",
      "\u001b[1;31mNameError\u001b[0m                                 Traceback (most recent call last)",
      "Input \u001b[1;32mIn [77]\u001b[0m, in \u001b[0;36m<cell line: 6>\u001b[1;34m()\u001b[0m\n\u001b[0;32m      1\u001b[0m \u001b[38;5;66;03m# How to concatenate two data frames?\u001b[39;00m\n\u001b[0;32m      2\u001b[0m \u001b[38;5;66;03m#df1 --> name,age,height\u001b[39;00m\n\u001b[0;32m      3\u001b[0m \u001b[38;5;66;03m#df2---> name,age,height\u001b[39;00m\n\u001b[0;32m      4\u001b[0m \n\u001b[0;32m      5\u001b[0m \u001b[38;5;66;03m#the result data-frame will have the columns appended from the data-frames\u001b[39;00m\n\u001b[1;32m----> 6\u001b[0m result \u001b[38;5;241m=\u001b[39m pd\u001b[38;5;241m.\u001b[39mconcat([\u001b[43mdf1\u001b[49m,df2],axis\u001b[38;5;241m=\u001b[39m\u001b[38;5;241m0\u001b[39m)\n\u001b[0;32m      8\u001b[0m \u001b[38;5;66;03m#For horizontal concatenation\u001b[39;00m\n\u001b[0;32m      9\u001b[0m \u001b[38;5;66;03m#df1--> name,age\u001b[39;00m\n\u001b[0;32m     10\u001b[0m \u001b[38;5;66;03m#df2--->height,salary\u001b[39;00m\n\u001b[0;32m     11\u001b[0m result \u001b[38;5;241m=\u001b[39m pd\u001b[38;5;241m.\u001b[39mconcat([df1,df2], axis\u001b[38;5;241m=\u001b[39m\u001b[38;5;241m1\u001b[39m)\n",
      "\u001b[1;31mNameError\u001b[0m: name 'df1' is not defined"
     ]
    }
   ],
   "source": [
    "# How to concatenate two data frames?\n",
    "#df1 --> name,age,height\n",
    "#df2---> name,age,height\n",
    "\n",
    "#the result data-frame will have the columns appended from the data-frames\n",
    "result = pd.concat([df1,df2],axis=0)\n",
    "\n",
    "#For horizontal concatenation\n",
    "#df1--> name,age\n",
    "#df2--->height,salary\n",
    "result = pd.concat([df1,df2], axis=1)"
   ]
  },
  {
   "cell_type": "code",
   "execution_count": 78,
   "id": "914d5090-5e76-4179-a309-7dcaf12fd684",
   "metadata": {},
   "outputs": [
    {
     "name": "stdout",
     "output_type": "stream",
     "text": [
      "   srNo   Name   id\n",
      "0     1  Geeks  111\n",
      "1     2    for  222\n",
      "2     3  Geeks  333\n",
      "srNo     int64\n",
      "Name    object\n",
      "id       int64\n",
      "dtype: object\n"
     ]
    }
   ],
   "source": [
    "# creating a DataFrame \n",
    "df = pd.DataFrame({'srNo': [1, 2, 3], \n",
    "                   'Name': ['Geeks', 'for',  \n",
    "                            'Geeks'],  \n",
    "                   'id': [111, 222,  \n",
    "                          333]}) \n",
    "# show the dataframe \n",
    "print(df) \n",
    "  \n",
    "# show the datatypes \n",
    "print(df.dtypes)"
   ]
  },
  {
   "cell_type": "code",
   "execution_count": 79,
   "id": "bac4e982-e5d4-4c85-a803-c2d29f2069ec",
   "metadata": {},
   "outputs": [
    {
     "data": {
      "text/plain": [
       "srNo    object\n",
       "Name    object\n",
       "id      object\n",
       "dtype: object"
      ]
     },
     "execution_count": 79,
     "metadata": {},
     "output_type": "execute_result"
    }
   ],
   "source": [
    "# changing the dataframe  \n",
    "# data types to string \n",
    "df = df.astype(str) \n",
    "  \n",
    "# show the data types  \n",
    "# of dataframe \n",
    "df.dtypes"
   ]
  },
  {
   "cell_type": "code",
   "execution_count": 80,
   "id": "592f7b76-53d2-4574-885c-d5ae8f2503b2",
   "metadata": {},
   "outputs": [
    {
     "name": "stdout",
     "output_type": "stream",
     "text": [
      "name        object\n",
      "grade      float64\n",
      "qualify     object\n",
      "dtype: object\n",
      "   name  grade qualify\n",
      "0  Alia     13     yes\n",
      "1  Rima      7      no\n",
      "2  Kate     11     yes\n",
      "3  John      3      no\n",
      "4  Emma      8      no\n",
      "5  Misa     21     yes\n",
      "6  Matt     17     yes\n",
      "name       object\n",
      "grade       int32\n",
      "qualify    object\n",
      "dtype: object\n"
     ]
    }
   ],
   "source": [
    "# Convert the data type of “grade” column from “float” to “int”.\n",
    "# dictionary \n",
    "result_data = {'name': ['Alia', 'Rima', 'Kate', \n",
    "                        'John', 'Emma', 'Misa', \n",
    "                        'Matt'], \n",
    "        'grade': [13.5, 7.1, 11.5,  \n",
    "                  3.77, 8.21, 21.22, \n",
    "                  17.5], \n",
    "        'qualify': ['yes', 'no', 'yes', \n",
    "                    'no', 'no', 'yes',  \n",
    "                    'yes']} \n",
    "  \n",
    "# create a dataframe \n",
    "df = pd.DataFrame(result_data)\n",
    "\n",
    "# show the datatypes \n",
    "print(df.dtypes)\n",
    "\n",
    "# convert data type of grade column  \n",
    "# into integer \n",
    "df.grade = df.grade.astype(int) \n",
    "  \n",
    "# show the dataframe \n",
    "print(df) \n",
    "  \n",
    "# show the datatypes \n",
    "print(df.dtypes)"
   ]
  },
  {
   "cell_type": "code",
   "execution_count": 81,
   "id": "a9e42d80-84ac-4f6d-be8a-a7644d9e89a6",
   "metadata": {},
   "outputs": [
    {
     "name": "stdout",
     "output_type": "stream",
     "text": [
      "A    object\n",
      "B    object\n",
      "C    object\n",
      "dtype: object\n",
      "   A   B    C\n",
      "0  a  12  1.1\n",
      "1  b  22  2.1\n",
      "2  c  35  3.0\n",
      "3  d  47  4.1\n",
      "4  e  55  5.1\n"
     ]
    },
    {
     "data": {
      "text/plain": [
       "A     object\n",
       "B      int64\n",
       "C    float64\n",
       "dtype: object"
      ]
     },
     "execution_count": 81,
     "metadata": {},
     "output_type": "execute_result"
    }
   ],
   "source": [
    "# We can pass pandas.to_numeric, pandas.to_datetime and pandas.to_timedelta \n",
    "# as argument to apply() function to change the datatype of one or more columns \n",
    "# to numeric, datetime and timedelta respectively.\n",
    "\n",
    "# sample dataframe  \n",
    "df = pd.DataFrame({  \n",
    "    'A': ['a', 'b', 'c',  \n",
    "          'd', 'e'],  \n",
    "    'B': [12, 22, 35, \n",
    "          '47', '55'],  \n",
    "    'C': [1.1, '2.1', 3.0, \n",
    "          '4.1', '5.1'] })  \n",
    "\n",
    "# show the datatypes \n",
    "print(df.dtypes)\n",
    "\n",
    "# show the dataframe \n",
    "print(df)\n",
    "\n",
    "# using apply method  \n",
    "df[['B', 'C']] = df[['B', 'C']].apply(pd.to_numeric)  \n",
    "  \n",
    "# show the data types \n",
    "# of all columns \n",
    "df.dtypes\n"
   ]
  },
  {
   "cell_type": "code",
   "execution_count": 82,
   "id": "0814be64-c98b-41f8-aa80-aa46407fa345",
   "metadata": {},
   "outputs": [
    {
     "data": {
      "text/plain": [
       "dtype('float64')"
      ]
     },
     "execution_count": 82,
     "metadata": {},
     "output_type": "execute_result"
    }
   ],
   "source": [
    "# using numpy\n",
    "x = np.array([1, 2, 2.5])\n",
    "\n",
    "x.dtype"
   ]
  },
  {
   "cell_type": "code",
   "execution_count": 83,
   "id": "0ea165df-dae1-4bb8-bd96-8cb00889b6d7",
   "metadata": {},
   "outputs": [
    {
     "data": {
      "text/plain": [
       "array([1, 2, 2])"
      ]
     },
     "execution_count": 83,
     "metadata": {},
     "output_type": "execute_result"
    }
   ],
   "source": [
    "x.astype(int) #int, object, float64"
   ]
  },
  {
   "cell_type": "code",
   "execution_count": 84,
   "id": "e114a0a2-a0e8-4d69-8564-b07603a346c6",
   "metadata": {},
   "outputs": [
    {
     "name": "stdout",
     "output_type": "stream",
     "text": [
      "   A  B  C\n",
      "0  0  5  a\n",
      "1  1  6  b\n",
      "2  2  7  c\n",
      "3  3  8  d\n",
      "4  4  9  e\n",
      "   A  B  C\n",
      "0  0  5  a\n",
      "1  1  6  b\n",
      "2  2  7  c\n",
      "3  3  8  d\n",
      "4  4  9  e\n"
     ]
    }
   ],
   "source": [
    "# replace\n",
    "df = pd.DataFrame({'A': [0, 1, 2, 3, 4],\n",
    "                    'B': [5, 6, 7, 8, 9],\n",
    "                   'C': ['a', 'b', 'c', 'd', 'e']})\n",
    "print(df)\n",
    "\n",
    "df.replace(0, 5)\n",
    "\n",
    "print(df)"
   ]
  },
  {
   "cell_type": "code",
   "execution_count": 85,
   "id": "7c49aa46-ef9f-498c-a3d6-587170c17112",
   "metadata": {},
   "outputs": [
    {
     "name": "stdout",
     "output_type": "stream",
     "text": [
      "{'col1': [1, 2, 3], 'col2': [4, 5, 6]}\n",
      "col1    int64\n",
      "col2    int64\n",
      "dtype: object\n",
      "   col1  col2\n",
      "0     1     4\n",
      "1     2     5\n",
      "2     3     6\n",
      "   col1  col2\n",
      "0     1     4\n",
      "1     2     5\n",
      "2     3     6\n"
     ]
    }
   ],
   "source": [
    "# from num to string\n",
    "d = {'col1': [1, 2, 3], 'col2': [4, 5, 6]}\n",
    "\n",
    "print(d)\n",
    "\n",
    "df = pd.DataFrame(d)\n",
    "\n",
    "print(df.dtypes)\n",
    "\n",
    "print(df)\n",
    "\n",
    "df2 = df.to_string()\n",
    "\n",
    "print(df2)"
   ]
  },
  {
   "cell_type": "code",
   "execution_count": 86,
   "id": "ad41caae-dd19-4538-a2c6-47470c24fbb1",
   "metadata": {},
   "outputs": [
    {
     "data": {
      "text/html": [
       "<div>\n",
       "<style scoped>\n",
       "    .dataframe tbody tr th:only-of-type {\n",
       "        vertical-align: middle;\n",
       "    }\n",
       "\n",
       "    .dataframe tbody tr th {\n",
       "        vertical-align: top;\n",
       "    }\n",
       "\n",
       "    .dataframe thead th {\n",
       "        text-align: right;\n",
       "    }\n",
       "</style>\n",
       "<table border=\"1\" class=\"dataframe\">\n",
       "  <thead>\n",
       "    <tr style=\"text-align: right;\">\n",
       "      <th></th>\n",
       "      <th>col1</th>\n",
       "      <th>col2</th>\n",
       "    </tr>\n",
       "  </thead>\n",
       "  <tbody>\n",
       "    <tr>\n",
       "      <th>0</th>\n",
       "      <td>1</td>\n",
       "      <td>4</td>\n",
       "    </tr>\n",
       "    <tr>\n",
       "      <th>1</th>\n",
       "      <td>2</td>\n",
       "      <td>5</td>\n",
       "    </tr>\n",
       "    <tr>\n",
       "      <th>2</th>\n",
       "      <td>3</td>\n",
       "      <td>6</td>\n",
       "    </tr>\n",
       "  </tbody>\n",
       "</table>\n",
       "</div>"
      ],
      "text/plain": [
       "   col1  col2\n",
       "0     1     4\n",
       "1     2     5\n",
       "2     3     6"
      ]
     },
     "execution_count": 86,
     "metadata": {},
     "output_type": "execute_result"
    }
   ],
   "source": [
    "df.head()"
   ]
  },
  {
   "cell_type": "code",
   "execution_count": 88,
   "id": "12224524-26d4-4e79-8938-ded48f479b2b",
   "metadata": {},
   "outputs": [
    {
     "name": "stdout",
     "output_type": "stream",
     "text": [
      "Index(['col1', 'col2'], dtype='object')\n"
     ]
    },
    {
     "data": {
      "text/html": [
       "<div>\n",
       "<style scoped>\n",
       "    .dataframe tbody tr th:only-of-type {\n",
       "        vertical-align: middle;\n",
       "    }\n",
       "\n",
       "    .dataframe tbody tr th {\n",
       "        vertical-align: top;\n",
       "    }\n",
       "\n",
       "    .dataframe thead th {\n",
       "        text-align: right;\n",
       "    }\n",
       "</style>\n",
       "<table border=\"1\" class=\"dataframe\">\n",
       "  <thead>\n",
       "    <tr style=\"text-align: right;\">\n",
       "      <th></th>\n",
       "      <th>col1</th>\n",
       "      <th>col2</th>\n",
       "    </tr>\n",
       "  </thead>\n",
       "  <tbody>\n",
       "    <tr>\n",
       "      <th>count</th>\n",
       "      <td>3.0</td>\n",
       "      <td>3.0</td>\n",
       "    </tr>\n",
       "    <tr>\n",
       "      <th>mean</th>\n",
       "      <td>2.0</td>\n",
       "      <td>5.0</td>\n",
       "    </tr>\n",
       "    <tr>\n",
       "      <th>std</th>\n",
       "      <td>1.0</td>\n",
       "      <td>1.0</td>\n",
       "    </tr>\n",
       "    <tr>\n",
       "      <th>min</th>\n",
       "      <td>1.0</td>\n",
       "      <td>4.0</td>\n",
       "    </tr>\n",
       "    <tr>\n",
       "      <th>25%</th>\n",
       "      <td>1.5</td>\n",
       "      <td>4.5</td>\n",
       "    </tr>\n",
       "    <tr>\n",
       "      <th>50%</th>\n",
       "      <td>2.0</td>\n",
       "      <td>5.0</td>\n",
       "    </tr>\n",
       "    <tr>\n",
       "      <th>75%</th>\n",
       "      <td>2.5</td>\n",
       "      <td>5.5</td>\n",
       "    </tr>\n",
       "    <tr>\n",
       "      <th>max</th>\n",
       "      <td>3.0</td>\n",
       "      <td>6.0</td>\n",
       "    </tr>\n",
       "  </tbody>\n",
       "</table>\n",
       "</div>"
      ],
      "text/plain": [
       "       col1  col2\n",
       "count   3.0   3.0\n",
       "mean    2.0   5.0\n",
       "std     1.0   1.0\n",
       "min     1.0   4.0\n",
       "25%     1.5   4.5\n",
       "50%     2.0   5.0\n",
       "75%     2.5   5.5\n",
       "max     3.0   6.0"
      ]
     },
     "execution_count": 88,
     "metadata": {},
     "output_type": "execute_result"
    }
   ],
   "source": [
    "# Need adjustment\n",
    "categorical = df.dtypes[df.dtypes == 'int64'].index\n",
    "print(categorical)\n",
    "df[categorical].describe()"
   ]
  },
  {
   "cell_type": "code",
   "execution_count": 89,
   "id": "00912c71-c185-45e6-a160-b5384cb48074",
   "metadata": {},
   "outputs": [
    {
     "name": "stdout",
     "output_type": "stream",
     "text": [
      "3.5.1\n"
     ]
    }
   ],
   "source": [
    "import matplotlib\n",
    "\n",
    "print(matplotlib.__version__)\n"
   ]
  },
  {
   "cell_type": "code",
   "execution_count": 90,
   "id": "5360a99d-4ad7-4f8c-8eff-9bec4fee513d",
   "metadata": {},
   "outputs": [
    {
     "data": {
      "image/png": "[encoded data removed]",
      "text/plain": [
       "<Figure size 432x288 with 1 Axes>"
      ]
     },
     "metadata": {
      "needs_background": "light"
     },
     "output_type": "display_data"
    }
   ],
   "source": [
    "# An idea how a plot can be obtained\n",
    "\n",
    "import matplotlib.pyplot as plt\n",
    "\n",
    "plt.plot([10, 20, 30, 40], 'b*') #try: bs, b*, b-, b--, ..\n",
    "\n",
    "plt.ylabel('Some Numbers')\n",
    "\n",
    "plt.show()\n"
   ]
  },
  {
   "cell_type": "code",
   "execution_count": 91,
   "id": "fc3f1675-683f-4e70-89f0-20caabc8f891",
   "metadata": {},
   "outputs": [
    {
     "data": {
      "text/plain": [
       "[<matplotlib.lines.Line2D at 0x2dce3511b20>]"
      ]
     },
     "execution_count": 91,
     "metadata": {},
     "output_type": "execute_result"
    },
    {
     "data": {
      "image/png": "[encoded data removed]",
      "text/plain": [
       "<Figure size 432x288 with 1 Axes>"
      ]
     },
     "metadata": {
      "needs_background": "light"
     },
     "output_type": "display_data"
    }
   ],
   "source": [
    "plt.plot([1, 2, 3, 4], [1, 4, 9, 16], 'bo')"
   ]
  },
  {
   "cell_type": "code",
   "execution_count": 96,
   "id": "e7771ba7-7579-43de-8bbf-d90994741898",
   "metadata": {},
   "outputs": [
    {
     "data": {
      "image/png": "[encoded data removed]",
      "text/plain": [
       "<Figure size 432x288 with 1 Axes>"
      ]
     },
     "metadata": {
      "needs_background": "light"
     },
     "output_type": "display_data"
    }
   ],
   "source": [
    "plt.plot([1, 2, 3, 4], [1, 4, 9, 16], 'b-')\n",
    "plt.axis([0, 6, 0, 20])\n",
    "plt.show()"
   ]
  },
  {
   "cell_type": "code",
   "execution_count": 97,
   "id": "afd58430-9c05-41bf-af11-155103ac59a7",
   "metadata": {},
   "outputs": [
    {
     "data": {
      "text/plain": [
       "[<matplotlib.lines.Line2D at 0x2dce7211310>]"
      ]
     },
     "execution_count": 97,
     "metadata": {},
     "output_type": "execute_result"
    },
    {
     "data": {
      "image/png": "[encoded data removed]",
      "text/plain": [
       "<Figure size 432x288 with 1 Axes>"
      ]
     },
     "metadata": {
      "needs_background": "light"
     },
     "output_type": "display_data"
    }
   ],
   "source": [
    "t = np.arange(0., 5., 0.2)\n",
    "plt.plot(t, t**3, 'r--') #add , t, t*2, 'b^' inside"
   ]
  },
  {
   "cell_type": "code",
   "execution_count": 98,
   "id": "a49bdc78-15cb-4949-aa46-474f3fc7aaa5",
   "metadata": {},
   "outputs": [
    {
     "name": "stdout",
     "output_type": "stream",
     "text": [
      "[0.  0.2 0.4 0.6 0.8 1.  1.2 1.4 1.6 1.8 2.  2.2 2.4 2.6 2.8 3.  3.2 3.4\n",
      " 3.6 3.8 4.  4.2 4.4 4.6 4.8]\n"
     ]
    }
   ],
   "source": [
    "# np.arange command\n",
    "print(np.arange(0., 5., 0.2)) # from 0 to 5 (not included 5), by .2"
   ]
  },
  {
   "cell_type": "code",
   "execution_count": 99,
   "id": "e59767c0-82d0-49ec-8281-2ecf6fd86a54",
   "metadata": {},
   "outputs": [
    {
     "data": {
      "image/png": "[encoded data removed]",
      "text/plain": [
       "<Figure size 432x288 with 1 Axes>"
      ]
     },
     "metadata": {
      "needs_background": "light"
     },
     "output_type": "display_data"
    }
   ],
   "source": [
    "import numpy as np\n",
    "\n",
    "# evenly sampled time at 200ms intervals\n",
    "t = np.arange(0., 5., 0.2)\n",
    "\n",
    "# red dashes, blue squares and green triangles\n",
    "# plot(x,y)\n",
    "plt.plot(t, 10-t, 'r--', t, t**2, 'bs', t, t**3, 'g^')\n",
    "plt.show()\n"
   ]
  },
  {
   "cell_type": "code",
   "execution_count": 100,
   "id": "29b924b0-2d86-43eb-9582-a08af02facef",
   "metadata": {},
   "outputs": [
    {
     "data": {
      "image/png": "[encoded data removed]",
      "text/plain": [
       "<Figure size 648x216 with 3 Axes>"
      ]
     },
     "metadata": {
      "needs_background": "light"
     },
     "output_type": "display_data"
    }
   ],
   "source": [
    "# Plotting categorical variables\n",
    "names = ['group_a', 'group_b', 'group_c'] #x\n",
    "values = [10, 20, 50] #y\n",
    "\n",
    "plt.figure(figsize=(9, 3))\n",
    "\n",
    "plt.subplot(131)\n",
    "plt.bar(names, values)\n",
    "\n",
    "plt.subplot(132)\n",
    "plt.scatter(names, values)\n",
    "\n",
    "plt.subplot(133)\n",
    "plt.plot(names, values)\n",
    "\n",
    "plt.suptitle('Categorical Plotting')\n",
    "plt.show()"
   ]
  },
  {
   "cell_type": "code",
   "execution_count": 101,
   "id": "710aa257-e889-4f17-9ff0-e5c52f5eb415",
   "metadata": {},
   "outputs": [
    {
     "data": {
      "image/png": "[encoded data removed]",
      "text/plain": [
       "<Figure size 432x288 with 2 Axes>"
      ]
     },
     "metadata": {
      "needs_background": "light"
     },
     "output_type": "display_data"
    }
   ],
   "source": [
    "# Skip\n",
    "# Plot a function\n",
    "\n",
    "def f(t):\n",
    "    return np.exp(-t) * np.cos(2*np.pi*t)\n",
    "\n",
    "t1 = np.arange(0.0, 5.0, 0.1)\n",
    "t2 = np.arange(0.0, 5.0, 0.02)\n",
    "\n",
    "plt.figure()\n",
    "plt.subplot(211)\n",
    "plt.plot(t1, f(t1), 'bo', t2, f(t2), 'k')\n",
    "\n",
    "plt.subplot(212)\n",
    "plt.plot(t2, np.cos(2*np.pi*t2), 'r--')\n",
    "plt.show()\n"
   ]
  },
  {
   "cell_type": "code",
   "execution_count": 102,
   "id": "e4328a4d-1a82-47ad-aa4c-6da35a3d5b5e",
   "metadata": {},
   "outputs": [
    {
     "data": {
      "image/png": "[encoded data removed]",
      "text/plain": [
       "<Figure size 432x288 with 1 Axes>"
      ]
     },
     "metadata": {
      "needs_background": "light"
     },
     "output_type": "display_data"
    }
   ],
   "source": [
    "# Skip\n",
    "# Working with text\n",
    "mu, sigma = 100, 15\n",
    "x = mu + sigma * np.random.randn(10000)\n",
    "\n",
    "# the histogram of the data\n",
    "n, bins, patches = plt.hist(x, 50, density=1, facecolor='g', alpha=0.75)\n",
    "\n",
    "plt.xlabel('Smarts')\n",
    "plt.ylabel('Probability')\n",
    "plt.title('Histogram of IQ')\n",
    "\n",
    "plt.text(50, .01, r'$\\mu=100,\\ \\sigma=15$') #math expresssion\n",
    "\n",
    "plt.axis([40, 160, 0, 0.03])\n",
    "\n",
    "plt.grid(True)\n",
    "plt.show()"
   ]
  },
  {
   "cell_type": "code",
   "execution_count": 103,
   "id": "f7ea102e-1845-4cea-99a4-a077bbbd74f4",
   "metadata": {},
   "outputs": [
    {
     "data": {
      "image/png": "[encoded data removed]",
      "text/plain": [
       "<Figure size 432x288 with 1 Axes>"
      ]
     },
     "metadata": {
      "needs_background": "light"
     },
     "output_type": "display_data"
    }
   ],
   "source": [
    "# Annotating the text\n",
    "\n",
    "import matplotlib.pyplot as plt\n",
    "\n",
    "ax = plt.subplot(111)\n",
    "\n",
    "t = np.arange(0.0, 5.0, 0.01)\n",
    "s = np.cos(2*np.pi*t)\n",
    "line, = plt.plot(t, s, lw=2)\n",
    "\n",
    "plt.annotate('local max', xy=(2, 1), xytext=(3, 1.5),\n",
    "             arrowprops=dict(facecolor='black', shrink=0.1) )\n",
    "\n",
    "plt.ylim(-2, 2) #plt.xlim(-0,5)\n",
    "plt.suptitle('More prof look')\n",
    "\n",
    "plt.show()"
   ]
  },
  {
   "cell_type": "markdown",
   "id": "c2978ce3-1c50-4739-bc0d-314e3f76c999",
   "metadata": {},
   "source": [
    "# **Table of Contents** <a class=\"anchor\" id=\"Cont\"></a>\n",
    "\n",
    "- [Introduction](#int)\n",
    "    - [Shortcuts](#short)\n",
    "- [References](#ref)\n",
    "\n",
    "Task: Create a new sub/topic here with reference and markdown cell below"
   ]
  },
  {
   "cell_type": "markdown",
   "id": "f7e0efa3-69e7-4a7a-8e28-eb51da802794",
   "metadata": {},
   "source": [
    "# Introduction <a class=\"anchor\" id=\"int\"></a>\n",
    "\n",
    "- Browse the lab features: buttons, left area, contextual help, pip, create new\n",
    "\n",
    "> Click on Help >> JupyterLab Reference >> Starting\n",
    "\n",
    "- Visit Markdown Reference on the Help menu and read it. \n",
    "\n",
    "- [Weblink](https://...)\n",
    "\n",
    "- <font color=red>Color of this word is red</font>\n",
    "\n",
    "- Go to [Table of Contents](#Cont)\n",
    "\n",
    "\n",
    "1. First\n",
    "2. Second\n",
    "    1. First nested\n",
    "    2. Second nested\n",
    "    \n",
    "1) Again first\n",
    "2) Second\n",
    "    - a\n",
    "    - b"
   ]
  },
  {
   "cell_type": "markdown",
   "id": "62f66098-623d-42f5-a82b-4e69c9441c8f",
   "metadata": {},
   "source": [
    "## Other Resources\n",
    "\n",
    "- Browse the internal resource ![image.png](attachment:a363e8bb-30ef-4472-917f-0d61ec7f1bb4.png)\n",
    "\n",
    "- And browse this external resource [Markdown](https://medium.com/@ingeh/markdown-for-jupyter-notebooks-cheatsheet-386c05aeebed)\n"
   ]
  },
  {
   "cell_type": "markdown",
   "id": "51501d8c-a9c7-4544-b565-fc9c81a75453",
   "metadata": {},
   "source": [
    "### Shortcuts\n",
    "\n",
    "- [Jupyter-lab](https://gist.github.com/discdiver/9e00618756d120a8c9fa344ac1c375ac)"
   ]
  },
  {
   "cell_type": "markdown",
   "id": "d0e1404f-e07b-47dc-a4bc-6e95f9efa46e",
   "metadata": {},
   "source": [
    "# **References** <a class=\"anchor\" id=\"ref\"></a>\n",
    "\n",
    "- [Markdown Cheatsheet](https://blog.sqlbak.com/jupyter-notebook-markdown-cheatsheet)"
   ]
  },
  {
   "cell_type": "code",
   "execution_count": null,
   "id": "3908ed30-f4de-427b-94bb-fe9e21291caa",
   "metadata": {},
   "outputs": [],
   "source": []
  },
  {
   "cell_type": "code",
   "execution_count": null,
   "id": "7310fef5-09b0-4f0d-83ba-eded0f80e417",
   "metadata": {},
   "outputs": [],
   "source": []
  },
  {
   "cell_type": "code",
   "execution_count": null,
   "id": "46969941-4ee0-4907-b528-ac5dca48858f",
   "metadata": {},
   "outputs": [],
   "source": []
  },
  {
   "cell_type": "code",
   "execution_count": null,
   "id": "dd2cea67-792e-434c-aeb1-ca417bc6e998",
   "metadata": {},
   "outputs": [],
   "source": []
  },
  {
   "cell_type": "code",
   "execution_count": null,
   "id": "3b1db2e8-f203-4ff9-9ea4-9487609371d0",
   "metadata": {},
   "outputs": [],
   "source": []
  },
  {
   "cell_type": "code",
   "execution_count": 124,
   "id": "d6d5cc01-5d4b-42b6-ad2f-dc81cfbe048e",
   "metadata": {},
   "outputs": [
    {
     "data": {
      "text/plain": [
       "<seaborn.axisgrid.FacetGrid at 0x2dceaf6e5e0>"
      ]
     },
     "execution_count": 124,
     "metadata": {},
     "output_type": "execute_result"
    },
    {
     "data": {
      "image/png": "[encoded data removed]",
      "text/plain": [
       "<Figure size 411.875x360 with 1 Axes>"
      ]
     },
     "metadata": {
      "needs_background": "light"
     },
     "output_type": "display_data"
    }
   ],
   "source": [
    "train_data = pd.read_csv('Train_Titanic.csv') \n",
    "# Countplot\n",
    "sns.catplot(x =\"Gender\", hue =\"Survived\", kind =\"count\", data = train_data)"
   ]
  },
  {
   "cell_type": "code",
   "execution_count": null,
   "id": "337ff0ff-5873-42ac-a4e3-64ac4b2488f1",
   "metadata": {},
   "outputs": [],
   "source": []
  }
 ],
 "metadata": {
  "kernelspec": {
   "display_name": "Python 3 (ipykernel)",
   "language": "python",
   "name": "python3"
  },
  "language_info": {
   "codemirror_mode": {
    "name": "ipython",
    "version": 3
   },
   "file_extension": ".py",
   "mimetype": "text/x-python",
   "name": "python",
   "nbconvert_exporter": "python",
   "pygments_lexer": "ipython3",
   "version": "3.9.12"
  }
 },
 "nbformat": 4,
 "nbformat_minor": 5
}
