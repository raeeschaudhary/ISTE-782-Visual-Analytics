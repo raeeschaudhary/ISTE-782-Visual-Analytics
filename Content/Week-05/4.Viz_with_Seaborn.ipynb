{
 "cells": [
  {
   "cell_type": "markdown",
   "metadata": {},
   "source": [
    "# Seaborn Pack\n",
    "\n",
    "Instructor Notes, YB, RIT\n",
    "\n",
    "# Seaborn Pack for Visualization and EDA\n"
   ]
  },
  {
   "cell_type": "markdown",
   "metadata": {},
   "source": [
    "***"
   ]
  },
  {
   "cell_type": "markdown",
   "metadata": {},
   "source": [
    "### **Table of Contents** <a class=\"anchor\" id=\"0.1\"></a>\n",
    "\n",
    "- [Import Packs and Data](#ess)\n",
    "- [Seaborn Pack in Brief](#sea)\n",
    "- [Goal in EDA](#goal)\n",
    "- [Seaborn Pack](#intro)\n",
    "    - [Replot](#rep)\n",
    "    - [Seaborn's Titanic Data](#tit)\n",
    "- [Optional: missingno Pack](#miss)\n",
    "- [Optional: ClfAutoEDA Pack](#auto)\n",
    "- [Optional: Other Useful Viz and EDA Packs ](#use)\n",
    "- [References](#ref)"
   ]
  },
  {
   "cell_type": "markdown",
   "metadata": {},
   "source": [
    "***"
   ]
  },
  {
   "cell_type": "markdown",
   "metadata": {},
   "source": [
    "## Import Essential Packs and Data <a class=\"anchor\" id=\"ess\"></a>\n",
    "\n",
    "- This tutorial will introduce many packs. Some will have bugs and won't work well. No worries. Try to fix, share on the Slack. It is ok to skip some. let me know if you know better or useful ones. Enjoy! YB"
   ]
  },
  {
   "cell_type": "code",
   "execution_count": null,
   "metadata": {},
   "outputs": [],
   "source": [
    "# import these two packs\n",
    "import pandas as pd \n",
    "import seaborn as sns"
   ]
  },
  {
   "cell_type": "code",
   "execution_count": null,
   "metadata": {},
   "outputs": [],
   "source": [
    "# import data (our data set, not sns's dataset!)\n",
    "df_titanic = pd.read_csv('train-titanic.csv', \n",
    "                         index_col='PassengerId') #comma-seperated values=csv"
   ]
  },
  {
   "cell_type": "code",
   "execution_count": null,
   "metadata": {},
   "outputs": [],
   "source": [
    "# Raw data: X in N by p\n",
    "# N=891, p=11\n",
    "# Dimension\n",
    "\n",
    "df_titanic.shape"
   ]
  },
  {
   "cell_type": "code",
   "execution_count": null,
   "metadata": {},
   "outputs": [],
   "source": [
    "# Summary table as EDA\n",
    "# Univariate summary\n",
    "\n",
    "df_titanic.describe(include='all')"
   ]
  },
  {
   "cell_type": "markdown",
   "metadata": {
    "tags": []
   },
   "source": [
    "## Seaborn Pack in Brief<a id=\"sea\"></a>\n",
    "\n",
    "- Seaborn is a Python data visualization library based on matplotlib. It provides a high-level interface for drawing attractive and informative statistical graphics.\n",
    "\n",
    "- Its dataset-oriented, declarative API lets you focus on what the different elements of your plots mean, rather than on the details of how to draw them.\n",
    "\n",
    "- Training: I will go over briefly\n",
    "\n",
    "    1. Overview of Seaborn Pack:[Main resource](https://seaborn.pydata.org/tutorial/introduction.html), [Functions in the pack](https://seaborn.pydata.org/tutorial/function_overview.html) AND [Gallery](https://seaborn.pydata.org/examples/index.html)\n",
    "        - “relational”, “distributional”, and “categorical” modules ==> see the figure\n",
    "        - “axes-level” and “figure-level” functions ==> interface with matplotlib through a seaborn object, usually a FacetGrid\n",
    "        \n",
    "    2. Many data sets are available: [visit](https://github.com/mwaskom/seaborn-data)\n",
    "\n",
    "- For example, displot() is the figure-level function for the distributions module. Its default behavior is to draw a histogram, using the same code as histplot() behind the scenes.\n",
    "\n",
    "- Optional: How to do specifying figure sizes? Please visit the links to learn more."
   ]
  },
  {
   "cell_type": "markdown",
   "metadata": {
    "slideshow": {
     "slide_type": "slide"
    }
   },
   "source": [
    "## Goals in EDA in General (so think of the aspects that relate to viz) <a id=\"goal\"></a>\n",
    "\n",
    "1. to describe/monitor the data:\n",
    "    - column-wise \n",
    "    - row-wise\n",
    "    - missingness\n",
    "    - data types\n",
    "    - weird, unusuals, doublicates\n",
    "\n",
    "2. to summarize and plot the data to see the associations or patterns:\n",
    "    - raw data\n",
    "    - univariate summaries\n",
    "    - bivariate summaries\n",
    "        - associations\n",
    "        - correlations\n",
    "        - patterns\n",
    "    - multivariate summaries\n",
    "        - mix of data types-related plots, summaries\n",
    "    - advanced and interactive\n",
    "        - dynamic, interactive, \n",
    "        - raw, aggregated, projected\n",
    "        \n",
    "\n",
    "Thought Question: Can a pack do all these?"
   ]
  },
  {
   "cell_type": "markdown",
   "metadata": {},
   "source": [
    "## Seaborn Pack with Examples <a id=\"intro\"></a>\n",
    "\n",
    "Let's go over some of the chunks found on [the web](https://seaborn.pydata.org/introduction.html) and [Gallery](https://seaborn.pydata.org/examples/index.html). I listed below some."
   ]
  },
  {
   "cell_type": "code",
   "execution_count": null,
   "metadata": {},
   "outputs": [],
   "source": [
    "# Here’s an example of what seaborn can do:\n",
    "\n",
    "# Import seaborn\n",
    "import seaborn as sns\n",
    "\n",
    "# Apply the default theme\n",
    "# Seaborn uses matplotlib to draw its plots\n",
    "# This affect show all matplotlib plots look\n",
    "sns.set_theme()"
   ]
  },
  {
   "cell_type": "code",
   "execution_count": null,
   "metadata": {},
   "outputs": [],
   "source": [
    "# Load dataset\n",
    "tips = sns.load_dataset('tips')\n",
    "tips.shape"
   ]
  },
  {
   "cell_type": "code",
   "execution_count": null,
   "metadata": {},
   "outputs": [],
   "source": [
    "# Let's run 6 codes useful after importing a dataset\n",
    "# Use Pandas\n",
    "tips.info()\n",
    "tips.head()\n",
    "tips.tail()\n",
    "tips.describe(include='all')\n",
    "\n",
    "#try others"
   ]
  },
  {
   "cell_type": "code",
   "execution_count": null,
   "metadata": {},
   "outputs": [],
   "source": [
    "# The goal is to explore when to get good tips. When are people generous in restraurants?\n",
    "# Scatterplot by including a linear regression model (and its uncertainty) using lmplot()\n",
    "# Correlation between total bill and tips\n",
    "sns.lmplot(data=tips, \n",
    "           x=\"total_bill\", \n",
    "           y=\"tip\"\n",
    "           ) #add col=\"time\", hue=\"smoker\""
   ]
  },
  {
   "cell_type": "code",
   "execution_count": null,
   "metadata": {},
   "outputs": [],
   "source": [
    "# Informative distributional summaries\n",
    "# Dist of tips\n",
    "\n",
    "sns.displot(data=tips, \n",
    "            x=\"tip\",\n",
    "            kde=True) # include col=\"time\", kde=True (density estimate)"
   ]
  },
  {
   "cell_type": "code",
   "execution_count": null,
   "metadata": {},
   "outputs": [],
   "source": [
    "# Specialized plots for categorical data\n",
    "\n",
    "sns.catplot(data=tips, \n",
    "            kind=\"bar\", #\"swarm\", \"strip\", \"swarm\", \"box\", \"violin\", \"boxen\", \"point\", \"bar\", or \"count\"\n",
    "            x=\"day\", y=\"tip\", \n",
    "            hue=\"smoker\")"
   ]
  },
  {
   "cell_type": "code",
   "execution_count": null,
   "metadata": {},
   "outputs": [],
   "source": [
    "# Or you could show only the mean value and its confidence interval within each nested category:\n",
    "\n",
    "sns.catplot(data=tips, kind=\"bar\", x=\"day\", y=\"total_bill\", hue=\"smoker\")"
   ]
  },
  {
   "cell_type": "code",
   "execution_count": null,
   "metadata": {},
   "outputs": [],
   "source": [
    "# catplot: kernel density estimation to represent the underlying distribution\n",
    "\n",
    "sns.catplot(data=tips, kind=\"violin\", x=\"day\", y=\"total_bill\",\n",
    "            hue=\"smoker\", split=True)\n"
   ]
  },
  {
   "cell_type": "code",
   "execution_count": null,
   "metadata": {},
   "outputs": [],
   "source": [
    "# Composite views onto multivariate datasets\n",
    "\n",
    "sns.jointplot(data=tips, x=\"tip\", y=\"total_bill\")"
   ]
  },
  {
   "cell_type": "code",
   "execution_count": null,
   "metadata": {},
   "outputs": [],
   "source": [
    "# Composite views onto multivariate datasets\n",
    "\n",
    "sns.jointplot(data=tips, x=\"tip\", y=\"total_bill\", hue='day')"
   ]
  },
  {
   "cell_type": "code",
   "execution_count": null,
   "metadata": {},
   "outputs": [],
   "source": [
    "# Composite views onto multivariate datasets\n",
    "# Use for large data: hex, kde in kind\n",
    "\n",
    "sns.jointplot(data=tips, x=\"tip\", y=\"total_bill\", kind='hex') #kind='kde', 'hist', 'hex'"
   ]
  },
  {
   "cell_type": "code",
   "execution_count": null,
   "metadata": {},
   "outputs": [],
   "source": [
    "# Joint and marginal distributions for all pairwise relationships and for each variable\n",
    "\n",
    "sns.pairplot(data=tips, hue=\"day\") #hue=\"smoker\" ategorical variable"
   ]
  },
  {
   "cell_type": "markdown",
   "metadata": {},
   "source": [
    "### Relplot <a id=\"rep\"></a>\n",
    "\n",
    "- The function relplot() is named that way because it is designed to visualize many different statistical relationships.\n",
    "- Let's create a visualization with relplot:\n"
   ]
  },
  {
   "cell_type": "code",
   "execution_count": null,
   "metadata": {},
   "outputs": [],
   "source": [
    "sns.relplot(\n",
    "    data=tips,\n",
    "    x=\"tip\", y=\"total_bill\", hue=\"day\") #kind='line' for time-series"
   ]
  },
  {
   "cell_type": "code",
   "execution_count": null,
   "metadata": {},
   "outputs": [],
   "source": [
    "# Load an example dataset\n",
    "tips = sns.load_dataset(\"tips\")\n",
    "\n",
    "# More complex relplot example\n",
    "sns.relplot(\n",
    "    data=tips,\n",
    "    x=\"tip\", y=\"total_bill\", \n",
    "    hue=\"smoker\", \n",
    "    col=\"time\",\n",
    "    style=\"smoker\", size=\"size\")"
   ]
  },
  {
   "cell_type": "code",
   "execution_count": null,
   "metadata": {},
   "outputs": [],
   "source": [
    "# The relplot() function has a convenient kind parameter that lets you easily switch to this alternate representation\n",
    "\n",
    "dots = sns.load_dataset(\"dots\")\n",
    "sns.relplot(\n",
    "    data=dots, kind=\"line\",\n",
    "    x=\"time\", y=\"firing_rate\", col=\"align\",\n",
    "    hue=\"choice\", size=\"coherence\", style=\"choice\",\n",
    "    facet_kws=dict(sharex=False),\n",
    ")"
   ]
  },
  {
   "cell_type": "markdown",
   "metadata": {},
   "source": [
    "***"
   ]
  },
  {
   "cell_type": "markdown",
   "metadata": {},
   "source": [
    "## **References** <a class=\"anchor\" id=\"ref\"></a>\n",
    "\n",
    "- [Seaborn pack](https://seaborn.pydata.org/examples/index.html#)\n",
    "- [Seaborn tutorial](https://seaborn.pydata.org/tutorial.html)\n",
    "- [Seaborn tutorial with Dataset](https://rubikscode.net/2020/07/12/ultimate-python-data-visualization-guide/)"
   ]
  }
 ],
 "metadata": {
  "kernelspec": {
   "display_name": "base",
   "language": "python",
   "name": "python3"
  },
  "language_info": {
   "codemirror_mode": {
    "name": "ipython",
    "version": 3
   },
   "file_extension": ".py",
   "mimetype": "text/x-python",
   "name": "python",
   "nbconvert_exporter": "python",
   "pygments_lexer": "ipython3",
   "version": "3.9.12"
  },
  "vscode": {
   "interpreter": {
    "hash": "ad8bb9cac9fb6b90b0fdfbb300e5ae8f37c22a1e9d0a684315c5eac151d47462"
   }
  }
 },
 "nbformat": 4,
 "nbformat_minor": 4
}
