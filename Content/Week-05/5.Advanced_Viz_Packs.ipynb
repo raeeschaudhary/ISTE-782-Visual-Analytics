{
 "cells": [
  {
   "cell_type": "markdown",
   "metadata": {},
   "source": [
    "# Advanced Python Packs\n",
    "\n",
    "Instructor Notes, YB, RIT\n",
    "\n",
    "## Advanced Packs for Visualization and EDA"
   ]
  },
  {
   "cell_type": "markdown",
   "metadata": {},
   "source": [
    "***"
   ]
  },
  {
   "cell_type": "markdown",
   "metadata": {},
   "source": [
    "### **Table of Contents** <a class=\"anchor\" id=\"0.1\"></a>\n",
    "\n",
    "- [missingno Pack](#miss)\n",
    "- [ClfAutoEDA Pack](#auto)\n",
    "- [Sweetviz Pack](#sweet)\n",
    "- [Caret](#caret)"
   ]
  },
  {
   "cell_type": "markdown",
   "metadata": {},
   "source": [
    "***\n",
    "\n",
    "Do you have messy datasets? Missing values? **missingno** provides a small toolset of flexible and easy-to-use missing data visualizations and utilities that allows you to get a quick visual summary of the completeness (or lack thereof) of your dataset.\n",
    "\n",
    "- [Visit the missingno pack site](https://github.com/ResidentMario/missingno)"
   ]
  },
  {
   "cell_type": "markdown",
   "metadata": {},
   "source": [
    "***"
   ]
  },
  {
   "cell_type": "code",
   "execution_count": null,
   "metadata": {},
   "outputs": [],
   "source": [
    "# import the same titanic data as in the prev workshop, and call data\n",
    "\n",
    "df_titanic = ... # use the prev tutorials"
   ]
  },
  {
   "cell_type": "markdown",
   "metadata": {
    "tags": []
   },
   "source": [
    "# missingno Pack <a class=\"anchor\" id=\"miss\"></a>\n",
    "\n",
    "This pack is for misssing data. Need to read the manuals/descriptions to perform and interpret. If not comfortable, try your best or skip.\n",
    "\n",
    "Do you have messy datasets? Missing values? **missingno** provides a small toolset of flexible and easy-to-use missing data visualizations and utilities that allows you to get a quick visual summary of the completeness (or lack thereof) of your dataset.\n",
    "\n",
    "[Visit](https://github.com/ResidentMario/missingno)\n",
    "\n",
    "Let's practice some features of the pack."
   ]
  },
  {
   "cell_type": "code",
   "execution_count": null,
   "metadata": {},
   "outputs": [],
   "source": [
    "# missing data pack\n",
    "import missingno as msno\n",
    "\n",
    "# this will use the env of matplotlib\n",
    "%matplotlib inline"
   ]
  },
  {
   "cell_type": "code",
   "execution_count": null,
   "metadata": {
    "tags": []
   },
   "outputs": [],
   "source": [
    "msno.matrix(df_titanic)"
   ]
  },
  {
   "cell_type": "code",
   "execution_count": null,
   "metadata": {},
   "outputs": [],
   "source": [
    "# msno.bar is a simple visualization of nullity by column:\n",
    "msno.bar(df_titanic)"
   ]
  },
  {
   "cell_type": "markdown",
   "metadata": {},
   "source": [
    "### Nullity Correlation\n",
    "\n",
    "Nullity correlation ranges from -1 (if one variable appears the other definitely does not) to 0 (variables appearing or not appearing have no effect on one another) to 1 (if one variable appears the other definitely also does)."
   ]
  },
  {
   "cell_type": "code",
   "execution_count": null,
   "metadata": {},
   "outputs": [],
   "source": [
    "# The missingno correlation heatmap measures nullity correlation: how strongly the presence or absence of one variable affects the presence of another\n",
    "msno.heatmap(df_titanic)"
   ]
  },
  {
   "cell_type": "code",
   "execution_count": null,
   "metadata": {},
   "outputs": [],
   "source": [
    "# The dendrogram allows you to more fully correlate variable completion, \n",
    "#revealing trends deeper than the pairwise ones visible in the correlation heatmap:\n",
    "msno.dendrogram(df_titanic)"
   ]
  },
  {
   "cell_type": "markdown",
   "metadata": {},
   "source": [
    "### How to interpret Dendrogram?\n",
    "\n",
    "- A dendrogram is a diagram that shows the hierarchical relationship between objects. It is most commonly created as an output from hierarchical clustering. The main use of a dendrogram is to work out the best way to allocate objects to clusters.\n",
    "\n",
    "- Remember that our main interest is in similarity and clustering. Each joining (fusion) of two clusters is represented on the graph by the splitting of a horizontal line into two horizontal lines.\n",
    "\n",
    "- To interpret this graph, read it from a top-down perspective. Cluster leaves which linked together at a distance of zero fully predict one another's presence—one variable might always be empty when another is filled, or they might always both be filled or both empty, and so on. In this specific example the dendrogram glues together the variables which are required and therefore present in every record."
   ]
  },
  {
   "cell_type": "markdown",
   "metadata": {},
   "source": [
    "# ClfAutoEDA Pack for Advanced Viz <a class=\"anchor\" id=\"auto\"></a>\n",
    "\n",
    "- Read the resource https://medium.com/analytics-vidhya/automated-eda-for-classification-77c25b847e43\n",
    "- Download the py code in the directory you are working: https://github.com/jatinkataria94/EDA-Classification/blob/master/ClfAutoEDA.py\n",
    "- Then apply features on Titanic Data.\n",
    "\n",
    "- This pack is good at analyzing the data with the targeting variable. Pandas-profiling is not.\n",
    "\n",
    "- Install the pack, import it and run the Auto EDA Pack with this syntax (errors may pop up). Compare the output with Pandas-profiling:\n",
    "\n",
    "df_processed,num_features,cat_features=EDA(df_titanic_play,labels,\n",
    "                                         target_variable_name,\n",
    "                                         data_summary_figsize=(6,6),\n",
    "                                         corr_matrix_figsize=(6,6),\n",
    "                                         corr_matrix_annot=True,\n",
    "                                         pairplt=True)\n",
    "                                       "
   ]
  },
  {
   "cell_type": "markdown",
   "metadata": {},
   "source": [
    "***"
   ]
  },
  {
   "cell_type": "markdown",
   "metadata": {},
   "source": [
    "# Sweetviz Pack <a class=\"anchor\" id=\"sweet\"></a>\n",
    "\n",
    "- Read the article https://towardsdatascience.com/powerful-eda-exploratory-data-analysis-in-just-two-lines-of-code-using-sweetviz-6c943d32f34\n",
    "\n",
    "- https://towardsdatascience.com/data-frame-eda-packages-comparison-pandas-profiling-sweetviz-and-pandasgui-bbab4841943b#:~:text=more%20detailed%20information.-,Sweetviz,fully%20self%2Dcontained%20HTML%20application.\n",
    "\n",
    "- Install it using conda (or pip) install sweetviz and run the next.\n",
    "\n",
    "- When train and test data sets are of interest, use this pack. We will tevisit this pack once we start Machine Learning"
   ]
  },
  {
   "cell_type": "code",
   "execution_count": null,
   "metadata": {},
   "outputs": [],
   "source": [
    "# import (use conda install sweetviz before this)\n",
    "import sweetviz"
   ]
  },
  {
   "cell_type": "code",
   "execution_count": null,
   "metadata": {},
   "outputs": [],
   "source": [
    "# Don't run! Read the article, use the practise of it first, Then apply on your data set.\n",
    "# Initially define sata sets and label the target\n",
    "\n",
    "df_train = ?\n",
    "df_train = ?\n",
    "\n",
    "# you can split the titanic data into train and test using train-titanic, fix this code and run the pack \n",
    "\n",
    "#This will take too much time if \n",
    "my_report = sweetviz.compare([df_train, \"Train\"], [df_test, \"Test\"], \"TARGET\")"
   ]
  },
  {
   "cell_type": "code",
   "execution_count": null,
   "metadata": {},
   "outputs": [],
   "source": [
    "# Get the report\n",
    "my_report.show_html(\"ReportXYZ.html\") \n",
    "# If not providing a filename, this will default to SWEETVIZ_REPORT.html"
   ]
  },
  {
   "cell_type": "markdown",
   "metadata": {
    "tags": []
   },
   "source": [
    "# Pycaret Pack <a class=\"anchor\" id=\"caret\"></a>\n",
    "\n",
    "A complex level pack that does all!\n",
    "\n",
    "Read the article https://github.com/pycaret/pycaret and examples https://github.com/pycaret/pycaret/tree/master/examples.\n",
    "\n",
    "Install it using conda (or pip) install pycaret.\n",
    "\n",
    "Practice it with the dataset you have any or Titatnic."
   ]
  },
  {
   "cell_type": "code",
   "execution_count": null,
   "metadata": {},
   "outputs": [],
   "source": []
  },
  {
   "cell_type": "code",
   "execution_count": null,
   "metadata": {},
   "outputs": [],
   "source": []
  },
  {
   "cell_type": "code",
   "execution_count": null,
   "metadata": {},
   "outputs": [],
   "source": []
  },
  {
   "cell_type": "markdown",
   "metadata": {},
   "source": [
    "***"
   ]
  },
  {
   "cell_type": "markdown",
   "metadata": {
    "tags": []
   },
   "source": [
    "### Plotly will be a separate tutorial. "
   ]
  },
  {
   "cell_type": "markdown",
   "metadata": {},
   "source": [
    "***"
   ]
  },
  {
   "cell_type": "markdown",
   "metadata": {},
   "source": [
    "## Other Useful Viz and EDA Packs <a class=\"anchor\" id=\"use\"></a>\n",
    "\n",
    "- If you know any better pack for visualization in Python, please let me know so to add here. Share on the Slack\n",
    "\n",
    "- Always first visit the main resource, not visiting the non-main pages after you google. Then practice with small data set. Then pay attention to big data and computation issues. \n",
    "\n",
    "- Do you know any pack for big data? Share on the Slack"
   ]
  }
 ],
 "metadata": {
  "kernelspec": {
   "display_name": "base",
   "language": "python",
   "name": "python3"
  },
  "language_info": {
   "codemirror_mode": {
    "name": "ipython",
    "version": 3
   },
   "file_extension": ".py",
   "mimetype": "text/x-python",
   "name": "python",
   "nbconvert_exporter": "python",
   "pygments_lexer": "ipython3",
   "version": "3.9.12"
  },
  "vscode": {
   "interpreter": {
    "hash": "ad8bb9cac9fb6b90b0fdfbb300e5ae8f37c22a1e9d0a684315c5eac151d47462"
   }
  }
 },
 "nbformat": 4,
 "nbformat_minor": 4
}
