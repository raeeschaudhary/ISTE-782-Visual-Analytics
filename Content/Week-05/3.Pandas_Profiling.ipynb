{
 "cells": [
  {
   "cell_type": "markdown",
   "metadata": {},
   "source": [
    "# Pandas-Profiling Package as Visuzalization\n",
    "\n",
    "Instructor Notes, YB, RIT\n",
    "\n",
    "## Generating summary report with Pandas-Profiling"
   ]
  },
  {
   "cell_type": "markdown",
   "metadata": {},
   "source": [
    "***"
   ]
  },
  {
   "cell_type": "markdown",
   "metadata": {},
   "source": [
    "### **Table of Contents** <a class=\"anchor\" id=\"0.1\"></a>\n",
    "\n",
    "- [Pandas-Profiling Pack](#what)\n",
    "- [Creating New Environment](#env))\n",
    "- [Practice](#prof)\n",
    "- [Explore Deeper](#deep)\n",
    "- [Your Turn](#yt)\n",
    "- [References](#ref)\n"
   ]
  },
  {
   "cell_type": "markdown",
   "metadata": {},
   "source": [
    "***"
   ]
  },
  {
   "cell_type": "markdown",
   "metadata": {},
   "source": [
    "## What is Pandas-Profiling Pack? <a class=\"pdprof\" id=\"01\"></a>"
   ]
  },
  {
   "cell_type": "markdown",
   "metadata": {},
   "source": [
    "Visit the [main resource](https://pypi.org/project/pandas-profiling/).\n",
    "\n",
    "- Generates profile reports with descriptive statistics and simple static visualization from a pandas DataFrame.\n",
    "\n",
    "- The pandas df.describe() function is great but a little basic and limiteed for serious exploratory data analysis. pandas_profiling extends the pandas DataFrame with df.profile_report() for quick data analysis.\n",
    "\n",
    "- For each column the following statistics - if relevant for the column type - are presented in an interactive HTML report:\n",
    "\n",
    "    - Type inference: detect the types of columns in a dataframe.\n",
    "    - Essentials: type, unique values, missing values\n",
    "    - Quantile statistics like minimum value, Q1, median, Q3, maximum, range, interquartile range\n",
    "    - Descriptive statistics like mean, mode, standard deviation, sum, median absolute deviation, coefficient of variation, kurtosis, skewness\n",
    "    - Most frequent values\n",
    "    - Histogram\n",
    "    - Correlations highlighting of highly correlated variables, Spearman, Pearson and Kendall matrices\n",
    "    - Missing values matrix, count, heatmap and dendrogram of missing values\n",
    "    - Text analysis learn about categories (Uppercase, Space), scripts (Latin, Cyrillic) and blocks (ASCII) of text data.\n",
    "    - File and Image analysis extract file sizes, creation dates and dimensions and scan for truncated images or those containing EXIF information.\n",
    "    \n",
    "- Go to Examples on the [web](https://pypi.org/project/pandas-profiling/). Spend some time here."
   ]
  },
  {
   "cell_type": "markdown",
   "metadata": {},
   "source": [
    "***"
   ]
  },
  {
   "cell_type": "markdown",
   "metadata": {},
   "source": [
    "## Install\n",
    "\n",
    "- Open Terminal and run this code\n",
    "- This will load Pandas-profiling. Do not run here.\n",
    "- Use conda, not pip, because anaconda is our navigator\n",
    "- I recommend to create a new environemnt if you are not beginner in Jupyter or Python\n",
    "\n",
    "> conda install -c conda-forge pandas-profiling\n",
    "\n",
    "- Install using conda. However, you can do it with pip as below: use pip3 or just pip if not working\n",
    "\n",
    "> !pip install pandas-profiling"
   ]
  },
  {
   "cell_type": "markdown",
   "metadata": {},
   "source": [
    "# Creating a new environment for ISTE-782 Python work <a class=\"anchor\" id=\"env\"></a>\n",
    "\n",
    "- Open terminal: run the code one by one after reading the outputs.\n",
    "\n",
    "- List the environments found\n",
    "\n",
    "> conda env list\n",
    "\n",
    "- List the Python versions\n",
    "\n",
    "> conda search --full-name python\n",
    "\n",
    "- Create a new environment, myvaenv. This will take time\n",
    "\n",
    "> conda create -n myVAenv python=3.11 anaconda\n",
    "\n",
    "- Check if the new env created\n",
    "\n",
    "> conda env list\n",
    "\n",
    "> conda list -n myvaenv\n",
    "\n",
    "- You should ACTIVATE the env before the start\n",
    "\n",
    "> conda activate myvaenv\n",
    "\n",
    "- Once you are done, deactivate the env\n",
    "\n",
    "> conda deactivate #or just deactivate\n"
   ]
  },
  {
   "cell_type": "markdown",
   "metadata": {},
   "source": [
    "***"
   ]
  },
  {
   "cell_type": "markdown",
   "metadata": {
    "slideshow": {
     "slide_type": "slide"
    }
   },
   "source": [
    "# Practice <a id=\"prof\"></a>\n"
   ]
  },
  {
   "cell_type": "code",
   "execution_count": null,
   "metadata": {},
   "outputs": [],
   "source": [
    "# Check the working directory\n",
    "!pwd"
   ]
  },
  {
   "cell_type": "code",
   "execution_count": null,
   "metadata": {},
   "outputs": [],
   "source": [
    "# import packs\n",
    "import pandas as pd\n",
    "import pandas_profiling as pdp"
   ]
  },
  {
   "cell_type": "code",
   "execution_count": null,
   "metadata": {},
   "outputs": [],
   "source": [
    "# when xlsx file import\n",
    "#conda install openpyxl\n",
    "\n",
    "# use pd.red.excel('.xlsx')\n",
    "# then make pd.DataFrame(df, columns=['','',...])"
   ]
  },
  {
   "cell_type": "code",
   "execution_count": null,
   "metadata": {},
   "outputs": [],
   "source": [
    "# See the Titanic data set: download under the same directory\n",
    "df_titanic = pd.read_csv('train-titanic.csv', \n",
    "                         index_col='PassengerId') #comma-seperated values=csv"
   ]
  },
  {
   "cell_type": "code",
   "execution_count": null,
   "metadata": {},
   "outputs": [],
   "source": [
    "# run each one by one\n",
    "\n",
    "df_titanic.info() #types and all missing\n",
    "#df_titanic.shape #dim\n",
    "#df_titanic.head(10) #first 10 observation, \n",
    "#df_titanic.tail(10) #last 10 observation, \n",
    "#df_titanic.describe() #show only numerical summaries\n",
    "#df_titanic.describe(include='all') #include all variables including numerical and categorical"
   ]
  },
  {
   "cell_type": "code",
   "execution_count": null,
   "metadata": {},
   "outputs": [],
   "source": [
    "df_titanic.shape"
   ]
  },
  {
   "cell_type": "code",
   "execution_count": null,
   "metadata": {
    "tags": []
   },
   "outputs": [],
   "source": [
    "# Did you import the Titanic data set, train-titanic.csv?\n",
    "report1 = pdp.ProfileReport(df_titanic, title='Pandas Profiling Report - Simple')\n",
    "report1.to_file(\"report1.html\")\n",
    "report1"
   ]
  },
  {
   "cell_type": "markdown",
   "metadata": {},
   "source": [
    "- Then open the html files under the folder and explore the results"
   ]
  },
  {
   "cell_type": "markdown",
   "metadata": {},
   "source": [
    "## Explore Deeper <a id=\"deep\"></a>\n",
    "\n",
    "The example code below loads the explorative configuration file, that includes many features for text (length distribution, unicode information), files (file size, creation time) and images (dimensions, exif information)."
   ]
  },
  {
   "cell_type": "code",
   "execution_count": null,
   "metadata": {},
   "outputs": [],
   "source": [
    "# Use minimal=True for large data set\n",
    "report2 = pdp.ProfileReport(df_titanic, title='Pandas Profiling Report - Detailed', \n",
    "                            explorative=True, html={'style':{'full_width':True}})\n",
    "report2.to_file(\"report2.html\")\n",
    "report2"
   ]
  },
  {
   "cell_type": "markdown",
   "metadata": {},
   "source": [
    "- Then open the html files under the folder and explore the results"
   ]
  },
  {
   "cell_type": "markdown",
   "metadata": {},
   "source": [
    "## Minimal Report in case large data"
   ]
  },
  {
   "cell_type": "code",
   "execution_count": null,
   "metadata": {
    "tags": []
   },
   "outputs": [],
   "source": [
    "# Use minimal=True for large data set\n",
    "report3 = pdp.ProfileReport(df_titanic, title='Pandas Profiling Report', \n",
    "                            minimal=True) #change to False for full report\n",
    "report3.to_file(\"report3.html\")\n",
    "report3"
   ]
  },
  {
   "cell_type": "markdown",
   "metadata": {},
   "source": [
    "- Then open the html files under the folder and explore the results"
   ]
  },
  {
   "cell_type": "code",
   "execution_count": null,
   "metadata": {},
   "outputs": [],
   "source": [
    "# Optional: Try advanced codes with html, playing with style etc.:\n",
    "\n",
    "#html={'style':{'full_width':True}}\n",
    "\n",
    "# Focus on Target variable\n"
   ]
  },
  {
   "cell_type": "markdown",
   "metadata": {},
   "source": [
    "***"
   ]
  },
  {
   "cell_type": "markdown",
   "metadata": {},
   "source": [
    "# Your Turn <a class=\"anchor\" id=\"yt\"></a>\n",
    "\n",
    "- Just play and include the codes for future reference. Hope \n"
   ]
  },
  {
   "cell_type": "code",
   "execution_count": null,
   "metadata": {},
   "outputs": [],
   "source": []
  },
  {
   "cell_type": "code",
   "execution_count": null,
   "metadata": {},
   "outputs": [],
   "source": []
  },
  {
   "cell_type": "code",
   "execution_count": null,
   "metadata": {},
   "outputs": [],
   "source": []
  },
  {
   "cell_type": "code",
   "execution_count": null,
   "metadata": {},
   "outputs": [],
   "source": []
  },
  {
   "cell_type": "code",
   "execution_count": null,
   "metadata": {},
   "outputs": [],
   "source": []
  },
  {
   "cell_type": "markdown",
   "metadata": {},
   "source": [
    "***"
   ]
  },
  {
   "cell_type": "markdown",
   "metadata": {},
   "source": [
    "## **References** <a class=\"anchor\" id=\"ref\"></a>\n",
    "\n",
    "- [Pandas-profiling](https://pypi.org/project/pandas-profiling/)\n",
    "- [Practice with this Kaggle notebook](https://www.kaggle.com/frtgnn/thorough-eda-with-a-single-line-pandas-profiling)"
   ]
  }
 ],
 "metadata": {
  "kernelspec": {
   "display_name": "base",
   "language": "python",
   "name": "python3"
  },
  "language_info": {
   "codemirror_mode": {
    "name": "ipython",
    "version": 3
   },
   "file_extension": ".py",
   "mimetype": "text/x-python",
   "name": "python",
   "nbconvert_exporter": "python",
   "pygments_lexer": "ipython3",
   "version": "3.9.12"
  },
  "vscode": {
   "interpreter": {
    "hash": "ad8bb9cac9fb6b90b0fdfbb300e5ae8f37c22a1e9d0a684315c5eac151d47462"
   }
  }
 },
 "nbformat": 4,
 "nbformat_minor": 4
}
