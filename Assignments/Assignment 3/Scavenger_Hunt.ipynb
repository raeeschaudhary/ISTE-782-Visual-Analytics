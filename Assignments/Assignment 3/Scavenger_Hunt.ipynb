{
 "cells": [
  {
   "cell_type": "markdown",
   "id": "1aaca315-9a4d-4689-b0b1-9b96ba8cb016",
   "metadata": {},
   "source": [
    "# Scavenger Hunt Code with Comment Version\n",
    "\n",
    "## Teammembers:\n",
    "\n",
    "\n",
    "### Before the start:\n",
    "\n",
    "- Did you finish all five tutorials posted under `Python Workshops` on myCourses? If not, please first do it.\n",
    "\n",
    "- Read the instruction `Assignment 3 - Data Scavenger Hunt` and follow what the goal is. Use Slack to exchange understanding.\n"
   ]
  },
  {
   "cell_type": "markdown",
   "id": "11a5d48b-ae78-44c2-bfd9-24d71d130ed3",
   "metadata": {},
   "source": [
    "***"
   ]
  },
  {
   "cell_type": "markdown",
   "id": "5694e5b6-ab1a-4b18-9865-3c05492014cc",
   "metadata": {},
   "source": [
    "# Code Portion"
   ]
  },
  {
   "cell_type": "code",
   "execution_count": 1,
   "id": "dceb5988-91da-4a62-abb0-4714e24019e2",
   "metadata": {},
   "outputs": [],
   "source": [
    "# In Terminal, run > pwd and obtain the directory address\n",
    "# Then run: cd 'directory address here'\n",
    "# Then run the cells one by one\n",
    "# Add your own comments if you like\n",
    "\n",
    "import matplotlib.pyplot as plt\n",
    "import numpy as np"
   ]
  },
  {
   "cell_type": "code",
   "execution_count": 2,
   "id": "88dc3ee7-aaca-43d1-b316-1edba0926231",
   "metadata": {
    "tags": []
   },
   "outputs": [],
   "source": [
    "def read_waveforms(LA, RV, RA) :\n",
    "    infile = open('waveforms.csv', 'r')\n",
    "\n",
    "    line = infile.readline()\n",
    "    wf = 0 # which waveform are we trying to read (0 = LA, 1 = RV, 2 = RA)\n",
    "\n",
    "    while line :\n",
    "        line = line.strip()\n",
    "        data = line.split(',')\n",
    "\n",
    "        for i in range(0, len(data)) : \n",
    "            data[i] = float(data[i])\n",
    "\n",
    "        if(wf == 0) :\n",
    "            LA.append(data)\n",
    "        elif(wf == 1) :\n",
    "            RV.append(data)\n",
    "        elif(wf == 2) :\n",
    "            RA.append(data)\n",
    "        \n",
    "        wf = (wf + 1) % 3\n",
    "        line = infile.readline()\n",
    "\n",
    "    infile.close()"
   ]
  },
  {
   "cell_type": "code",
   "execution_count": 3,
   "id": "fff3fcd0-8435-4dcb-8e56-84a8d70edee1",
   "metadata": {},
   "outputs": [],
   "source": [
    "def read_times(TL, TR) :\n",
    "    infile = open('times.csv', 'r')\n",
    "    line = infile.readline()\n",
    "    data = line.strip().split(',')\n",
    "\n",
    "    for i in range(0, len(data)) : \n",
    "        data[i] = float(data[i])\n",
    "\n",
    "    TL.append(data)\n",
    "\n",
    "    line = infile.readline()\n",
    "    data = line.strip().split(',')\n",
    "\n",
    "    for i in range(0, len(data)) : \n",
    "        data[i] = float(data[i])\n",
    "\n",
    "    TR.append(data)\n",
    "    infile.close()\n",
    "\n",
    "def plot_waveforms(LA, RV, RA, TL, TR) :\n",
    "    print('create your individual waveform plots here')"
   ]
  },
  {
   "cell_type": "code",
   "execution_count": 4,
   "id": "58eda019-6583-4a5f-a4a0-06ed3c3657dc",
   "metadata": {},
   "outputs": [],
   "source": [
    "# make empty data and time Lists\n",
    "LA_list = []\n",
    "RV_list = []\n",
    "RA_list = []\n",
    "TL_list = []\n",
    "TR_list = []\n",
    "\n",
    "# Run the fns\n",
    "read_waveforms(LA_list, RV_list, RA_list)\n",
    "\n",
    "read_times(TL_list, TR_list)\n",
    "\n",
    "# convert all data and time lists to numpy arrays for plotting\n",
    "LA = np.array(LA_list)\n",
    "RV = np.array(RV_list)\n",
    "RA = np.array(RA_list)\n",
    "TL = np.array(TL_list[0])\n",
    "TR = np.array(TR_list[0])"
   ]
  },
  {
   "cell_type": "code",
   "execution_count": 7,
   "id": "50eb7734-828f-4662-b55a-2bfbce6c4381",
   "metadata": {},
   "outputs": [
    {
     "name": "stdout",
     "output_type": "stream",
     "text": [
      "[0.     0.0005 0.001  0.0015 0.002  0.0025 0.003  0.0035 0.004  0.0045\n",
      " 0.005  0.0055 0.006  0.0065 0.007  0.0075 0.008  0.0085 0.009  0.0095\n",
      " 0.01   0.0105 0.011  0.0115 0.012  0.0125 0.013  0.0135 0.014  0.0145\n",
      " 0.015  0.0155 0.016  0.0165 0.017  0.0175 0.018  0.0185 0.019  0.0195\n",
      " 0.02   0.0205 0.021  0.0215 0.022  0.0225 0.023  0.0235 0.024  0.0245\n",
      " 0.025  0.0255 0.026  0.0265 0.027  0.0275 0.028  0.0285 0.029  0.0295\n",
      " 0.03   0.0305 0.031  0.0315 0.032  0.0325 0.033  0.0335 0.034  0.0345\n",
      " 0.035  0.0355 0.036  0.0365 0.037  0.0375 0.038  0.0385 0.039  0.0395\n",
      " 0.04   0.0405 0.041  0.0415 0.042  0.0425 0.043  0.0435 0.044  0.0445\n",
      " 0.045  0.0455 0.046  0.0465 0.047  0.0475 0.048  0.0485 0.049  0.0495\n",
      " 0.05  ]\n"
     ]
    }
   ],
   "source": [
    "print(TR)"
   ]
  },
  {
   "cell_type": "code",
   "execution_count": 8,
   "id": "b00acfb2-8912-47eb-9007-e40bc62e2d54",
   "metadata": {},
   "outputs": [],
   "source": [
    "# make empty data and time Lists\n",
    "LA_list = []\n",
    "RV_list = []\n",
    "RA_list = []\n",
    "TL_list = []\n",
    "TR_list = []\n",
    "\n",
    "# Again\n",
    "read_waveforms(LA_list, RV_list, RA_list)\n",
    "\n",
    "read_times(TL_list, TR_list)\n",
    "\n",
    "# convert all data and time lists to numpy arrays for plotting\n",
    "LA = np.array(LA_list)\n",
    "RV = np.array(RV_list)\n",
    "RA = np.array(RA_list)\n",
    "TL = np.array(TL_list[0])\n",
    "TR = np.array(TR_list[0])"
   ]
  },
  {
   "cell_type": "code",
   "execution_count": 11,
   "id": "330358a1-60f9-47ed-b792-886f67cfc0bd",
   "metadata": {},
   "outputs": [
    {
     "name": "stdout",
     "output_type": "stream",
     "text": [
      "[[1.4729e+00 1.9103e+00 1.7495e+00 ... 6.9122e-01 4.4614e-01 5.4853e-01]\n",
      " [5.4563e-01 5.4037e-01 5.9305e-01 ... 1.3645e-01 3.2749e-01 4.9801e-01]\n",
      " [4.2653e+00 4.3696e+00 5.5504e+00 ... 1.1709e-02 1.5196e-01 3.7465e-01]\n",
      " ...\n",
      " [5.3061e+00 4.2653e+00 5.1861e+00 ... 4.5459e-01 8.6968e-01 9.7583e-01]\n",
      " [6.0754e+00 6.8808e+00 7.6102e+00 ... 1.4169e+00 2.0462e+00 1.7491e+00]\n",
      " [3.6420e+00 4.3162e+00 6.5301e+00 ... 0.0000e+00 6.5368e-04 3.0995e-02]]\n"
     ]
    }
   ],
   "source": [
    "print(LA)"
   ]
  },
  {
   "cell_type": "code",
   "execution_count": 16,
   "id": "cfaa99c0-0e16-4fd0-ba20-c9c58bb82b86",
   "metadata": {},
   "outputs": [
    {
     "name": "stdout",
     "output_type": "stream",
     "text": [
      "float64\n",
      "[[1.4729e+00 1.9103e+00 1.7495e+00 ... 6.9122e-01 4.4614e-01 5.4853e-01]\n",
      " [5.4563e-01 5.4037e-01 5.9305e-01 ... 1.3645e-01 3.2749e-01 4.9801e-01]\n",
      " [4.2653e+00 4.3696e+00 5.5504e+00 ... 1.1709e-02 1.5196e-01 3.7465e-01]\n",
      " ...\n",
      " [5.3061e+00 4.2653e+00 5.1861e+00 ... 4.5459e-01 8.6968e-01 9.7583e-01]\n",
      " [6.0754e+00 6.8808e+00 7.6102e+00 ... 1.4169e+00 2.0462e+00 1.7491e+00]\n",
      " [3.6420e+00 4.3162e+00 6.5301e+00 ... 0.0000e+00 6.5368e-04 3.0995e-02]]\n"
     ]
    }
   ],
   "source": [
    "print(LA.dtype)\n",
    "\n",
    "print(LA)"
   ]
  },
  {
   "cell_type": "markdown",
   "id": "d51ef847-3a6d-4464-94e2-6a49e71624a9",
   "metadata": {
    "tags": []
   },
   "source": [
    "## Did you see a bug in the data waveforms.csv?\n",
    "\n",
    "- Open the data waveforms.csv, see the column names are not defined and first row became the names\n",
    "\n",
    "- Now, fix it first.\n",
    "\n",
    "- Then complete the assignment under Write-up as described in the instruction.\n"
   ]
  },
  {
   "cell_type": "markdown",
   "id": "3e7a5925-619c-490d-b6be-68625eea03b9",
   "metadata": {},
   "source": [
    "## Your turn to play with code\n",
    "\n",
    "- Fix, play, obtain plots etc\n",
    "- Finding effective visualization portion will take your time\n",
    "- Then you will write up to address the goal / questions in the assignment"
   ]
  },
  {
   "cell_type": "code",
   "execution_count": null,
   "id": "71d7a0ed-cf03-4c6d-b7ae-b40f7ac6942d",
   "metadata": {},
   "outputs": [],
   "source": []
  },
  {
   "cell_type": "code",
   "execution_count": null,
   "id": "e2bc3244-9402-40a7-83a2-db597c82f58e",
   "metadata": {},
   "outputs": [],
   "source": []
  },
  {
   "cell_type": "code",
   "execution_count": null,
   "id": "13716a3c-5ca0-428f-b676-9471f92caedb",
   "metadata": {},
   "outputs": [],
   "source": []
  },
  {
   "cell_type": "code",
   "execution_count": null,
   "id": "5a0c310b-0e41-4c4c-a9db-250c6cb00903",
   "metadata": {},
   "outputs": [],
   "source": []
  },
  {
   "cell_type": "code",
   "execution_count": null,
   "id": "5d5d9295-31d8-4429-8a2e-e5bb42988116",
   "metadata": {},
   "outputs": [],
   "source": []
  },
  {
   "cell_type": "markdown",
   "id": "1090117a-f383-466c-82b8-014aa4f6fab6",
   "metadata": {},
   "source": [
    "***"
   ]
  },
  {
   "cell_type": "markdown",
   "id": "3dfddaf5-bd50-4bef-8f69-8e24ce18d95c",
   "metadata": {
    "tags": []
   },
   "source": [
    "# Your Write-up\n",
    "\n",
    "- Use Markdown and elegant formats as a professional report. You can include the plots, but do not include code in thie write-up (it is like a report on what you found and how you addressed the task)."
   ]
  },
  {
   "cell_type": "markdown",
   "id": "00654a5f-fa3c-4ba3-817c-b2ffcd113e28",
   "metadata": {},
   "source": []
  },
  {
   "cell_type": "markdown",
   "id": "6b7923f5-20ea-47f0-a4b3-f19fc6e2c46e",
   "metadata": {},
   "source": []
  },
  {
   "cell_type": "markdown",
   "id": "715ac9d8-f182-4667-adf1-e6ec8ad60315",
   "metadata": {},
   "source": []
  },
  {
   "cell_type": "markdown",
   "id": "a0e15efa-7d08-4b9d-9260-b24ebaee1cb3",
   "metadata": {},
   "source": []
  },
  {
   "cell_type": "markdown",
   "id": "324594c3-0bea-4930-8735-cd4424f7f6be",
   "metadata": {},
   "source": []
  },
  {
   "cell_type": "markdown",
   "id": "34f02f7e-e33f-4dfd-b207-5e3e45866491",
   "metadata": {},
   "source": []
  }
 ],
 "metadata": {
  "kernelspec": {
   "display_name": "Python 3 (ipykernel)",
   "language": "python",
   "name": "python3"
  },
  "language_info": {
   "codemirror_mode": {
    "name": "ipython",
    "version": 3
   },
   "file_extension": ".py",
   "mimetype": "text/x-python",
   "name": "python",
   "nbconvert_exporter": "python",
   "pygments_lexer": "ipython3",
   "version": "3.9.13"
  }
 },
 "nbformat": 4,
 "nbformat_minor": 5
}
